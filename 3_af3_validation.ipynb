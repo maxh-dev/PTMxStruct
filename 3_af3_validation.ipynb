{
 "cells": [
  {
   "cell_type": "code",
   "execution_count": 1,
   "id": "fda1895e",
   "metadata": {},
   "outputs": [
    {
     "name": "stderr",
     "output_type": "stream",
     "text": [
      "/home/max/ma_thesis/code/code_submission/analysis/venv/lib/python3.9/site-packages/tqdm/auto.py:21: TqdmWarning: IProgress not found. Please update jupyter and ipywidgets. See https://ipywidgets.readthedocs.io/en/stable/user_install.html\n",
      "  from .autonotebook import tqdm as notebook_tqdm\n"
     ]
    },
    {
     "name": "stdout",
     "output_type": "stream",
     "text": [
      "2025-07-07 10:05:29> netCDF4 is not available. Writing AMBER ncdf files will be slow.\n"
     ]
    }
   ],
   "source": [
    "import os \n",
    "import pandas as pd \n",
    "import numpy as np \n",
    "import re\n",
    "import plotly.express as px\n",
    "from tqdm import tqdm\n",
    "import json \n",
    "import shutil\n",
    "import scipy\n",
    "import plotly.graph_objects as go\n",
    "\n",
    "from structuremap.processing import get_smooth_score\n",
    "from ptmstruct import overview\n",
    "from ptmstruct import enrichment\n",
    "from ptmstruct import significant_ptms\n",
    "from ptmstruct import ptm_cooccurence\n",
    "\n",
    "from ptmstruct.structural_comparison import af3_job_creation\n",
    "from ptmstruct.structural_comparison import af3_processing\n",
    "from ptmstruct.structural_comparison import preprocessing\n",
    "from ptmstruct.structural_comparison import structural_comparison_analysis \n",
    "from ptmstruct.structural_comparison import structure_comparison\n",
    "\n",
    "from structuremap.processing import (\n",
    "    download_alphafold_cif,\n",
    "    download_alphafold_pae,\n",
    "    format_alphafold_data,\n",
    "    annotate_accessibility,\n",
    "    get_smooth_score,\n",
    "    annotate_proteins_with_idr_pattern,\n",
    "    get_extended_flexible_pattern\n",
    ")"
   ]
  },
  {
   "cell_type": "code",
   "execution_count": 2,
   "id": "a377b2a9",
   "metadata": {},
   "outputs": [],
   "source": [
    "proteins_mod = ['2giv', '2i2z', '2ou2', '2ozu', '2x25', '2x2c', '2ybg', '3qah', '4r5a', '4rj3', '4zwi', '5j8c', '6ba2', '6ba4', '6ct2', '6maj', '6mak', '6oin', '6v8n', '7d0o', '8dd5']\n",
    "proteins_no_mod = ['12ca', '133l', '1a28', '1a3k', '1a6q', '1a7s', '1a8e', '1a8f', '1a9u', '1ad6', '1ads', '1ae5', '1akz', '1anw', '1ao3', '1ao6', '1atk', '1atz']\n"
   ]
  },
  {
   "cell_type": "markdown",
   "id": "6d3f1f69",
   "metadata": {},
   "source": [
    "### Create pPSE DF for experimental structures"
   ]
  },
  {
   "cell_type": "code",
   "execution_count": 3,
   "id": "cc001ad2",
   "metadata": {},
   "outputs": [],
   "source": [
    "import Bio\n",
    "\n",
    "def split_structure_df(struct_df):\n",
    "    last_pos = 0\n",
    "    break_point = None\n",
    "    for i, row in struct_df.iterrows():\n",
    "        if row[\"position\"] < last_pos:\n",
    "            break_point = i\n",
    "            break\n",
    "        last_pos = row[\"position\"]\n",
    "\n",
    "    if break_point:\n",
    "        struct_df = struct_df.head(break_point)\n",
    "\n",
    "    return struct_df\n",
    "\n",
    "def format_experimental_structural_data(\n",
    "    directory: str,\n",
    "    protein_ids: list,\n",
    "    protein_start_number = 0\n",
    ") -> pd.DataFrame:\n",
    "    # adapted from structuremap.processing.format_alphafold_data\n",
    "    alphafold_annotation_l = []\n",
    "    protein_number = protein_start_number\n",
    "\n",
    "    for file in tqdm(sorted(os.listdir(directory))):\n",
    "\n",
    "        if file.endswith(\"cif\"):\n",
    "            filepath = os.path.join(directory, file)\n",
    "\n",
    "            protein_id = re.sub(r'.cif', '', file)\n",
    "\n",
    "            if ((protein_id in protein_ids) or (len(protein_ids) == 0)):#\n",
    "\n",
    "                protein_number += 1\n",
    "\n",
    "                structure = Bio.PDB.MMCIF2Dict.MMCIF2Dict(filepath)\n",
    "\n",
    "                df = pd.DataFrame({'protein_id': f\"{protein_id}_org\",\n",
    "                                   'protein_number': protein_number,\n",
    "                                   'AA': structure['_atom_site.label_comp_id'],\n",
    "                                   'position': structure['_atom_site.label_seq_id'],\n",
    "                                   'quality': structure['_atom_site.B_iso_or_equiv'],\n",
    "                                   'atom_id': structure['_atom_site.label_atom_id'],\n",
    "                                   'x_coord': structure['_atom_site.Cartn_x'],\n",
    "                                   'y_coord': structure['_atom_site.Cartn_y'],\n",
    "                                   'z_coord': structure['_atom_site.Cartn_z']})\n",
    "\n",
    "                df = df[df.atom_id.isin(['CA', 'CB', 'C', 'N'])].reset_index(drop=True)\n",
    "\n",
    "                # Convert coordinate columns to numeric\n",
    "                df[['x_coord', 'y_coord', 'z_coord']] = df[['x_coord', 'y_coord', 'z_coord']].apply(pd.to_numeric)\n",
    "                \n",
    "                df = df[df['position'].apply(lambda x: str(x).isdigit())]\n",
    "                df['position'] = df['position'].astype(int)\n",
    "\n",
    "                df = split_structure_df(df)\n",
    "\n",
    "                # Average duplicates\n",
    "                grouped = df.groupby(['protein_id', 'protein_number', 'AA', 'position', 'atom_id'], as_index=False)[['x_coord', 'y_coord', 'z_coord']].mean()\n",
    "\n",
    "                # Pivot so each atom type has its own set of columns\n",
    "                df_wide = grouped.pivot_table(index=['protein_id', 'protein_number', 'AA', 'position'],\n",
    "                                            columns='atom_id',\n",
    "                                            values=['x_coord', 'y_coord', 'z_coord'])\n",
    "\n",
    "                # Flatten MultiIndex columns\n",
    "                df_wide.columns = [f'{coord}_{atom.lower()}' for coord, atom in df_wide.columns]\n",
    "                df_wide = df_wide.reset_index()\n",
    "\n",
    "                alphafold_annotation_l.append(df_wide)\n",
    "\n",
    "    alphafold_annotation = pd.concat(alphafold_annotation_l)\n",
    "    alphafold_annotation = alphafold_annotation.sort_values(\n",
    "        by=['protein_number', 'position']).reset_index(drop=True)\n",
    "    return(alphafold_annotation)\n",
    "\n",
    "\n",
    "def annotate_pPSE_values(alphafold_annotation, pae_dir):\n",
    "    full_sphere_exposure = annotate_accessibility(\n",
    "        df=alphafold_annotation,\n",
    "        max_dist=24,\n",
    "        max_angle=180,\n",
    "        error_dir=pae_dir)\n",
    "\n",
    "    alphafold_accessibility = alphafold_annotation.merge(\n",
    "        full_sphere_exposure, how='left', on=['protein_id', 'AA', 'position'])\n",
    "\n",
    "    part_sphere_exposure = annotate_accessibility(\n",
    "        df=alphafold_annotation,\n",
    "        max_dist=12,\n",
    "        max_angle=70,\n",
    "        error_dir=pae_dir)\n",
    "\n",
    "    alphafold_accessibility = alphafold_accessibility.merge(\n",
    "        part_sphere_exposure, how='left', on=['protein_id', 'AA', 'position'])\n",
    "    \n",
    "    alphafold_accessibility.rename(columns={'nAA_12_70_nopae': 'nAA_12_70_pae', 'nAA_24_180_nopae': 'nAA_24_180_pae'}, inplace=True)\n",
    "\n",
    "    alphafold_accessibility['high_acc_5'] = np.where(alphafold_accessibility.nAA_12_70_pae <= 5, 1, 0)\n",
    "    alphafold_accessibility['low_acc_5'] = np.where(alphafold_accessibility.nAA_12_70_pae > 5, 1, 0)\n",
    "\n",
    "    return alphafold_accessibility"
   ]
  },
  {
   "cell_type": "code",
   "execution_count": 4,
   "id": "c2022990",
   "metadata": {},
   "outputs": [
    {
     "name": "stderr",
     "output_type": "stream",
     "text": [
      "100%|██████████| 18/18 [00:07<00:00,  2.57it/s]\n",
      "100%|██████████| 21/21 [00:09<00:00,  2.32it/s]\n"
     ]
    },
    {
     "data": {
      "text/html": [
       "<div>\n",
       "<style scoped>\n",
       "    .dataframe tbody tr th:only-of-type {\n",
       "        vertical-align: middle;\n",
       "    }\n",
       "\n",
       "    .dataframe tbody tr th {\n",
       "        vertical-align: top;\n",
       "    }\n",
       "\n",
       "    .dataframe thead th {\n",
       "        text-align: right;\n",
       "    }\n",
       "</style>\n",
       "<table border=\"1\" class=\"dataframe\">\n",
       "  <thead>\n",
       "    <tr style=\"text-align: right;\">\n",
       "      <th></th>\n",
       "      <th>protein_id</th>\n",
       "      <th>protein_number</th>\n",
       "      <th>AA</th>\n",
       "      <th>position</th>\n",
       "      <th>x_coord_c</th>\n",
       "      <th>x_coord_ca</th>\n",
       "      <th>x_coord_cb</th>\n",
       "      <th>x_coord_n</th>\n",
       "      <th>y_coord_c</th>\n",
       "      <th>y_coord_ca</th>\n",
       "      <th>y_coord_cb</th>\n",
       "      <th>y_coord_n</th>\n",
       "      <th>z_coord_c</th>\n",
       "      <th>z_coord_ca</th>\n",
       "      <th>z_coord_cb</th>\n",
       "      <th>z_coord_n</th>\n",
       "    </tr>\n",
       "  </thead>\n",
       "  <tbody>\n",
       "    <tr>\n",
       "      <th>0</th>\n",
       "      <td>12ca_org</td>\n",
       "      <td>1</td>\n",
       "      <td>TRP</td>\n",
       "      <td>5</td>\n",
       "      <td>6.786</td>\n",
       "      <td>7.743</td>\n",
       "      <td>6.997</td>\n",
       "      <td>8.519</td>\n",
       "      <td>-2.502</td>\n",
       "      <td>-1.668</td>\n",
       "      <td>-0.917</td>\n",
       "      <td>-0.751</td>\n",
       "      <td>10.667</td>\n",
       "      <td>11.585</td>\n",
       "      <td>12.645</td>\n",
       "      <td>10.738</td>\n",
       "    </tr>\n",
       "    <tr>\n",
       "      <th>1</th>\n",
       "      <td>12ca_org</td>\n",
       "      <td>1</td>\n",
       "      <td>GLY</td>\n",
       "      <td>6</td>\n",
       "      <td>5.114</td>\n",
       "      <td>5.499</td>\n",
       "      <td>NaN</td>\n",
       "      <td>6.426</td>\n",
       "      <td>-5.671</td>\n",
       "      <td>-4.587</td>\n",
       "      <td>NaN</td>\n",
       "      <td>-3.670</td>\n",
       "      <td>11.515</td>\n",
       "      <td>10.526</td>\n",
       "      <td>NaN</td>\n",
       "      <td>11.232</td>\n",
       "    </tr>\n",
       "    <tr>\n",
       "      <th>2</th>\n",
       "      <td>12ca_org</td>\n",
       "      <td>1</td>\n",
       "      <td>TYR</td>\n",
       "      <td>7</td>\n",
       "      <td>5.388</td>\n",
       "      <td>4.509</td>\n",
       "      <td>2.990</td>\n",
       "      <td>4.901</td>\n",
       "      <td>-9.257</td>\n",
       "      <td>-8.048</td>\n",
       "      <td>-8.298</td>\n",
       "      <td>-6.881</td>\n",
       "      <td>11.444</td>\n",
       "      <td>11.868</td>\n",
       "      <td>11.797</td>\n",
       "      <td>11.020</td>\n",
       "    </tr>\n",
       "    <tr>\n",
       "      <th>3</th>\n",
       "      <td>12ca_org</td>\n",
       "      <td>1</td>\n",
       "      <td>GLY</td>\n",
       "      <td>8</td>\n",
       "      <td>8.377</td>\n",
       "      <td>7.433</td>\n",
       "      <td>NaN</td>\n",
       "      <td>6.426</td>\n",
       "      <td>-10.300</td>\n",
       "      <td>-9.925</td>\n",
       "      <td>NaN</td>\n",
       "      <td>-8.966</td>\n",
       "      <td>11.444</td>\n",
       "      <td>10.314</td>\n",
       "      <td>NaN</td>\n",
       "      <td>10.738</td>\n",
       "    </tr>\n",
       "    <tr>\n",
       "      <th>4</th>\n",
       "      <td>12ca_org</td>\n",
       "      <td>1</td>\n",
       "      <td>LYS</td>\n",
       "      <td>9</td>\n",
       "      <td>11.218</td>\n",
       "      <td>10.243</td>\n",
       "      <td>11.012</td>\n",
       "      <td>9.262</td>\n",
       "      <td>-10.634</td>\n",
       "      <td>-11.759</td>\n",
       "      <td>-12.969</td>\n",
       "      <td>-11.259</td>\n",
       "      <td>12.504</td>\n",
       "      <td>12.151</td>\n",
       "      <td>11.656</td>\n",
       "      <td>11.162</td>\n",
       "    </tr>\n",
       "    <tr>\n",
       "      <th>...</th>\n",
       "      <td>...</td>\n",
       "      <td>...</td>\n",
       "      <td>...</td>\n",
       "      <td>...</td>\n",
       "      <td>...</td>\n",
       "      <td>...</td>\n",
       "      <td>...</td>\n",
       "      <td>...</td>\n",
       "      <td>...</td>\n",
       "      <td>...</td>\n",
       "      <td>...</td>\n",
       "      <td>...</td>\n",
       "      <td>...</td>\n",
       "      <td>...</td>\n",
       "      <td>...</td>\n",
       "      <td>...</td>\n",
       "    </tr>\n",
       "    <tr>\n",
       "      <th>5546</th>\n",
       "      <td>8dd5_org</td>\n",
       "      <td>40</td>\n",
       "      <td>ARG</td>\n",
       "      <td>277</td>\n",
       "      <td>23.893</td>\n",
       "      <td>24.037</td>\n",
       "      <td>22.931</td>\n",
       "      <td>24.108</td>\n",
       "      <td>-9.270</td>\n",
       "      <td>-8.215</td>\n",
       "      <td>-8.289</td>\n",
       "      <td>-6.884</td>\n",
       "      <td>23.723</td>\n",
       "      <td>24.771</td>\n",
       "      <td>25.811</td>\n",
       "      <td>24.178</td>\n",
       "    </tr>\n",
       "    <tr>\n",
       "      <th>5547</th>\n",
       "      <td>8dd5_org</td>\n",
       "      <td>40</td>\n",
       "      <td>TRP</td>\n",
       "      <td>278</td>\n",
       "      <td>22.689</td>\n",
       "      <td>23.063</td>\n",
       "      <td>22.091</td>\n",
       "      <td>23.242</td>\n",
       "      <td>-8.884</td>\n",
       "      <td>-9.716</td>\n",
       "      <td>-10.855</td>\n",
       "      <td>-8.887</td>\n",
       "      <td>20.258</td>\n",
       "      <td>21.482</td>\n",
       "      <td>21.784</td>\n",
       "      <td>22.630</td>\n",
       "    </tr>\n",
       "    <tr>\n",
       "      <th>5548</th>\n",
       "      <td>8dd5_org</td>\n",
       "      <td>40</td>\n",
       "      <td>THR</td>\n",
       "      <td>279</td>\n",
       "      <td>22.855</td>\n",
       "      <td>23.241</td>\n",
       "      <td>24.571</td>\n",
       "      <td>23.401</td>\n",
       "      <td>-9.622</td>\n",
       "      <td>-8.524</td>\n",
       "      <td>-7.837</td>\n",
       "      <td>-9.144</td>\n",
       "      <td>16.806</td>\n",
       "      <td>17.827</td>\n",
       "      <td>17.453</td>\n",
       "      <td>19.145</td>\n",
       "    </tr>\n",
       "    <tr>\n",
       "      <th>5549</th>\n",
       "      <td>8dd5_org</td>\n",
       "      <td>40</td>\n",
       "      <td>PRO</td>\n",
       "      <td>280</td>\n",
       "      <td>22.819</td>\n",
       "      <td>21.690</td>\n",
       "      <td>20.487</td>\n",
       "      <td>22.033</td>\n",
       "      <td>-10.890</td>\n",
       "      <td>-10.435</td>\n",
       "      <td>-9.870</td>\n",
       "      <td>-9.355</td>\n",
       "      <td>13.838</td>\n",
       "      <td>14.799</td>\n",
       "      <td>14.039</td>\n",
       "      <td>15.759</td>\n",
       "    </tr>\n",
       "    <tr>\n",
       "      <th>5550</th>\n",
       "      <td>8dd5_org</td>\n",
       "      <td>40</td>\n",
       "      <td>VAL</td>\n",
       "      <td>281</td>\n",
       "      <td>22.493</td>\n",
       "      <td>23.391</td>\n",
       "      <td>24.260</td>\n",
       "      <td>22.516</td>\n",
       "      <td>-13.010</td>\n",
       "      <td>-12.537</td>\n",
       "      <td>-13.690</td>\n",
       "      <td>-11.935</td>\n",
       "      <td>10.838</td>\n",
       "      <td>12.012</td>\n",
       "      <td>12.602</td>\n",
       "      <td>13.030</td>\n",
       "    </tr>\n",
       "  </tbody>\n",
       "</table>\n",
       "<p>10346 rows × 16 columns</p>\n",
       "</div>"
      ],
      "text/plain": [
       "     protein_id  protein_number   AA  position  x_coord_c  x_coord_ca  \\\n",
       "0      12ca_org               1  TRP         5      6.786       7.743   \n",
       "1      12ca_org               1  GLY         6      5.114       5.499   \n",
       "2      12ca_org               1  TYR         7      5.388       4.509   \n",
       "3      12ca_org               1  GLY         8      8.377       7.433   \n",
       "4      12ca_org               1  LYS         9     11.218      10.243   \n",
       "...         ...             ...  ...       ...        ...         ...   \n",
       "5546   8dd5_org              40  ARG       277     23.893      24.037   \n",
       "5547   8dd5_org              40  TRP       278     22.689      23.063   \n",
       "5548   8dd5_org              40  THR       279     22.855      23.241   \n",
       "5549   8dd5_org              40  PRO       280     22.819      21.690   \n",
       "5550   8dd5_org              40  VAL       281     22.493      23.391   \n",
       "\n",
       "      x_coord_cb  x_coord_n  y_coord_c  y_coord_ca  y_coord_cb  y_coord_n  \\\n",
       "0          6.997      8.519     -2.502      -1.668      -0.917     -0.751   \n",
       "1            NaN      6.426     -5.671      -4.587         NaN     -3.670   \n",
       "2          2.990      4.901     -9.257      -8.048      -8.298     -6.881   \n",
       "3            NaN      6.426    -10.300      -9.925         NaN     -8.966   \n",
       "4         11.012      9.262    -10.634     -11.759     -12.969    -11.259   \n",
       "...          ...        ...        ...         ...         ...        ...   \n",
       "5546      22.931     24.108     -9.270      -8.215      -8.289     -6.884   \n",
       "5547      22.091     23.242     -8.884      -9.716     -10.855     -8.887   \n",
       "5548      24.571     23.401     -9.622      -8.524      -7.837     -9.144   \n",
       "5549      20.487     22.033    -10.890     -10.435      -9.870     -9.355   \n",
       "5550      24.260     22.516    -13.010     -12.537     -13.690    -11.935   \n",
       "\n",
       "      z_coord_c  z_coord_ca  z_coord_cb  z_coord_n  \n",
       "0        10.667      11.585      12.645     10.738  \n",
       "1        11.515      10.526         NaN     11.232  \n",
       "2        11.444      11.868      11.797     11.020  \n",
       "3        11.444      10.314         NaN     10.738  \n",
       "4        12.504      12.151      11.656     11.162  \n",
       "...         ...         ...         ...        ...  \n",
       "5546     23.723      24.771      25.811     24.178  \n",
       "5547     20.258      21.482      21.784     22.630  \n",
       "5548     16.806      17.827      17.453     19.145  \n",
       "5549     13.838      14.799      14.039     15.759  \n",
       "5550     10.838      12.012      12.602     13.030  \n",
       "\n",
       "[10346 rows x 16 columns]"
      ]
     },
     "execution_count": 4,
     "metadata": {},
     "output_type": "execute_result"
    }
   ],
   "source": [
    "alphafold_annotation_1 = format_experimental_structural_data(directory = \"data/af3_validation/org_cif/no_mod\", protein_ids = proteins_no_mod)\n",
    "alphafold_annotation_2 = format_experimental_structural_data(directory = \"data/af3_validation/org_cif/mod\", protein_ids = proteins_mod, protein_start_number=19)\n",
    "alphafold_annotation = pd.concat([alphafold_annotation_1, alphafold_annotation_2])\n",
    "alphafold_annotation"
   ]
  },
  {
   "cell_type": "code",
   "execution_count": 5,
   "id": "f05a36a6",
   "metadata": {},
   "outputs": [
    {
     "name": "stderr",
     "output_type": "stream",
     "text": [
      "  0%|          | 0/39 [00:00<?, ?it/s]"
     ]
    },
    {
     "name": "stderr",
     "output_type": "stream",
     "text": [
      "100%|██████████| 39/39 [00:05<00:00,  6.54it/s]\n",
      "100%|██████████| 39/39 [00:00<00:00, 200.86it/s]\n",
      "100%|██████████| 39/39 [00:00<00:00, 79.58it/s]\n",
      "100%|██████████| 39/39 [00:00<00:00, 740.10it/s]\n",
      "100%|██████████| 39/39 [00:00<00:00, 651.31it/s]\n",
      "100%|██████████| 39/39 [00:01<00:00, 34.10it/s]\n"
     ]
    }
   ],
   "source": [
    "alphafold_accessibility = annotate_pPSE_values(alphafold_annotation, None)\n",
    "alphafold_accessibility_smooth = preprocessing.annotate_IDRs(alphafold_accessibility)\n",
    "df_org_ppse = preprocessing.annotate_short_IDRs(alphafold_accessibility_smooth)"
   ]
  },
  {
   "cell_type": "markdown",
   "id": "20bb5bc7",
   "metadata": {},
   "source": [
    "### Create Af3 Jobs for experimental structures"
   ]
  },
  {
   "cell_type": "code",
   "execution_count": 6,
   "id": "c7acb947",
   "metadata": {},
   "outputs": [
    {
     "name": "stdout",
     "output_type": "stream",
     "text": [
      "For 12ca_org: No Mod, just inlcuding original\n",
      "For 133l_org: No Mod, just inlcuding original\n",
      "For 1a28_org: No Mod, just inlcuding original\n",
      "For 1a3k_org: No Mod, just inlcuding original\n",
      "For 1a6q_org: No Mod, just inlcuding original\n",
      "For 1a7s_org: No Mod, just inlcuding original\n",
      "For 1a8e_org: No Mod, just inlcuding original\n",
      "For 1a8f_org: No Mod, just inlcuding original\n",
      "For 1a9u_org: No Mod, just inlcuding original\n",
      "For 1ad6_org: No Mod, just inlcuding original\n",
      "For 1ads_org: No Mod, just inlcuding original\n",
      "For 1ae5_org: No Mod, just inlcuding original\n",
      "For 1akz_org: No Mod, just inlcuding original\n",
      "For 1anw_org: No Mod, just inlcuding original\n",
      "For 1ao3_org: No Mod, just inlcuding original\n",
      "For 1ao6_org: No Mod, just inlcuding original\n",
      "For 1atk_org: No Mod, just inlcuding original\n",
      "For 1atz_org: No Mod, just inlcuding original\n",
      "For 2x2c_org: No Mod, just inlcuding original\n",
      "{'syscomp_job_12ca': '12CA', 'syscomp_job_133l': '133L', 'syscomp_job_1a28': '1A28', 'syscomp_job_1a3k': '1A3K', 'syscomp_job_1a6q': '1A6Q', 'syscomp_job_1a7s': '1A7S', 'syscomp_job_1a8e': '1A8E', 'syscomp_job_1a8f': '1A8F', 'syscomp_job_1a9u': '1A9U', 'syscomp_job_1ad6': '1AD6', 'syscomp_job_1ads': '1ADS', 'syscomp_job_1ae5': '1AE5', 'syscomp_job_1akz': '1AKZ', 'syscomp_job_1anw': '1ANW', 'syscomp_job_1ao3': '1AO3', 'syscomp_job_1ao6': '1AO6', 'syscomp_job_1atk': '1ATK', 'syscomp_job_1atz': '1ATZ', 'syscomp_job_2giv': '2GIV', 'syscomp_job_2i2z': '2I2Z', 'syscomp_job_2ou2': '2OU2', 'syscomp_job_2ozu': '2OZU', 'syscomp_job_2x25': '2X25', 'syscomp_job_2x2c': '2X2C', 'syscomp_job_2ybg': '2YBG', 'syscomp_job_3qah': '3QAH', 'syscomp_job_4r5a': '4R5A', 'syscomp_job_4rj3': '4RJ3', 'syscomp_job_4zwi': '4ZWI', 'syscomp_job_5j8c': '5J8C', 'syscomp_job_6ba2': '6BA2', 'syscomp_job_6ba4': '6BA4', 'syscomp_job_6ct2': '6CT2', 'syscomp_job_6maj': '6MAJ', 'syscomp_job_6mak': '6MAK', 'syscomp_job_6oin': '6OIN', 'syscomp_job_6v8n': '6V8N', 'syscomp_job_7d0o': '7D0O', 'syscomp_job_8dd5': '8DD5', 'syscomp_job_2giv_ac_k_98': '2GIV_ac_K_98', 'syscomp_job_2i2z_ac_k_197': '2I2Z_ac_K_197', 'syscomp_job_2ou2_ac_k_98': '2OU2_ac_K_98', 'syscomp_job_2ozu_ac_k_98': '2OZU_ac_K_98', 'syscomp_job_2x25_ac_k_129': '2X25_ac_K_129', 'syscomp_job_2ybg_ac_k_25': '2YBG_ac_K_25', 'syscomp_job_3qah_ac_k_99': '3QAH_ac_K_99', 'syscomp_job_4r5a_ac_k_153': '4R5A_ac_K_153', 'syscomp_job_4rj3_ac_k_33': '4RJ3_ac_K_33', 'syscomp_job_4zwi_ac_k_109': '4ZWI_ac_K_109', 'syscomp_job_5j8c_ac_k_100': '5J8C_ac_K_100', 'syscomp_job_6ba2_ac_k_98': '6BA2_ac_K_98', 'syscomp_job_6ba4_ac_k_98': '6BA4_ac_K_98', 'syscomp_job_6ct2_ac_k_99': '6CT2_ac_K_99', 'syscomp_job_6maj_ac_k_98': '6MAJ_ac_K_98', 'syscomp_job_6mak_ac_k_97': '6MAK_ac_K_97', 'syscomp_job_6oin_ac_k_98': '6OIN_ac_K_98', 'syscomp_job_6v8n_ac_k_49': '6V8N_ac_K_49', 'syscomp_job_7d0o_ac_k_97': '7D0O_ac_K_97', 'syscomp_job_8dd5_ac_k_97': '8DD5_ac_K_97'}\n",
      "[('2GIV_ac_K_98', '2GIV'), ('2I2Z_ac_K_197', '2I2Z'), ('2OU2_ac_K_98', '2OU2'), ('2OZU_ac_K_98', '2OZU'), ('2X25_ac_K_129', '2X25'), ('2YBG_ac_K_25', '2YBG'), ('3QAH_ac_K_99', '3QAH'), ('4R5A_ac_K_153', '4R5A'), ('4RJ3_ac_K_33', '4RJ3'), ('4ZWI_ac_K_109', '4ZWI'), ('5J8C_ac_K_100', '5J8C'), ('6BA2_ac_K_98', '6BA2'), ('6BA4_ac_K_98', '6BA4'), ('6CT2_ac_K_99', '6CT2'), ('6MAJ_ac_K_98', '6MAJ'), ('6MAK_ac_K_97', '6MAK'), ('6OIN_ac_K_98', '6OIN'), ('6V8N_ac_K_49', '6V8N'), ('7D0O_ac_K_97', '7D0O'), ('8DD5_ac_K_97', '8DD5')]\n"
     ]
    }
   ],
   "source": [
    "three_to_one = {\n",
    "    'ALA': 'A', 'ARG': 'R', 'ASN': 'N', 'ASP': 'D',\n",
    "    'CYS': 'C', 'GLN': 'Q', 'GLU': 'E', 'GLY': 'G',\n",
    "    'HIS': 'H', 'ILE': 'I', 'LEU': 'L', 'LYS': 'K',\n",
    "    'MET': 'M', 'PHE': 'F', 'PRO': 'P', 'SER': 'S',\n",
    "    'THR': 'T', 'TRP': 'W', 'TYR': 'Y', 'VAL': 'V',\n",
    "    'SEC': 'U', 'PYL': 'O', 'ASX': 'B', 'GLX': 'Z',\n",
    "    'XLE': 'J', 'XAA': 'X', 'ALY': 'K'  # ALY (acetyl-lysine), treated as lysine\n",
    "}\n",
    "\n",
    "org_aa_dict = (\n",
    "    df_org_ppse\n",
    "    .groupby('protein_id')['AA']\n",
    "    .apply(list)\n",
    "    .to_dict()\n",
    ")\n",
    "\n",
    "job_requests = []\n",
    "structure_reference_dict = {\"present\":{}}\n",
    "\n",
    "length_comp_dict = {\n",
    "    \"mod\": [],\n",
    "    \"no_mod\": []\n",
    "}\n",
    "\n",
    "for elem in org_aa_dict:\n",
    "    indexes = [i for i, x in enumerate(org_aa_dict[elem]) if x == 'ALY']\n",
    "    org_aa_str = ''.join(three_to_one.get(aa, 'X') for aa in org_aa_dict[elem])\n",
    "\n",
    "    if len(indexes) > 1:\n",
    "        print(\"Error, more than one Mod, skipping\")\n",
    "        continue\n",
    "\n",
    "    name = elem.split(\"_\")[0].upper()\n",
    "\n",
    "    if len(indexes) == 0:\n",
    "        print(f\"For {elem}: No Mod, just inlcuding original\")\n",
    "        job_requests.append(\n",
    "            (name, [])\n",
    "        )\n",
    "        structure_reference_dict[\"present\"][name] = {'sequence':org_aa_str}\n",
    "        length_comp_dict[\"no_mod\"].append(len(org_aa_str))\n",
    "        continue\n",
    "\n",
    "    job_requests.append(\n",
    "        (name, [(indexes[0] + 1, \"K\", \"ac\")])\n",
    "    )\n",
    "    structure_reference_dict[\"present\"][name] = {'sequence':org_aa_str}\n",
    "    length_comp_dict[\"mod\"].append(len(org_aa_str))\n",
    "\n",
    "job_dict, name_napping, comparisons = af3_job_creation.create_af3_comparison_jobs(job_requests, structure_reference_dict)\n",
    "#with open(\"data/structural_validation_2/af3_comparison_nomod_job.json\", \"w\") as json_file:\n",
    "#    json.dump(job_dict, json_file, indent=4)\n",
    "\n",
    "print(name_napping)\n",
    "print(comparisons) \n",
    "    "
   ]
  },
  {
   "cell_type": "code",
   "execution_count": 8,
   "id": "146fd960",
   "metadata": {},
   "outputs": [
    {
     "name": "stdout",
     "output_type": "stream",
     "text": [
      "Median length mod  270.0\n",
      "Median length no_mod  223.0\n"
     ]
    }
   ],
   "source": [
    "print(\"Median length mod \", np.median(np.array(length_comp_dict[\"mod\"])))\n",
    "print(\"Median length no_mod \", np.median(np.array(length_comp_dict[\"no_mod\"])))"
   ]
  },
  {
   "cell_type": "markdown",
   "id": "bb9e2707",
   "metadata": {},
   "source": [
    "### Process Af3 results"
   ]
  },
  {
   "cell_type": "code",
   "execution_count": 7,
   "id": "28640997",
   "metadata": {},
   "outputs": [
    {
     "name": "stdout",
     "output_type": "stream",
     "text": [
      "Directory 'data/af3_validation/pae' already existed and was deleted.\n",
      "Directory 'data/af3_validation/cif' already existed and was deleted.\n"
     ]
    },
    {
     "name": "stderr",
     "output_type": "stream",
     "text": [
      "Converting Af3 predictions: 100%|██████████| 58/58 [02:50<00:00,  2.93s/it]\n",
      "  0%|          | 0/290 [00:00<?, ?it/s]/home/max/ma_thesis/code/code_submission/analysis/ptmstruct/structural_comparison/preprocessing.py:133: FutureWarning: errors='ignore' is deprecated and will raise in a future version. Use to_numeric without passing `errors` and catch exceptions explicitly instead\n",
      "  df = df.apply(pd.to_numeric, errors='ignore')\n",
      "  0%|          | 1/290 [00:00<00:38,  7.43it/s]/home/max/ma_thesis/code/code_submission/analysis/ptmstruct/structural_comparison/preprocessing.py:133: FutureWarning: errors='ignore' is deprecated and will raise in a future version. Use to_numeric without passing `errors` and catch exceptions explicitly instead\n",
      "  df = df.apply(pd.to_numeric, errors='ignore')\n",
      "  1%|          | 2/290 [00:00<00:38,  7.57it/s]/home/max/ma_thesis/code/code_submission/analysis/ptmstruct/structural_comparison/preprocessing.py:133: FutureWarning: errors='ignore' is deprecated and will raise in a future version. Use to_numeric without passing `errors` and catch exceptions explicitly instead\n",
      "  df = df.apply(pd.to_numeric, errors='ignore')\n",
      "  1%|          | 3/290 [00:00<00:36,  7.96it/s]/home/max/ma_thesis/code/code_submission/analysis/ptmstruct/structural_comparison/preprocessing.py:133: FutureWarning: errors='ignore' is deprecated and will raise in a future version. Use to_numeric without passing `errors` and catch exceptions explicitly instead\n",
      "  df = df.apply(pd.to_numeric, errors='ignore')\n",
      "  1%|▏         | 4/290 [00:00<00:35,  8.07it/s]/home/max/ma_thesis/code/code_submission/analysis/ptmstruct/structural_comparison/preprocessing.py:133: FutureWarning: errors='ignore' is deprecated and will raise in a future version. Use to_numeric without passing `errors` and catch exceptions explicitly instead\n",
      "  df = df.apply(pd.to_numeric, errors='ignore')\n",
      "  2%|▏         | 5/290 [00:00<00:34,  8.21it/s]/home/max/ma_thesis/code/code_submission/analysis/ptmstruct/structural_comparison/preprocessing.py:133: FutureWarning: errors='ignore' is deprecated and will raise in a future version. Use to_numeric without passing `errors` and catch exceptions explicitly instead\n",
      "  df = df.apply(pd.to_numeric, errors='ignore')\n",
      "/home/max/ma_thesis/code/code_submission/analysis/ptmstruct/structural_comparison/preprocessing.py:133: FutureWarning: errors='ignore' is deprecated and will raise in a future version. Use to_numeric without passing `errors` and catch exceptions explicitly instead\n",
      "  df = df.apply(pd.to_numeric, errors='ignore')\n",
      "  2%|▏         | 7/290 [00:00<00:28,  9.98it/s]/home/max/ma_thesis/code/code_submission/analysis/ptmstruct/structural_comparison/preprocessing.py:133: FutureWarning: errors='ignore' is deprecated and will raise in a future version. Use to_numeric without passing `errors` and catch exceptions explicitly instead\n",
      "  df = df.apply(pd.to_numeric, errors='ignore')\n",
      "/home/max/ma_thesis/code/code_submission/analysis/ptmstruct/structural_comparison/preprocessing.py:133: FutureWarning: errors='ignore' is deprecated and will raise in a future version. Use to_numeric without passing `errors` and catch exceptions explicitly instead\n",
      "  df = df.apply(pd.to_numeric, errors='ignore')\n",
      "  3%|▎         | 9/290 [00:00<00:25, 11.17it/s]/home/max/ma_thesis/code/code_submission/analysis/ptmstruct/structural_comparison/preprocessing.py:133: FutureWarning: errors='ignore' is deprecated and will raise in a future version. Use to_numeric without passing `errors` and catch exceptions explicitly instead\n",
      "  df = df.apply(pd.to_numeric, errors='ignore')\n",
      "/home/max/ma_thesis/code/code_submission/analysis/ptmstruct/structural_comparison/preprocessing.py:133: FutureWarning: errors='ignore' is deprecated and will raise in a future version. Use to_numeric without passing `errors` and catch exceptions explicitly instead\n",
      "  df = df.apply(pd.to_numeric, errors='ignore')\n",
      "  4%|▍         | 11/290 [00:01<00:25, 10.88it/s]/home/max/ma_thesis/code/code_submission/analysis/ptmstruct/structural_comparison/preprocessing.py:133: FutureWarning: errors='ignore' is deprecated and will raise in a future version. Use to_numeric without passing `errors` and catch exceptions explicitly instead\n",
      "  df = df.apply(pd.to_numeric, errors='ignore')\n",
      "/home/max/ma_thesis/code/code_submission/analysis/ptmstruct/structural_comparison/preprocessing.py:133: FutureWarning: errors='ignore' is deprecated and will raise in a future version. Use to_numeric without passing `errors` and catch exceptions explicitly instead\n",
      "  df = df.apply(pd.to_numeric, errors='ignore')\n",
      "  4%|▍         | 13/290 [00:01<00:27,  9.92it/s]/home/max/ma_thesis/code/code_submission/analysis/ptmstruct/structural_comparison/preprocessing.py:133: FutureWarning: errors='ignore' is deprecated and will raise in a future version. Use to_numeric without passing `errors` and catch exceptions explicitly instead\n",
      "  df = df.apply(pd.to_numeric, errors='ignore')\n",
      "/home/max/ma_thesis/code/code_submission/analysis/ptmstruct/structural_comparison/preprocessing.py:133: FutureWarning: errors='ignore' is deprecated and will raise in a future version. Use to_numeric without passing `errors` and catch exceptions explicitly instead\n",
      "  df = df.apply(pd.to_numeric, errors='ignore')\n",
      "  5%|▌         | 15/290 [00:01<00:29,  9.32it/s]/home/max/ma_thesis/code/code_submission/analysis/ptmstruct/structural_comparison/preprocessing.py:133: FutureWarning: errors='ignore' is deprecated and will raise in a future version. Use to_numeric without passing `errors` and catch exceptions explicitly instead\n",
      "  df = df.apply(pd.to_numeric, errors='ignore')\n",
      "  6%|▌         | 16/290 [00:01<00:29,  9.34it/s]/home/max/ma_thesis/code/code_submission/analysis/ptmstruct/structural_comparison/preprocessing.py:133: FutureWarning: errors='ignore' is deprecated and will raise in a future version. Use to_numeric without passing `errors` and catch exceptions explicitly instead\n",
      "  df = df.apply(pd.to_numeric, errors='ignore')\n",
      "  6%|▌         | 17/290 [00:01<00:28,  9.44it/s]/home/max/ma_thesis/code/code_submission/analysis/ptmstruct/structural_comparison/preprocessing.py:133: FutureWarning: errors='ignore' is deprecated and will raise in a future version. Use to_numeric without passing `errors` and catch exceptions explicitly instead\n",
      "  df = df.apply(pd.to_numeric, errors='ignore')\n",
      "  6%|▌         | 18/290 [00:01<00:29,  9.29it/s]/home/max/ma_thesis/code/code_submission/analysis/ptmstruct/structural_comparison/preprocessing.py:133: FutureWarning: errors='ignore' is deprecated and will raise in a future version. Use to_numeric without passing `errors` and catch exceptions explicitly instead\n",
      "  df = df.apply(pd.to_numeric, errors='ignore')\n",
      "  7%|▋         | 19/290 [00:02<00:28,  9.42it/s]/home/max/ma_thesis/code/code_submission/analysis/ptmstruct/structural_comparison/preprocessing.py:133: FutureWarning: errors='ignore' is deprecated and will raise in a future version. Use to_numeric without passing `errors` and catch exceptions explicitly instead\n",
      "  df = df.apply(pd.to_numeric, errors='ignore')\n",
      "/home/max/ma_thesis/code/code_submission/analysis/ptmstruct/structural_comparison/preprocessing.py:133: FutureWarning: errors='ignore' is deprecated and will raise in a future version. Use to_numeric without passing `errors` and catch exceptions explicitly instead\n",
      "  df = df.apply(pd.to_numeric, errors='ignore')\n",
      "  7%|▋         | 21/290 [00:02<00:34,  7.84it/s]/home/max/ma_thesis/code/code_submission/analysis/ptmstruct/structural_comparison/preprocessing.py:133: FutureWarning: errors='ignore' is deprecated and will raise in a future version. Use to_numeric without passing `errors` and catch exceptions explicitly instead\n",
      "  df = df.apply(pd.to_numeric, errors='ignore')\n",
      "  8%|▊         | 22/290 [00:02<00:36,  7.33it/s]/home/max/ma_thesis/code/code_submission/analysis/ptmstruct/structural_comparison/preprocessing.py:133: FutureWarning: errors='ignore' is deprecated and will raise in a future version. Use to_numeric without passing `errors` and catch exceptions explicitly instead\n",
      "  df = df.apply(pd.to_numeric, errors='ignore')\n",
      "  8%|▊         | 23/290 [00:02<00:38,  7.02it/s]/home/max/ma_thesis/code/code_submission/analysis/ptmstruct/structural_comparison/preprocessing.py:133: FutureWarning: errors='ignore' is deprecated and will raise in a future version. Use to_numeric without passing `errors` and catch exceptions explicitly instead\n",
      "  df = df.apply(pd.to_numeric, errors='ignore')\n",
      "  8%|▊         | 24/290 [00:02<00:38,  6.91it/s]/home/max/ma_thesis/code/code_submission/analysis/ptmstruct/structural_comparison/preprocessing.py:133: FutureWarning: errors='ignore' is deprecated and will raise in a future version. Use to_numeric without passing `errors` and catch exceptions explicitly instead\n",
      "  df = df.apply(pd.to_numeric, errors='ignore')\n",
      "  9%|▊         | 25/290 [00:02<00:38,  6.89it/s]/home/max/ma_thesis/code/code_submission/analysis/ptmstruct/structural_comparison/preprocessing.py:133: FutureWarning: errors='ignore' is deprecated and will raise in a future version. Use to_numeric without passing `errors` and catch exceptions explicitly instead\n",
      "  df = df.apply(pd.to_numeric, errors='ignore')\n",
      "/home/max/ma_thesis/code/code_submission/analysis/ptmstruct/structural_comparison/preprocessing.py:133: FutureWarning: errors='ignore' is deprecated and will raise in a future version. Use to_numeric without passing `errors` and catch exceptions explicitly instead\n",
      "  df = df.apply(pd.to_numeric, errors='ignore')\n",
      "  9%|▉         | 27/290 [00:03<00:32,  8.19it/s]/home/max/ma_thesis/code/code_submission/analysis/ptmstruct/structural_comparison/preprocessing.py:133: FutureWarning: errors='ignore' is deprecated and will raise in a future version. Use to_numeric without passing `errors` and catch exceptions explicitly instead\n",
      "  df = df.apply(pd.to_numeric, errors='ignore')\n",
      "/home/max/ma_thesis/code/code_submission/analysis/ptmstruct/structural_comparison/preprocessing.py:133: FutureWarning: errors='ignore' is deprecated and will raise in a future version. Use to_numeric without passing `errors` and catch exceptions explicitly instead\n",
      "  df = df.apply(pd.to_numeric, errors='ignore')\n",
      " 10%|█         | 29/290 [00:03<00:28,  9.01it/s]/home/max/ma_thesis/code/code_submission/analysis/ptmstruct/structural_comparison/preprocessing.py:133: FutureWarning: errors='ignore' is deprecated and will raise in a future version. Use to_numeric without passing `errors` and catch exceptions explicitly instead\n",
      "  df = df.apply(pd.to_numeric, errors='ignore')\n",
      "/home/max/ma_thesis/code/code_submission/analysis/ptmstruct/structural_comparison/preprocessing.py:133: FutureWarning: errors='ignore' is deprecated and will raise in a future version. Use to_numeric without passing `errors` and catch exceptions explicitly instead\n",
      "  df = df.apply(pd.to_numeric, errors='ignore')\n",
      " 11%|█         | 31/290 [00:03<00:29,  8.73it/s]/home/max/ma_thesis/code/code_submission/analysis/ptmstruct/structural_comparison/preprocessing.py:133: FutureWarning: errors='ignore' is deprecated and will raise in a future version. Use to_numeric without passing `errors` and catch exceptions explicitly instead\n",
      "  df = df.apply(pd.to_numeric, errors='ignore')\n",
      " 11%|█         | 32/290 [00:03<00:31,  8.32it/s]/home/max/ma_thesis/code/code_submission/analysis/ptmstruct/structural_comparison/preprocessing.py:133: FutureWarning: errors='ignore' is deprecated and will raise in a future version. Use to_numeric without passing `errors` and catch exceptions explicitly instead\n",
      "  df = df.apply(pd.to_numeric, errors='ignore')\n",
      " 11%|█▏        | 33/290 [00:03<00:32,  7.86it/s]/home/max/ma_thesis/code/code_submission/analysis/ptmstruct/structural_comparison/preprocessing.py:133: FutureWarning: errors='ignore' is deprecated and will raise in a future version. Use to_numeric without passing `errors` and catch exceptions explicitly instead\n",
      "  df = df.apply(pd.to_numeric, errors='ignore')\n",
      " 12%|█▏        | 34/290 [00:04<00:34,  7.46it/s]/home/max/ma_thesis/code/code_submission/analysis/ptmstruct/structural_comparison/preprocessing.py:133: FutureWarning: errors='ignore' is deprecated and will raise in a future version. Use to_numeric without passing `errors` and catch exceptions explicitly instead\n",
      "  df = df.apply(pd.to_numeric, errors='ignore')\n",
      " 12%|█▏        | 35/290 [00:04<00:35,  7.19it/s]/home/max/ma_thesis/code/code_submission/analysis/ptmstruct/structural_comparison/preprocessing.py:133: FutureWarning: errors='ignore' is deprecated and will raise in a future version. Use to_numeric without passing `errors` and catch exceptions explicitly instead\n",
      "  df = df.apply(pd.to_numeric, errors='ignore')\n",
      " 12%|█▏        | 36/290 [00:04<00:35,  7.21it/s]/home/max/ma_thesis/code/code_submission/analysis/ptmstruct/structural_comparison/preprocessing.py:133: FutureWarning: errors='ignore' is deprecated and will raise in a future version. Use to_numeric without passing `errors` and catch exceptions explicitly instead\n",
      "  df = df.apply(pd.to_numeric, errors='ignore')\n",
      " 13%|█▎        | 37/290 [00:04<00:34,  7.24it/s]/home/max/ma_thesis/code/code_submission/analysis/ptmstruct/structural_comparison/preprocessing.py:133: FutureWarning: errors='ignore' is deprecated and will raise in a future version. Use to_numeric without passing `errors` and catch exceptions explicitly instead\n",
      "  df = df.apply(pd.to_numeric, errors='ignore')\n",
      " 13%|█▎        | 38/290 [00:04<00:34,  7.25it/s]/home/max/ma_thesis/code/code_submission/analysis/ptmstruct/structural_comparison/preprocessing.py:133: FutureWarning: errors='ignore' is deprecated and will raise in a future version. Use to_numeric without passing `errors` and catch exceptions explicitly instead\n",
      "  df = df.apply(pd.to_numeric, errors='ignore')\n",
      " 13%|█▎        | 39/290 [00:04<00:34,  7.31it/s]/home/max/ma_thesis/code/code_submission/analysis/ptmstruct/structural_comparison/preprocessing.py:133: FutureWarning: errors='ignore' is deprecated and will raise in a future version. Use to_numeric without passing `errors` and catch exceptions explicitly instead\n",
      "  df = df.apply(pd.to_numeric, errors='ignore')\n",
      " 14%|█▍        | 40/290 [00:04<00:33,  7.42it/s]/home/max/ma_thesis/code/code_submission/analysis/ptmstruct/structural_comparison/preprocessing.py:133: FutureWarning: errors='ignore' is deprecated and will raise in a future version. Use to_numeric without passing `errors` and catch exceptions explicitly instead\n",
      "  df = df.apply(pd.to_numeric, errors='ignore')\n",
      " 14%|█▍        | 41/290 [00:04<00:33,  7.39it/s]/home/max/ma_thesis/code/code_submission/analysis/ptmstruct/structural_comparison/preprocessing.py:133: FutureWarning: errors='ignore' is deprecated and will raise in a future version. Use to_numeric without passing `errors` and catch exceptions explicitly instead\n",
      "  df = df.apply(pd.to_numeric, errors='ignore')\n",
      " 14%|█▍        | 42/290 [00:05<00:33,  7.39it/s]/home/max/ma_thesis/code/code_submission/analysis/ptmstruct/structural_comparison/preprocessing.py:133: FutureWarning: errors='ignore' is deprecated and will raise in a future version. Use to_numeric without passing `errors` and catch exceptions explicitly instead\n",
      "  df = df.apply(pd.to_numeric, errors='ignore')\n",
      " 15%|█▍        | 43/290 [00:05<00:33,  7.38it/s]/home/max/ma_thesis/code/code_submission/analysis/ptmstruct/structural_comparison/preprocessing.py:133: FutureWarning: errors='ignore' is deprecated and will raise in a future version. Use to_numeric without passing `errors` and catch exceptions explicitly instead\n",
      "  df = df.apply(pd.to_numeric, errors='ignore')\n",
      " 15%|█▌        | 44/290 [00:05<00:32,  7.47it/s]/home/max/ma_thesis/code/code_submission/analysis/ptmstruct/structural_comparison/preprocessing.py:133: FutureWarning: errors='ignore' is deprecated and will raise in a future version. Use to_numeric without passing `errors` and catch exceptions explicitly instead\n",
      "  df = df.apply(pd.to_numeric, errors='ignore')\n",
      " 16%|█▌        | 45/290 [00:05<00:32,  7.48it/s]/home/max/ma_thesis/code/code_submission/analysis/ptmstruct/structural_comparison/preprocessing.py:133: FutureWarning: errors='ignore' is deprecated and will raise in a future version. Use to_numeric without passing `errors` and catch exceptions explicitly instead\n",
      "  df = df.apply(pd.to_numeric, errors='ignore')\n",
      "/home/max/ma_thesis/code/code_submission/analysis/ptmstruct/structural_comparison/preprocessing.py:133: FutureWarning: errors='ignore' is deprecated and will raise in a future version. Use to_numeric without passing `errors` and catch exceptions explicitly instead\n",
      "  df = df.apply(pd.to_numeric, errors='ignore')\n",
      " 16%|█▌        | 47/290 [00:05<00:28,  8.65it/s]/home/max/ma_thesis/code/code_submission/analysis/ptmstruct/structural_comparison/preprocessing.py:133: FutureWarning: errors='ignore' is deprecated and will raise in a future version. Use to_numeric without passing `errors` and catch exceptions explicitly instead\n",
      "  df = df.apply(pd.to_numeric, errors='ignore')\n",
      "/home/max/ma_thesis/code/code_submission/analysis/ptmstruct/structural_comparison/preprocessing.py:133: FutureWarning: errors='ignore' is deprecated and will raise in a future version. Use to_numeric without passing `errors` and catch exceptions explicitly instead\n",
      "  df = df.apply(pd.to_numeric, errors='ignore')\n",
      " 17%|█▋        | 49/290 [00:05<00:26,  9.20it/s]/home/max/ma_thesis/code/code_submission/analysis/ptmstruct/structural_comparison/preprocessing.py:133: FutureWarning: errors='ignore' is deprecated and will raise in a future version. Use to_numeric without passing `errors` and catch exceptions explicitly instead\n",
      "  df = df.apply(pd.to_numeric, errors='ignore')\n",
      "/home/max/ma_thesis/code/code_submission/analysis/ptmstruct/structural_comparison/preprocessing.py:133: FutureWarning: errors='ignore' is deprecated and will raise in a future version. Use to_numeric without passing `errors` and catch exceptions explicitly instead\n",
      "  df = df.apply(pd.to_numeric, errors='ignore')\n",
      " 18%|█▊        | 51/290 [00:06<00:27,  8.75it/s]/home/max/ma_thesis/code/code_submission/analysis/ptmstruct/structural_comparison/preprocessing.py:133: FutureWarning: errors='ignore' is deprecated and will raise in a future version. Use to_numeric without passing `errors` and catch exceptions explicitly instead\n",
      "  df = df.apply(pd.to_numeric, errors='ignore')\n",
      " 18%|█▊        | 52/290 [00:06<00:29,  8.14it/s]/home/max/ma_thesis/code/code_submission/analysis/ptmstruct/structural_comparison/preprocessing.py:133: FutureWarning: errors='ignore' is deprecated and will raise in a future version. Use to_numeric without passing `errors` and catch exceptions explicitly instead\n",
      "  df = df.apply(pd.to_numeric, errors='ignore')\n",
      " 18%|█▊        | 53/290 [00:06<00:30,  7.87it/s]/home/max/ma_thesis/code/code_submission/analysis/ptmstruct/structural_comparison/preprocessing.py:133: FutureWarning: errors='ignore' is deprecated and will raise in a future version. Use to_numeric without passing `errors` and catch exceptions explicitly instead\n",
      "  df = df.apply(pd.to_numeric, errors='ignore')\n",
      " 19%|█▊        | 54/290 [00:06<00:30,  7.70it/s]/home/max/ma_thesis/code/code_submission/analysis/ptmstruct/structural_comparison/preprocessing.py:133: FutureWarning: errors='ignore' is deprecated and will raise in a future version. Use to_numeric without passing `errors` and catch exceptions explicitly instead\n",
      "  df = df.apply(pd.to_numeric, errors='ignore')\n",
      " 19%|█▉        | 55/290 [00:06<00:30,  7.62it/s]/home/max/ma_thesis/code/code_submission/analysis/ptmstruct/structural_comparison/preprocessing.py:133: FutureWarning: errors='ignore' is deprecated and will raise in a future version. Use to_numeric without passing `errors` and catch exceptions explicitly instead\n",
      "  df = df.apply(pd.to_numeric, errors='ignore')\n",
      "/home/max/ma_thesis/code/code_submission/analysis/ptmstruct/structural_comparison/preprocessing.py:133: FutureWarning: errors='ignore' is deprecated and will raise in a future version. Use to_numeric without passing `errors` and catch exceptions explicitly instead\n",
      "  df = df.apply(pd.to_numeric, errors='ignore')\n",
      " 20%|█▉        | 57/290 [00:06<00:26,  8.74it/s]/home/max/ma_thesis/code/code_submission/analysis/ptmstruct/structural_comparison/preprocessing.py:133: FutureWarning: errors='ignore' is deprecated and will raise in a future version. Use to_numeric without passing `errors` and catch exceptions explicitly instead\n",
      "  df = df.apply(pd.to_numeric, errors='ignore')\n",
      "/home/max/ma_thesis/code/code_submission/analysis/ptmstruct/structural_comparison/preprocessing.py:133: FutureWarning: errors='ignore' is deprecated and will raise in a future version. Use to_numeric without passing `errors` and catch exceptions explicitly instead\n",
      "  df = df.apply(pd.to_numeric, errors='ignore')\n",
      " 20%|██        | 59/290 [00:07<00:24,  9.27it/s]/home/max/ma_thesis/code/code_submission/analysis/ptmstruct/structural_comparison/preprocessing.py:133: FutureWarning: errors='ignore' is deprecated and will raise in a future version. Use to_numeric without passing `errors` and catch exceptions explicitly instead\n",
      "  df = df.apply(pd.to_numeric, errors='ignore')\n",
      "/home/max/ma_thesis/code/code_submission/analysis/ptmstruct/structural_comparison/preprocessing.py:133: FutureWarning: errors='ignore' is deprecated and will raise in a future version. Use to_numeric without passing `errors` and catch exceptions explicitly instead\n",
      "  df = df.apply(pd.to_numeric, errors='ignore')\n",
      " 21%|██        | 61/290 [00:07<00:23,  9.71it/s]/home/max/ma_thesis/code/code_submission/analysis/ptmstruct/structural_comparison/preprocessing.py:133: FutureWarning: errors='ignore' is deprecated and will raise in a future version. Use to_numeric without passing `errors` and catch exceptions explicitly instead\n",
      "  df = df.apply(pd.to_numeric, errors='ignore')\n",
      " 21%|██▏       | 62/290 [00:07<00:23,  9.67it/s]/home/max/ma_thesis/code/code_submission/analysis/ptmstruct/structural_comparison/preprocessing.py:133: FutureWarning: errors='ignore' is deprecated and will raise in a future version. Use to_numeric without passing `errors` and catch exceptions explicitly instead\n",
      "  df = df.apply(pd.to_numeric, errors='ignore')\n",
      "/home/max/ma_thesis/code/code_submission/analysis/ptmstruct/structural_comparison/preprocessing.py:133: FutureWarning: errors='ignore' is deprecated and will raise in a future version. Use to_numeric without passing `errors` and catch exceptions explicitly instead\n",
      "  df = df.apply(pd.to_numeric, errors='ignore')\n",
      " 22%|██▏       | 64/290 [00:07<00:22,  9.99it/s]/home/max/ma_thesis/code/code_submission/analysis/ptmstruct/structural_comparison/preprocessing.py:133: FutureWarning: errors='ignore' is deprecated and will raise in a future version. Use to_numeric without passing `errors` and catch exceptions explicitly instead\n",
      "  df = df.apply(pd.to_numeric, errors='ignore')\n",
      "/home/max/ma_thesis/code/code_submission/analysis/ptmstruct/structural_comparison/preprocessing.py:133: FutureWarning: errors='ignore' is deprecated and will raise in a future version. Use to_numeric without passing `errors` and catch exceptions explicitly instead\n",
      "  df = df.apply(pd.to_numeric, errors='ignore')\n",
      " 23%|██▎       | 66/290 [00:07<00:24,  9.02it/s]/home/max/ma_thesis/code/code_submission/analysis/ptmstruct/structural_comparison/preprocessing.py:133: FutureWarning: errors='ignore' is deprecated and will raise in a future version. Use to_numeric without passing `errors` and catch exceptions explicitly instead\n",
      "  df = df.apply(pd.to_numeric, errors='ignore')\n",
      " 23%|██▎       | 67/290 [00:07<00:25,  8.66it/s]/home/max/ma_thesis/code/code_submission/analysis/ptmstruct/structural_comparison/preprocessing.py:133: FutureWarning: errors='ignore' is deprecated and will raise in a future version. Use to_numeric without passing `errors` and catch exceptions explicitly instead\n",
      "  df = df.apply(pd.to_numeric, errors='ignore')\n",
      " 23%|██▎       | 68/290 [00:08<00:26,  8.45it/s]/home/max/ma_thesis/code/code_submission/analysis/ptmstruct/structural_comparison/preprocessing.py:133: FutureWarning: errors='ignore' is deprecated and will raise in a future version. Use to_numeric without passing `errors` and catch exceptions explicitly instead\n",
      "  df = df.apply(pd.to_numeric, errors='ignore')\n",
      " 24%|██▍       | 69/290 [00:08<00:26,  8.29it/s]/home/max/ma_thesis/code/code_submission/analysis/ptmstruct/structural_comparison/preprocessing.py:133: FutureWarning: errors='ignore' is deprecated and will raise in a future version. Use to_numeric without passing `errors` and catch exceptions explicitly instead\n",
      "  df = df.apply(pd.to_numeric, errors='ignore')\n",
      " 24%|██▍       | 70/290 [00:08<00:27,  8.10it/s]/home/max/ma_thesis/code/code_submission/analysis/ptmstruct/structural_comparison/preprocessing.py:133: FutureWarning: errors='ignore' is deprecated and will raise in a future version. Use to_numeric without passing `errors` and catch exceptions explicitly instead\n",
      "  df = df.apply(pd.to_numeric, errors='ignore')\n",
      "/home/max/ma_thesis/code/code_submission/analysis/ptmstruct/structural_comparison/preprocessing.py:133: FutureWarning: errors='ignore' is deprecated and will raise in a future version. Use to_numeric without passing `errors` and catch exceptions explicitly instead\n",
      "  df = df.apply(pd.to_numeric, errors='ignore')\n",
      " 25%|██▍       | 72/290 [00:08<00:23,  9.20it/s]/home/max/ma_thesis/code/code_submission/analysis/ptmstruct/structural_comparison/preprocessing.py:133: FutureWarning: errors='ignore' is deprecated and will raise in a future version. Use to_numeric without passing `errors` and catch exceptions explicitly instead\n",
      "  df = df.apply(pd.to_numeric, errors='ignore')\n",
      "/home/max/ma_thesis/code/code_submission/analysis/ptmstruct/structural_comparison/preprocessing.py:133: FutureWarning: errors='ignore' is deprecated and will raise in a future version. Use to_numeric without passing `errors` and catch exceptions explicitly instead\n",
      "  df = df.apply(pd.to_numeric, errors='ignore')\n",
      " 26%|██▌       | 74/290 [00:08<00:21,  9.93it/s]/home/max/ma_thesis/code/code_submission/analysis/ptmstruct/structural_comparison/preprocessing.py:133: FutureWarning: errors='ignore' is deprecated and will raise in a future version. Use to_numeric without passing `errors` and catch exceptions explicitly instead\n",
      "  df = df.apply(pd.to_numeric, errors='ignore')\n",
      "/home/max/ma_thesis/code/code_submission/analysis/ptmstruct/structural_comparison/preprocessing.py:133: FutureWarning: errors='ignore' is deprecated and will raise in a future version. Use to_numeric without passing `errors` and catch exceptions explicitly instead\n",
      "  df = df.apply(pd.to_numeric, errors='ignore')\n",
      " 26%|██▌       | 76/290 [00:09<00:25,  8.52it/s]/home/max/ma_thesis/code/code_submission/analysis/ptmstruct/structural_comparison/preprocessing.py:133: FutureWarning: errors='ignore' is deprecated and will raise in a future version. Use to_numeric without passing `errors` and catch exceptions explicitly instead\n",
      "  df = df.apply(pd.to_numeric, errors='ignore')\n",
      " 27%|██▋       | 77/290 [00:09<00:28,  7.36it/s]/home/max/ma_thesis/code/code_submission/analysis/ptmstruct/structural_comparison/preprocessing.py:133: FutureWarning: errors='ignore' is deprecated and will raise in a future version. Use to_numeric without passing `errors` and catch exceptions explicitly instead\n",
      "  df = df.apply(pd.to_numeric, errors='ignore')\n",
      " 27%|██▋       | 78/290 [00:09<00:32,  6.60it/s]/home/max/ma_thesis/code/code_submission/analysis/ptmstruct/structural_comparison/preprocessing.py:133: FutureWarning: errors='ignore' is deprecated and will raise in a future version. Use to_numeric without passing `errors` and catch exceptions explicitly instead\n",
      "  df = df.apply(pd.to_numeric, errors='ignore')\n",
      " 27%|██▋       | 79/290 [00:09<00:35,  5.92it/s]/home/max/ma_thesis/code/code_submission/analysis/ptmstruct/structural_comparison/preprocessing.py:133: FutureWarning: errors='ignore' is deprecated and will raise in a future version. Use to_numeric without passing `errors` and catch exceptions explicitly instead\n",
      "  df = df.apply(pd.to_numeric, errors='ignore')\n",
      " 28%|██▊       | 80/290 [00:09<00:39,  5.37it/s]/home/max/ma_thesis/code/code_submission/analysis/ptmstruct/structural_comparison/preprocessing.py:133: FutureWarning: errors='ignore' is deprecated and will raise in a future version. Use to_numeric without passing `errors` and catch exceptions explicitly instead\n",
      "  df = df.apply(pd.to_numeric, errors='ignore')\n",
      " 28%|██▊       | 81/290 [00:10<00:34,  6.06it/s]/home/max/ma_thesis/code/code_submission/analysis/ptmstruct/structural_comparison/preprocessing.py:133: FutureWarning: errors='ignore' is deprecated and will raise in a future version. Use to_numeric without passing `errors` and catch exceptions explicitly instead\n",
      "  df = df.apply(pd.to_numeric, errors='ignore')\n",
      " 28%|██▊       | 82/290 [00:10<00:30,  6.77it/s]/home/max/ma_thesis/code/code_submission/analysis/ptmstruct/structural_comparison/preprocessing.py:133: FutureWarning: errors='ignore' is deprecated and will raise in a future version. Use to_numeric without passing `errors` and catch exceptions explicitly instead\n",
      "  df = df.apply(pd.to_numeric, errors='ignore')\n",
      " 29%|██▊       | 83/290 [00:10<00:28,  7.39it/s]/home/max/ma_thesis/code/code_submission/analysis/ptmstruct/structural_comparison/preprocessing.py:133: FutureWarning: errors='ignore' is deprecated and will raise in a future version. Use to_numeric without passing `errors` and catch exceptions explicitly instead\n",
      "  df = df.apply(pd.to_numeric, errors='ignore')\n",
      " 29%|██▉       | 84/290 [00:10<00:25,  7.92it/s]/home/max/ma_thesis/code/code_submission/analysis/ptmstruct/structural_comparison/preprocessing.py:133: FutureWarning: errors='ignore' is deprecated and will raise in a future version. Use to_numeric without passing `errors` and catch exceptions explicitly instead\n",
      "  df = df.apply(pd.to_numeric, errors='ignore')\n",
      "/home/max/ma_thesis/code/code_submission/analysis/ptmstruct/structural_comparison/preprocessing.py:133: FutureWarning: errors='ignore' is deprecated and will raise in a future version. Use to_numeric without passing `errors` and catch exceptions explicitly instead\n",
      "  df = df.apply(pd.to_numeric, errors='ignore')\n",
      " 30%|██▉       | 86/290 [00:10<00:22,  9.07it/s]/home/max/ma_thesis/code/code_submission/analysis/ptmstruct/structural_comparison/preprocessing.py:133: FutureWarning: errors='ignore' is deprecated and will raise in a future version. Use to_numeric without passing `errors` and catch exceptions explicitly instead\n",
      "  df = df.apply(pd.to_numeric, errors='ignore')\n",
      "/home/max/ma_thesis/code/code_submission/analysis/ptmstruct/structural_comparison/preprocessing.py:133: FutureWarning: errors='ignore' is deprecated and will raise in a future version. Use to_numeric without passing `errors` and catch exceptions explicitly instead\n",
      "  df = df.apply(pd.to_numeric, errors='ignore')\n",
      " 30%|███       | 88/290 [00:10<00:21,  9.57it/s]/home/max/ma_thesis/code/code_submission/analysis/ptmstruct/structural_comparison/preprocessing.py:133: FutureWarning: errors='ignore' is deprecated and will raise in a future version. Use to_numeric without passing `errors` and catch exceptions explicitly instead\n",
      "  df = df.apply(pd.to_numeric, errors='ignore')\n",
      "/home/max/ma_thesis/code/code_submission/analysis/ptmstruct/structural_comparison/preprocessing.py:133: FutureWarning: errors='ignore' is deprecated and will raise in a future version. Use to_numeric without passing `errors` and catch exceptions explicitly instead\n",
      "  df = df.apply(pd.to_numeric, errors='ignore')\n",
      " 31%|███       | 90/290 [00:10<00:20,  9.91it/s]/home/max/ma_thesis/code/code_submission/analysis/ptmstruct/structural_comparison/preprocessing.py:133: FutureWarning: errors='ignore' is deprecated and will raise in a future version. Use to_numeric without passing `errors` and catch exceptions explicitly instead\n",
      "  df = df.apply(pd.to_numeric, errors='ignore')\n",
      " 31%|███▏      | 91/290 [00:10<00:20,  9.54it/s]/home/max/ma_thesis/code/code_submission/analysis/ptmstruct/structural_comparison/preprocessing.py:133: FutureWarning: errors='ignore' is deprecated and will raise in a future version. Use to_numeric without passing `errors` and catch exceptions explicitly instead\n",
      "  df = df.apply(pd.to_numeric, errors='ignore')\n",
      " 32%|███▏      | 92/290 [00:11<00:21,  9.32it/s]/home/max/ma_thesis/code/code_submission/analysis/ptmstruct/structural_comparison/preprocessing.py:133: FutureWarning: errors='ignore' is deprecated and will raise in a future version. Use to_numeric without passing `errors` and catch exceptions explicitly instead\n",
      "  df = df.apply(pd.to_numeric, errors='ignore')\n",
      " 32%|███▏      | 93/290 [00:11<00:21,  9.19it/s]/home/max/ma_thesis/code/code_submission/analysis/ptmstruct/structural_comparison/preprocessing.py:133: FutureWarning: errors='ignore' is deprecated and will raise in a future version. Use to_numeric without passing `errors` and catch exceptions explicitly instead\n",
      "  df = df.apply(pd.to_numeric, errors='ignore')\n",
      " 32%|███▏      | 94/290 [00:11<00:21,  9.13it/s]/home/max/ma_thesis/code/code_submission/analysis/ptmstruct/structural_comparison/preprocessing.py:133: FutureWarning: errors='ignore' is deprecated and will raise in a future version. Use to_numeric without passing `errors` and catch exceptions explicitly instead\n",
      "  df = df.apply(pd.to_numeric, errors='ignore')\n",
      " 33%|███▎      | 95/290 [00:11<00:21,  9.13it/s]/home/max/ma_thesis/code/code_submission/analysis/ptmstruct/structural_comparison/preprocessing.py:133: FutureWarning: errors='ignore' is deprecated and will raise in a future version. Use to_numeric without passing `errors` and catch exceptions explicitly instead\n",
      "  df = df.apply(pd.to_numeric, errors='ignore')\n",
      " 33%|███▎      | 96/290 [00:11<00:21,  8.97it/s]/home/max/ma_thesis/code/code_submission/analysis/ptmstruct/structural_comparison/preprocessing.py:133: FutureWarning: errors='ignore' is deprecated and will raise in a future version. Use to_numeric without passing `errors` and catch exceptions explicitly instead\n",
      "  df = df.apply(pd.to_numeric, errors='ignore')\n",
      " 33%|███▎      | 97/290 [00:11<00:21,  8.90it/s]/home/max/ma_thesis/code/code_submission/analysis/ptmstruct/structural_comparison/preprocessing.py:133: FutureWarning: errors='ignore' is deprecated and will raise in a future version. Use to_numeric without passing `errors` and catch exceptions explicitly instead\n",
      "  df = df.apply(pd.to_numeric, errors='ignore')\n",
      " 34%|███▍      | 98/290 [00:11<00:21,  8.92it/s]/home/max/ma_thesis/code/code_submission/analysis/ptmstruct/structural_comparison/preprocessing.py:133: FutureWarning: errors='ignore' is deprecated and will raise in a future version. Use to_numeric without passing `errors` and catch exceptions explicitly instead\n",
      "  df = df.apply(pd.to_numeric, errors='ignore')\n",
      " 34%|███▍      | 99/290 [00:11<00:21,  8.97it/s]/home/max/ma_thesis/code/code_submission/analysis/ptmstruct/structural_comparison/preprocessing.py:133: FutureWarning: errors='ignore' is deprecated and will raise in a future version. Use to_numeric without passing `errors` and catch exceptions explicitly instead\n",
      "  df = df.apply(pd.to_numeric, errors='ignore')\n",
      " 34%|███▍      | 100/290 [00:12<00:20,  9.09it/s]/home/max/ma_thesis/code/code_submission/analysis/ptmstruct/structural_comparison/preprocessing.py:133: FutureWarning: errors='ignore' is deprecated and will raise in a future version. Use to_numeric without passing `errors` and catch exceptions explicitly instead\n",
      "  df = df.apply(pd.to_numeric, errors='ignore')\n",
      " 35%|███▍      | 101/290 [00:12<00:26,  7.24it/s]/home/max/ma_thesis/code/code_submission/analysis/ptmstruct/structural_comparison/preprocessing.py:133: FutureWarning: errors='ignore' is deprecated and will raise in a future version. Use to_numeric without passing `errors` and catch exceptions explicitly instead\n",
      "  df = df.apply(pd.to_numeric, errors='ignore')\n",
      " 35%|███▌      | 102/290 [00:12<00:29,  6.31it/s]/home/max/ma_thesis/code/code_submission/analysis/ptmstruct/structural_comparison/preprocessing.py:133: FutureWarning: errors='ignore' is deprecated and will raise in a future version. Use to_numeric without passing `errors` and catch exceptions explicitly instead\n",
      "  df = df.apply(pd.to_numeric, errors='ignore')\n",
      " 36%|███▌      | 103/290 [00:12<00:32,  5.78it/s]/home/max/ma_thesis/code/code_submission/analysis/ptmstruct/structural_comparison/preprocessing.py:133: FutureWarning: errors='ignore' is deprecated and will raise in a future version. Use to_numeric without passing `errors` and catch exceptions explicitly instead\n",
      "  df = df.apply(pd.to_numeric, errors='ignore')\n",
      " 36%|███▌      | 104/290 [00:12<00:33,  5.53it/s]/home/max/ma_thesis/code/code_submission/analysis/ptmstruct/structural_comparison/preprocessing.py:133: FutureWarning: errors='ignore' is deprecated and will raise in a future version. Use to_numeric without passing `errors` and catch exceptions explicitly instead\n",
      "  df = df.apply(pd.to_numeric, errors='ignore')\n",
      " 36%|███▌      | 105/290 [00:13<00:36,  5.04it/s]/home/max/ma_thesis/code/code_submission/analysis/ptmstruct/structural_comparison/preprocessing.py:133: FutureWarning: errors='ignore' is deprecated and will raise in a future version. Use to_numeric without passing `errors` and catch exceptions explicitly instead\n",
      "  df = df.apply(pd.to_numeric, errors='ignore')\n",
      " 37%|███▋      | 106/290 [00:13<00:37,  4.92it/s]/home/max/ma_thesis/code/code_submission/analysis/ptmstruct/structural_comparison/preprocessing.py:133: FutureWarning: errors='ignore' is deprecated and will raise in a future version. Use to_numeric without passing `errors` and catch exceptions explicitly instead\n",
      "  df = df.apply(pd.to_numeric, errors='ignore')\n",
      " 37%|███▋      | 107/290 [00:13<00:37,  4.83it/s]/home/max/ma_thesis/code/code_submission/analysis/ptmstruct/structural_comparison/preprocessing.py:133: FutureWarning: errors='ignore' is deprecated and will raise in a future version. Use to_numeric without passing `errors` and catch exceptions explicitly instead\n",
      "  df = df.apply(pd.to_numeric, errors='ignore')\n",
      " 37%|███▋      | 108/290 [00:13<00:37,  4.84it/s]/home/max/ma_thesis/code/code_submission/analysis/ptmstruct/structural_comparison/preprocessing.py:133: FutureWarning: errors='ignore' is deprecated and will raise in a future version. Use to_numeric without passing `errors` and catch exceptions explicitly instead\n",
      "  df = df.apply(pd.to_numeric, errors='ignore')\n",
      " 38%|███▊      | 109/290 [00:13<00:37,  4.86it/s]/home/max/ma_thesis/code/code_submission/analysis/ptmstruct/structural_comparison/preprocessing.py:133: FutureWarning: errors='ignore' is deprecated and will raise in a future version. Use to_numeric without passing `errors` and catch exceptions explicitly instead\n",
      "  df = df.apply(pd.to_numeric, errors='ignore')\n",
      " 38%|███▊      | 110/290 [00:14<00:36,  4.94it/s]/home/max/ma_thesis/code/code_submission/analysis/ptmstruct/structural_comparison/preprocessing.py:133: FutureWarning: errors='ignore' is deprecated and will raise in a future version. Use to_numeric without passing `errors` and catch exceptions explicitly instead\n",
      "  df = df.apply(pd.to_numeric, errors='ignore')\n",
      " 38%|███▊      | 111/290 [00:14<00:30,  5.78it/s]/home/max/ma_thesis/code/code_submission/analysis/ptmstruct/structural_comparison/preprocessing.py:133: FutureWarning: errors='ignore' is deprecated and will raise in a future version. Use to_numeric without passing `errors` and catch exceptions explicitly instead\n",
      "  df = df.apply(pd.to_numeric, errors='ignore')\n",
      "/home/max/ma_thesis/code/code_submission/analysis/ptmstruct/structural_comparison/preprocessing.py:133: FutureWarning: errors='ignore' is deprecated and will raise in a future version. Use to_numeric without passing `errors` and catch exceptions explicitly instead\n",
      "  df = df.apply(pd.to_numeric, errors='ignore')\n",
      " 39%|███▉      | 113/290 [00:14<00:24,  7.18it/s]/home/max/ma_thesis/code/code_submission/analysis/ptmstruct/structural_comparison/preprocessing.py:133: FutureWarning: errors='ignore' is deprecated and will raise in a future version. Use to_numeric without passing `errors` and catch exceptions explicitly instead\n",
      "  df = df.apply(pd.to_numeric, errors='ignore')\n",
      " 39%|███▉      | 114/290 [00:14<00:22,  7.66it/s]/home/max/ma_thesis/code/code_submission/analysis/ptmstruct/structural_comparison/preprocessing.py:133: FutureWarning: errors='ignore' is deprecated and will raise in a future version. Use to_numeric without passing `errors` and catch exceptions explicitly instead\n",
      "  df = df.apply(pd.to_numeric, errors='ignore')\n",
      " 40%|███▉      | 115/290 [00:14<00:21,  8.13it/s]/home/max/ma_thesis/code/code_submission/analysis/ptmstruct/structural_comparison/preprocessing.py:133: FutureWarning: errors='ignore' is deprecated and will raise in a future version. Use to_numeric without passing `errors` and catch exceptions explicitly instead\n",
      "  df = df.apply(pd.to_numeric, errors='ignore')\n",
      " 40%|████      | 116/290 [00:14<00:20,  8.49it/s]/home/max/ma_thesis/code/code_submission/analysis/ptmstruct/structural_comparison/preprocessing.py:133: FutureWarning: errors='ignore' is deprecated and will raise in a future version. Use to_numeric without passing `errors` and catch exceptions explicitly instead\n",
      "  df = df.apply(pd.to_numeric, errors='ignore')\n",
      " 40%|████      | 117/290 [00:14<00:19,  8.66it/s]/home/max/ma_thesis/code/code_submission/analysis/ptmstruct/structural_comparison/preprocessing.py:133: FutureWarning: errors='ignore' is deprecated and will raise in a future version. Use to_numeric without passing `errors` and catch exceptions explicitly instead\n",
      "  df = df.apply(pd.to_numeric, errors='ignore')\n",
      " 41%|████      | 118/290 [00:14<00:19,  8.89it/s]/home/max/ma_thesis/code/code_submission/analysis/ptmstruct/structural_comparison/preprocessing.py:133: FutureWarning: errors='ignore' is deprecated and will raise in a future version. Use to_numeric without passing `errors` and catch exceptions explicitly instead\n",
      "  df = df.apply(pd.to_numeric, errors='ignore')\n",
      " 41%|████      | 119/290 [00:15<00:18,  9.06it/s]/home/max/ma_thesis/code/code_submission/analysis/ptmstruct/structural_comparison/preprocessing.py:133: FutureWarning: errors='ignore' is deprecated and will raise in a future version. Use to_numeric without passing `errors` and catch exceptions explicitly instead\n",
      "  df = df.apply(pd.to_numeric, errors='ignore')\n",
      " 41%|████▏     | 120/290 [00:15<00:19,  8.70it/s]/home/max/ma_thesis/code/code_submission/analysis/ptmstruct/structural_comparison/preprocessing.py:133: FutureWarning: errors='ignore' is deprecated and will raise in a future version. Use to_numeric without passing `errors` and catch exceptions explicitly instead\n",
      "  df = df.apply(pd.to_numeric, errors='ignore')\n",
      " 42%|████▏     | 121/290 [00:15<00:19,  8.59it/s]/home/max/ma_thesis/code/code_submission/analysis/ptmstruct/structural_comparison/preprocessing.py:133: FutureWarning: errors='ignore' is deprecated and will raise in a future version. Use to_numeric without passing `errors` and catch exceptions explicitly instead\n",
      "  df = df.apply(pd.to_numeric, errors='ignore')\n",
      " 42%|████▏     | 122/290 [00:15<00:19,  8.57it/s]/home/max/ma_thesis/code/code_submission/analysis/ptmstruct/structural_comparison/preprocessing.py:133: FutureWarning: errors='ignore' is deprecated and will raise in a future version. Use to_numeric without passing `errors` and catch exceptions explicitly instead\n",
      "  df = df.apply(pd.to_numeric, errors='ignore')\n",
      " 42%|████▏     | 123/290 [00:15<00:19,  8.54it/s]/home/max/ma_thesis/code/code_submission/analysis/ptmstruct/structural_comparison/preprocessing.py:133: FutureWarning: errors='ignore' is deprecated and will raise in a future version. Use to_numeric without passing `errors` and catch exceptions explicitly instead\n",
      "  df = df.apply(pd.to_numeric, errors='ignore')\n",
      " 43%|████▎     | 124/290 [00:15<00:19,  8.53it/s]/home/max/ma_thesis/code/code_submission/analysis/ptmstruct/structural_comparison/preprocessing.py:133: FutureWarning: errors='ignore' is deprecated and will raise in a future version. Use to_numeric without passing `errors` and catch exceptions explicitly instead\n",
      "  df = df.apply(pd.to_numeric, errors='ignore')\n",
      " 43%|████▎     | 125/290 [00:15<00:19,  8.60it/s]/home/max/ma_thesis/code/code_submission/analysis/ptmstruct/structural_comparison/preprocessing.py:133: FutureWarning: errors='ignore' is deprecated and will raise in a future version. Use to_numeric without passing `errors` and catch exceptions explicitly instead\n",
      "  df = df.apply(pd.to_numeric, errors='ignore')\n",
      " 43%|████▎     | 126/290 [00:15<00:18,  8.82it/s]/home/max/ma_thesis/code/code_submission/analysis/ptmstruct/structural_comparison/preprocessing.py:133: FutureWarning: errors='ignore' is deprecated and will raise in a future version. Use to_numeric without passing `errors` and catch exceptions explicitly instead\n",
      "  df = df.apply(pd.to_numeric, errors='ignore')\n",
      " 44%|████▍     | 127/290 [00:15<00:18,  8.97it/s]/home/max/ma_thesis/code/code_submission/analysis/ptmstruct/structural_comparison/preprocessing.py:133: FutureWarning: errors='ignore' is deprecated and will raise in a future version. Use to_numeric without passing `errors` and catch exceptions explicitly instead\n",
      "  df = df.apply(pd.to_numeric, errors='ignore')\n",
      " 44%|████▍     | 128/290 [00:16<00:20,  7.78it/s]/home/max/ma_thesis/code/code_submission/analysis/ptmstruct/structural_comparison/preprocessing.py:133: FutureWarning: errors='ignore' is deprecated and will raise in a future version. Use to_numeric without passing `errors` and catch exceptions explicitly instead\n",
      "  df = df.apply(pd.to_numeric, errors='ignore')\n",
      " 44%|████▍     | 129/290 [00:16<00:20,  8.04it/s]/home/max/ma_thesis/code/code_submission/analysis/ptmstruct/structural_comparison/preprocessing.py:133: FutureWarning: errors='ignore' is deprecated and will raise in a future version. Use to_numeric without passing `errors` and catch exceptions explicitly instead\n",
      "  df = df.apply(pd.to_numeric, errors='ignore')\n",
      " 45%|████▍     | 130/290 [00:16<00:19,  8.21it/s]/home/max/ma_thesis/code/code_submission/analysis/ptmstruct/structural_comparison/preprocessing.py:133: FutureWarning: errors='ignore' is deprecated and will raise in a future version. Use to_numeric without passing `errors` and catch exceptions explicitly instead\n",
      "  df = df.apply(pd.to_numeric, errors='ignore')\n",
      "/home/max/ma_thesis/code/code_submission/analysis/ptmstruct/structural_comparison/preprocessing.py:133: FutureWarning: errors='ignore' is deprecated and will raise in a future version. Use to_numeric without passing `errors` and catch exceptions explicitly instead\n",
      "  df = df.apply(pd.to_numeric, errors='ignore')\n",
      " 46%|████▌     | 132/290 [00:16<00:16,  9.83it/s]/home/max/ma_thesis/code/code_submission/analysis/ptmstruct/structural_comparison/preprocessing.py:133: FutureWarning: errors='ignore' is deprecated and will raise in a future version. Use to_numeric without passing `errors` and catch exceptions explicitly instead\n",
      "  df = df.apply(pd.to_numeric, errors='ignore')\n",
      "/home/max/ma_thesis/code/code_submission/analysis/ptmstruct/structural_comparison/preprocessing.py:133: FutureWarning: errors='ignore' is deprecated and will raise in a future version. Use to_numeric without passing `errors` and catch exceptions explicitly instead\n",
      "  df = df.apply(pd.to_numeric, errors='ignore')\n",
      " 46%|████▌     | 134/290 [00:16<00:14, 10.83it/s]/home/max/ma_thesis/code/code_submission/analysis/ptmstruct/structural_comparison/preprocessing.py:133: FutureWarning: errors='ignore' is deprecated and will raise in a future version. Use to_numeric without passing `errors` and catch exceptions explicitly instead\n",
      "  df = df.apply(pd.to_numeric, errors='ignore')\n",
      "/home/max/ma_thesis/code/code_submission/analysis/ptmstruct/structural_comparison/preprocessing.py:133: FutureWarning: errors='ignore' is deprecated and will raise in a future version. Use to_numeric without passing `errors` and catch exceptions explicitly instead\n",
      "  df = df.apply(pd.to_numeric, errors='ignore')\n",
      " 47%|████▋     | 136/290 [00:16<00:13, 11.55it/s]/home/max/ma_thesis/code/code_submission/analysis/ptmstruct/structural_comparison/preprocessing.py:133: FutureWarning: errors='ignore' is deprecated and will raise in a future version. Use to_numeric without passing `errors` and catch exceptions explicitly instead\n",
      "  df = df.apply(pd.to_numeric, errors='ignore')\n",
      "/home/max/ma_thesis/code/code_submission/analysis/ptmstruct/structural_comparison/preprocessing.py:133: FutureWarning: errors='ignore' is deprecated and will raise in a future version. Use to_numeric without passing `errors` and catch exceptions explicitly instead\n",
      "  df = df.apply(pd.to_numeric, errors='ignore')\n",
      " 48%|████▊     | 138/290 [00:16<00:12, 12.11it/s]/home/max/ma_thesis/code/code_submission/analysis/ptmstruct/structural_comparison/preprocessing.py:133: FutureWarning: errors='ignore' is deprecated and will raise in a future version. Use to_numeric without passing `errors` and catch exceptions explicitly instead\n",
      "  df = df.apply(pd.to_numeric, errors='ignore')\n",
      "/home/max/ma_thesis/code/code_submission/analysis/ptmstruct/structural_comparison/preprocessing.py:133: FutureWarning: errors='ignore' is deprecated and will raise in a future version. Use to_numeric without passing `errors` and catch exceptions explicitly instead\n",
      "  df = df.apply(pd.to_numeric, errors='ignore')\n",
      " 48%|████▊     | 140/290 [00:17<00:11, 12.51it/s]/home/max/ma_thesis/code/code_submission/analysis/ptmstruct/structural_comparison/preprocessing.py:133: FutureWarning: errors='ignore' is deprecated and will raise in a future version. Use to_numeric without passing `errors` and catch exceptions explicitly instead\n",
      "  df = df.apply(pd.to_numeric, errors='ignore')\n",
      "/home/max/ma_thesis/code/code_submission/analysis/ptmstruct/structural_comparison/preprocessing.py:133: FutureWarning: errors='ignore' is deprecated and will raise in a future version. Use to_numeric without passing `errors` and catch exceptions explicitly instead\n",
      "  df = df.apply(pd.to_numeric, errors='ignore')\n",
      " 49%|████▉     | 142/290 [00:17<00:12, 12.33it/s]/home/max/ma_thesis/code/code_submission/analysis/ptmstruct/structural_comparison/preprocessing.py:133: FutureWarning: errors='ignore' is deprecated and will raise in a future version. Use to_numeric without passing `errors` and catch exceptions explicitly instead\n",
      "  df = df.apply(pd.to_numeric, errors='ignore')\n",
      "/home/max/ma_thesis/code/code_submission/analysis/ptmstruct/structural_comparison/preprocessing.py:133: FutureWarning: errors='ignore' is deprecated and will raise in a future version. Use to_numeric without passing `errors` and catch exceptions explicitly instead\n",
      "  df = df.apply(pd.to_numeric, errors='ignore')\n",
      " 50%|████▉     | 144/290 [00:17<00:12, 11.65it/s]/home/max/ma_thesis/code/code_submission/analysis/ptmstruct/structural_comparison/preprocessing.py:133: FutureWarning: errors='ignore' is deprecated and will raise in a future version. Use to_numeric without passing `errors` and catch exceptions explicitly instead\n",
      "  df = df.apply(pd.to_numeric, errors='ignore')\n",
      "/home/max/ma_thesis/code/code_submission/analysis/ptmstruct/structural_comparison/preprocessing.py:133: FutureWarning: errors='ignore' is deprecated and will raise in a future version. Use to_numeric without passing `errors` and catch exceptions explicitly instead\n",
      "  df = df.apply(pd.to_numeric, errors='ignore')\n",
      " 50%|█████     | 146/290 [00:17<00:12, 11.36it/s]/home/max/ma_thesis/code/code_submission/analysis/ptmstruct/structural_comparison/preprocessing.py:133: FutureWarning: errors='ignore' is deprecated and will raise in a future version. Use to_numeric without passing `errors` and catch exceptions explicitly instead\n",
      "  df = df.apply(pd.to_numeric, errors='ignore')\n",
      "/home/max/ma_thesis/code/code_submission/analysis/ptmstruct/structural_comparison/preprocessing.py:133: FutureWarning: errors='ignore' is deprecated and will raise in a future version. Use to_numeric without passing `errors` and catch exceptions explicitly instead\n",
      "  df = df.apply(pd.to_numeric, errors='ignore')\n",
      " 51%|█████     | 148/290 [00:17<00:12, 11.15it/s]/home/max/ma_thesis/code/code_submission/analysis/ptmstruct/structural_comparison/preprocessing.py:133: FutureWarning: errors='ignore' is deprecated and will raise in a future version. Use to_numeric without passing `errors` and catch exceptions explicitly instead\n",
      "  df = df.apply(pd.to_numeric, errors='ignore')\n",
      "/home/max/ma_thesis/code/code_submission/analysis/ptmstruct/structural_comparison/preprocessing.py:133: FutureWarning: errors='ignore' is deprecated and will raise in a future version. Use to_numeric without passing `errors` and catch exceptions explicitly instead\n",
      "  df = df.apply(pd.to_numeric, errors='ignore')\n",
      " 52%|█████▏    | 150/290 [00:18<00:12, 11.29it/s]/home/max/ma_thesis/code/code_submission/analysis/ptmstruct/structural_comparison/preprocessing.py:133: FutureWarning: errors='ignore' is deprecated and will raise in a future version. Use to_numeric without passing `errors` and catch exceptions explicitly instead\n",
      "  df = df.apply(pd.to_numeric, errors='ignore')\n",
      "/home/max/ma_thesis/code/code_submission/analysis/ptmstruct/structural_comparison/preprocessing.py:133: FutureWarning: errors='ignore' is deprecated and will raise in a future version. Use to_numeric without passing `errors` and catch exceptions explicitly instead\n",
      "  df = df.apply(pd.to_numeric, errors='ignore')\n",
      " 52%|█████▏    | 152/290 [00:18<00:13, 10.30it/s]/home/max/ma_thesis/code/code_submission/analysis/ptmstruct/structural_comparison/preprocessing.py:133: FutureWarning: errors='ignore' is deprecated and will raise in a future version. Use to_numeric without passing `errors` and catch exceptions explicitly instead\n",
      "  df = df.apply(pd.to_numeric, errors='ignore')\n",
      "/home/max/ma_thesis/code/code_submission/analysis/ptmstruct/structural_comparison/preprocessing.py:133: FutureWarning: errors='ignore' is deprecated and will raise in a future version. Use to_numeric without passing `errors` and catch exceptions explicitly instead\n",
      "  df = df.apply(pd.to_numeric, errors='ignore')\n",
      " 53%|█████▎    | 154/290 [00:18<00:13,  9.84it/s]/home/max/ma_thesis/code/code_submission/analysis/ptmstruct/structural_comparison/preprocessing.py:133: FutureWarning: errors='ignore' is deprecated and will raise in a future version. Use to_numeric without passing `errors` and catch exceptions explicitly instead\n",
      "  df = df.apply(pd.to_numeric, errors='ignore')\n",
      "/home/max/ma_thesis/code/code_submission/analysis/ptmstruct/structural_comparison/preprocessing.py:133: FutureWarning: errors='ignore' is deprecated and will raise in a future version. Use to_numeric without passing `errors` and catch exceptions explicitly instead\n",
      "  df = df.apply(pd.to_numeric, errors='ignore')\n",
      " 54%|█████▍    | 156/290 [00:18<00:14,  9.56it/s]/home/max/ma_thesis/code/code_submission/analysis/ptmstruct/structural_comparison/preprocessing.py:133: FutureWarning: errors='ignore' is deprecated and will raise in a future version. Use to_numeric without passing `errors` and catch exceptions explicitly instead\n",
      "  df = df.apply(pd.to_numeric, errors='ignore')\n",
      " 54%|█████▍    | 157/290 [00:18<00:14,  9.46it/s]/home/max/ma_thesis/code/code_submission/analysis/ptmstruct/structural_comparison/preprocessing.py:133: FutureWarning: errors='ignore' is deprecated and will raise in a future version. Use to_numeric without passing `errors` and catch exceptions explicitly instead\n",
      "  df = df.apply(pd.to_numeric, errors='ignore')\n",
      " 54%|█████▍    | 158/290 [00:18<00:14,  9.35it/s]/home/max/ma_thesis/code/code_submission/analysis/ptmstruct/structural_comparison/preprocessing.py:133: FutureWarning: errors='ignore' is deprecated and will raise in a future version. Use to_numeric without passing `errors` and catch exceptions explicitly instead\n",
      "  df = df.apply(pd.to_numeric, errors='ignore')\n",
      " 55%|█████▍    | 159/290 [00:19<00:14,  8.86it/s]/home/max/ma_thesis/code/code_submission/analysis/ptmstruct/structural_comparison/preprocessing.py:133: FutureWarning: errors='ignore' is deprecated and will raise in a future version. Use to_numeric without passing `errors` and catch exceptions explicitly instead\n",
      "  df = df.apply(pd.to_numeric, errors='ignore')\n",
      " 55%|█████▌    | 160/290 [00:19<00:15,  8.54it/s]/home/max/ma_thesis/code/code_submission/analysis/ptmstruct/structural_comparison/preprocessing.py:133: FutureWarning: errors='ignore' is deprecated and will raise in a future version. Use to_numeric without passing `errors` and catch exceptions explicitly instead\n",
      "  df = df.apply(pd.to_numeric, errors='ignore')\n",
      " 56%|█████▌    | 161/290 [00:19<00:15,  8.12it/s]/home/max/ma_thesis/code/code_submission/analysis/ptmstruct/structural_comparison/preprocessing.py:133: FutureWarning: errors='ignore' is deprecated and will raise in a future version. Use to_numeric without passing `errors` and catch exceptions explicitly instead\n",
      "  df = df.apply(pd.to_numeric, errors='ignore')\n",
      " 56%|█████▌    | 162/290 [00:19<00:15,  8.04it/s]/home/max/ma_thesis/code/code_submission/analysis/ptmstruct/structural_comparison/preprocessing.py:133: FutureWarning: errors='ignore' is deprecated and will raise in a future version. Use to_numeric without passing `errors` and catch exceptions explicitly instead\n",
      "  df = df.apply(pd.to_numeric, errors='ignore')\n",
      " 56%|█████▌    | 163/290 [00:19<00:16,  7.67it/s]/home/max/ma_thesis/code/code_submission/analysis/ptmstruct/structural_comparison/preprocessing.py:133: FutureWarning: errors='ignore' is deprecated and will raise in a future version. Use to_numeric without passing `errors` and catch exceptions explicitly instead\n",
      "  df = df.apply(pd.to_numeric, errors='ignore')\n",
      " 57%|█████▋    | 164/290 [00:19<00:18,  6.93it/s]/home/max/ma_thesis/code/code_submission/analysis/ptmstruct/structural_comparison/preprocessing.py:133: FutureWarning: errors='ignore' is deprecated and will raise in a future version. Use to_numeric without passing `errors` and catch exceptions explicitly instead\n",
      "  df = df.apply(pd.to_numeric, errors='ignore')\n",
      " 57%|█████▋    | 165/290 [00:19<00:17,  6.97it/s]/home/max/ma_thesis/code/code_submission/analysis/ptmstruct/structural_comparison/preprocessing.py:133: FutureWarning: errors='ignore' is deprecated and will raise in a future version. Use to_numeric without passing `errors` and catch exceptions explicitly instead\n",
      "  df = df.apply(pd.to_numeric, errors='ignore')\n",
      " 57%|█████▋    | 166/290 [00:20<00:18,  6.71it/s]/home/max/ma_thesis/code/code_submission/analysis/ptmstruct/structural_comparison/preprocessing.py:133: FutureWarning: errors='ignore' is deprecated and will raise in a future version. Use to_numeric without passing `errors` and catch exceptions explicitly instead\n",
      "  df = df.apply(pd.to_numeric, errors='ignore')\n",
      " 58%|█████▊    | 167/290 [00:20<00:18,  6.65it/s]/home/max/ma_thesis/code/code_submission/analysis/ptmstruct/structural_comparison/preprocessing.py:133: FutureWarning: errors='ignore' is deprecated and will raise in a future version. Use to_numeric without passing `errors` and catch exceptions explicitly instead\n",
      "  df = df.apply(pd.to_numeric, errors='ignore')\n",
      " 58%|█████▊    | 168/290 [00:20<00:17,  6.99it/s]/home/max/ma_thesis/code/code_submission/analysis/ptmstruct/structural_comparison/preprocessing.py:133: FutureWarning: errors='ignore' is deprecated and will raise in a future version. Use to_numeric without passing `errors` and catch exceptions explicitly instead\n",
      "  df = df.apply(pd.to_numeric, errors='ignore')\n",
      " 58%|█████▊    | 169/290 [00:20<00:16,  7.30it/s]/home/max/ma_thesis/code/code_submission/analysis/ptmstruct/structural_comparison/preprocessing.py:133: FutureWarning: errors='ignore' is deprecated and will raise in a future version. Use to_numeric without passing `errors` and catch exceptions explicitly instead\n",
      "  df = df.apply(pd.to_numeric, errors='ignore')\n",
      " 59%|█████▊    | 170/290 [00:20<00:15,  7.61it/s]/home/max/ma_thesis/code/code_submission/analysis/ptmstruct/structural_comparison/preprocessing.py:133: FutureWarning: errors='ignore' is deprecated and will raise in a future version. Use to_numeric without passing `errors` and catch exceptions explicitly instead\n",
      "  df = df.apply(pd.to_numeric, errors='ignore')\n",
      " 59%|█████▉    | 171/290 [00:20<00:15,  7.68it/s]/home/max/ma_thesis/code/code_submission/analysis/ptmstruct/structural_comparison/preprocessing.py:133: FutureWarning: errors='ignore' is deprecated and will raise in a future version. Use to_numeric without passing `errors` and catch exceptions explicitly instead\n",
      "  df = df.apply(pd.to_numeric, errors='ignore')\n",
      " 59%|█████▉    | 172/290 [00:20<00:15,  7.82it/s]/home/max/ma_thesis/code/code_submission/analysis/ptmstruct/structural_comparison/preprocessing.py:133: FutureWarning: errors='ignore' is deprecated and will raise in a future version. Use to_numeric without passing `errors` and catch exceptions explicitly instead\n",
      "  df = df.apply(pd.to_numeric, errors='ignore')\n",
      " 60%|█████▉    | 173/290 [00:20<00:14,  7.84it/s]/home/max/ma_thesis/code/code_submission/analysis/ptmstruct/structural_comparison/preprocessing.py:133: FutureWarning: errors='ignore' is deprecated and will raise in a future version. Use to_numeric without passing `errors` and catch exceptions explicitly instead\n",
      "  df = df.apply(pd.to_numeric, errors='ignore')\n",
      " 60%|██████    | 174/290 [00:21<00:14,  7.98it/s]/home/max/ma_thesis/code/code_submission/analysis/ptmstruct/structural_comparison/preprocessing.py:133: FutureWarning: errors='ignore' is deprecated and will raise in a future version. Use to_numeric without passing `errors` and catch exceptions explicitly instead\n",
      "  df = df.apply(pd.to_numeric, errors='ignore')\n",
      " 60%|██████    | 175/290 [00:21<00:14,  7.98it/s]/home/max/ma_thesis/code/code_submission/analysis/ptmstruct/structural_comparison/preprocessing.py:133: FutureWarning: errors='ignore' is deprecated and will raise in a future version. Use to_numeric without passing `errors` and catch exceptions explicitly instead\n",
      "  df = df.apply(pd.to_numeric, errors='ignore')\n",
      " 61%|██████    | 176/290 [00:21<00:14,  8.10it/s]/home/max/ma_thesis/code/code_submission/analysis/ptmstruct/structural_comparison/preprocessing.py:133: FutureWarning: errors='ignore' is deprecated and will raise in a future version. Use to_numeric without passing `errors` and catch exceptions explicitly instead\n",
      "  df = df.apply(pd.to_numeric, errors='ignore')\n",
      " 61%|██████    | 177/290 [00:21<00:13,  8.23it/s]/home/max/ma_thesis/code/code_submission/analysis/ptmstruct/structural_comparison/preprocessing.py:133: FutureWarning: errors='ignore' is deprecated and will raise in a future version. Use to_numeric without passing `errors` and catch exceptions explicitly instead\n",
      "  df = df.apply(pd.to_numeric, errors='ignore')\n",
      " 61%|██████▏   | 178/290 [00:21<00:13,  8.42it/s]/home/max/ma_thesis/code/code_submission/analysis/ptmstruct/structural_comparison/preprocessing.py:133: FutureWarning: errors='ignore' is deprecated and will raise in a future version. Use to_numeric without passing `errors` and catch exceptions explicitly instead\n",
      "  df = df.apply(pd.to_numeric, errors='ignore')\n",
      " 62%|██████▏   | 179/290 [00:21<00:12,  8.55it/s]/home/max/ma_thesis/code/code_submission/analysis/ptmstruct/structural_comparison/preprocessing.py:133: FutureWarning: errors='ignore' is deprecated and will raise in a future version. Use to_numeric without passing `errors` and catch exceptions explicitly instead\n",
      "  df = df.apply(pd.to_numeric, errors='ignore')\n",
      " 62%|██████▏   | 180/290 [00:21<00:12,  8.64it/s]/home/max/ma_thesis/code/code_submission/analysis/ptmstruct/structural_comparison/preprocessing.py:133: FutureWarning: errors='ignore' is deprecated and will raise in a future version. Use to_numeric without passing `errors` and catch exceptions explicitly instead\n",
      "  df = df.apply(pd.to_numeric, errors='ignore')\n",
      " 62%|██████▏   | 181/290 [00:21<00:12,  8.64it/s]/home/max/ma_thesis/code/code_submission/analysis/ptmstruct/structural_comparison/preprocessing.py:133: FutureWarning: errors='ignore' is deprecated and will raise in a future version. Use to_numeric without passing `errors` and catch exceptions explicitly instead\n",
      "  df = df.apply(pd.to_numeric, errors='ignore')\n",
      " 63%|██████▎   | 182/290 [00:22<00:12,  8.58it/s]/home/max/ma_thesis/code/code_submission/analysis/ptmstruct/structural_comparison/preprocessing.py:133: FutureWarning: errors='ignore' is deprecated and will raise in a future version. Use to_numeric without passing `errors` and catch exceptions explicitly instead\n",
      "  df = df.apply(pd.to_numeric, errors='ignore')\n",
      " 63%|██████▎   | 183/290 [00:22<00:14,  7.62it/s]/home/max/ma_thesis/code/code_submission/analysis/ptmstruct/structural_comparison/preprocessing.py:133: FutureWarning: errors='ignore' is deprecated and will raise in a future version. Use to_numeric without passing `errors` and catch exceptions explicitly instead\n",
      "  df = df.apply(pd.to_numeric, errors='ignore')\n",
      " 63%|██████▎   | 184/290 [00:22<00:13,  7.79it/s]/home/max/ma_thesis/code/code_submission/analysis/ptmstruct/structural_comparison/preprocessing.py:133: FutureWarning: errors='ignore' is deprecated and will raise in a future version. Use to_numeric without passing `errors` and catch exceptions explicitly instead\n",
      "  df = df.apply(pd.to_numeric, errors='ignore')\n",
      " 64%|██████▍   | 185/290 [00:22<00:13,  8.01it/s]/home/max/ma_thesis/code/code_submission/analysis/ptmstruct/structural_comparison/preprocessing.py:133: FutureWarning: errors='ignore' is deprecated and will raise in a future version. Use to_numeric without passing `errors` and catch exceptions explicitly instead\n",
      "  df = df.apply(pd.to_numeric, errors='ignore')\n",
      " 64%|██████▍   | 186/290 [00:22<00:12,  8.17it/s]/home/max/ma_thesis/code/code_submission/analysis/ptmstruct/structural_comparison/preprocessing.py:133: FutureWarning: errors='ignore' is deprecated and will raise in a future version. Use to_numeric without passing `errors` and catch exceptions explicitly instead\n",
      "  df = df.apply(pd.to_numeric, errors='ignore')\n",
      " 64%|██████▍   | 187/290 [00:22<00:12,  8.36it/s]/home/max/ma_thesis/code/code_submission/analysis/ptmstruct/structural_comparison/preprocessing.py:133: FutureWarning: errors='ignore' is deprecated and will raise in a future version. Use to_numeric without passing `errors` and catch exceptions explicitly instead\n",
      "  df = df.apply(pd.to_numeric, errors='ignore')\n",
      " 65%|██████▍   | 188/290 [00:22<00:11,  8.53it/s]/home/max/ma_thesis/code/code_submission/analysis/ptmstruct/structural_comparison/preprocessing.py:133: FutureWarning: errors='ignore' is deprecated and will raise in a future version. Use to_numeric without passing `errors` and catch exceptions explicitly instead\n",
      "  df = df.apply(pd.to_numeric, errors='ignore')\n",
      " 65%|██████▌   | 189/290 [00:22<00:11,  8.65it/s]/home/max/ma_thesis/code/code_submission/analysis/ptmstruct/structural_comparison/preprocessing.py:133: FutureWarning: errors='ignore' is deprecated and will raise in a future version. Use to_numeric without passing `errors` and catch exceptions explicitly instead\n",
      "  df = df.apply(pd.to_numeric, errors='ignore')\n",
      " 66%|██████▌   | 190/290 [00:23<00:11,  8.82it/s]/home/max/ma_thesis/code/code_submission/analysis/ptmstruct/structural_comparison/preprocessing.py:133: FutureWarning: errors='ignore' is deprecated and will raise in a future version. Use to_numeric without passing `errors` and catch exceptions explicitly instead\n",
      "  df = df.apply(pd.to_numeric, errors='ignore')\n",
      " 66%|██████▌   | 191/290 [00:23<00:11,  8.81it/s]/home/max/ma_thesis/code/code_submission/analysis/ptmstruct/structural_comparison/preprocessing.py:133: FutureWarning: errors='ignore' is deprecated and will raise in a future version. Use to_numeric without passing `errors` and catch exceptions explicitly instead\n",
      "  df = df.apply(pd.to_numeric, errors='ignore')\n",
      " 66%|██████▌   | 192/290 [00:23<00:11,  8.79it/s]/home/max/ma_thesis/code/code_submission/analysis/ptmstruct/structural_comparison/preprocessing.py:133: FutureWarning: errors='ignore' is deprecated and will raise in a future version. Use to_numeric without passing `errors` and catch exceptions explicitly instead\n",
      "  df = df.apply(pd.to_numeric, errors='ignore')\n",
      " 67%|██████▋   | 193/290 [00:23<00:11,  8.70it/s]/home/max/ma_thesis/code/code_submission/analysis/ptmstruct/structural_comparison/preprocessing.py:133: FutureWarning: errors='ignore' is deprecated and will raise in a future version. Use to_numeric without passing `errors` and catch exceptions explicitly instead\n",
      "  df = df.apply(pd.to_numeric, errors='ignore')\n",
      " 67%|██████▋   | 194/290 [00:23<00:11,  8.71it/s]/home/max/ma_thesis/code/code_submission/analysis/ptmstruct/structural_comparison/preprocessing.py:133: FutureWarning: errors='ignore' is deprecated and will raise in a future version. Use to_numeric without passing `errors` and catch exceptions explicitly instead\n",
      "  df = df.apply(pd.to_numeric, errors='ignore')\n",
      " 67%|██████▋   | 195/290 [00:23<00:10,  8.64it/s]/home/max/ma_thesis/code/code_submission/analysis/ptmstruct/structural_comparison/preprocessing.py:133: FutureWarning: errors='ignore' is deprecated and will raise in a future version. Use to_numeric without passing `errors` and catch exceptions explicitly instead\n",
      "  df = df.apply(pd.to_numeric, errors='ignore')\n",
      " 68%|██████▊   | 196/290 [00:23<00:10,  8.66it/s]/home/max/ma_thesis/code/code_submission/analysis/ptmstruct/structural_comparison/preprocessing.py:133: FutureWarning: errors='ignore' is deprecated and will raise in a future version. Use to_numeric without passing `errors` and catch exceptions explicitly instead\n",
      "  df = df.apply(pd.to_numeric, errors='ignore')\n",
      " 68%|██████▊   | 197/290 [00:23<00:10,  8.64it/s]/home/max/ma_thesis/code/code_submission/analysis/ptmstruct/structural_comparison/preprocessing.py:133: FutureWarning: errors='ignore' is deprecated and will raise in a future version. Use to_numeric without passing `errors` and catch exceptions explicitly instead\n",
      "  df = df.apply(pd.to_numeric, errors='ignore')\n",
      " 68%|██████▊   | 198/290 [00:23<00:10,  8.67it/s]/home/max/ma_thesis/code/code_submission/analysis/ptmstruct/structural_comparison/preprocessing.py:133: FutureWarning: errors='ignore' is deprecated and will raise in a future version. Use to_numeric without passing `errors` and catch exceptions explicitly instead\n",
      "  df = df.apply(pd.to_numeric, errors='ignore')\n",
      " 69%|██████▊   | 199/290 [00:24<00:10,  8.67it/s]/home/max/ma_thesis/code/code_submission/analysis/ptmstruct/structural_comparison/preprocessing.py:133: FutureWarning: errors='ignore' is deprecated and will raise in a future version. Use to_numeric without passing `errors` and catch exceptions explicitly instead\n",
      "  df = df.apply(pd.to_numeric, errors='ignore')\n",
      " 69%|██████▉   | 200/290 [00:24<00:10,  8.29it/s]/home/max/ma_thesis/code/code_submission/analysis/ptmstruct/structural_comparison/preprocessing.py:133: FutureWarning: errors='ignore' is deprecated and will raise in a future version. Use to_numeric without passing `errors` and catch exceptions explicitly instead\n",
      "  df = df.apply(pd.to_numeric, errors='ignore')\n",
      " 69%|██████▉   | 201/290 [00:24<00:10,  8.23it/s]/home/max/ma_thesis/code/code_submission/analysis/ptmstruct/structural_comparison/preprocessing.py:133: FutureWarning: errors='ignore' is deprecated and will raise in a future version. Use to_numeric without passing `errors` and catch exceptions explicitly instead\n",
      "  df = df.apply(pd.to_numeric, errors='ignore')\n",
      " 70%|██████▉   | 202/290 [00:24<00:10,  8.26it/s]/home/max/ma_thesis/code/code_submission/analysis/ptmstruct/structural_comparison/preprocessing.py:133: FutureWarning: errors='ignore' is deprecated and will raise in a future version. Use to_numeric without passing `errors` and catch exceptions explicitly instead\n",
      "  df = df.apply(pd.to_numeric, errors='ignore')\n",
      " 70%|███████   | 203/290 [00:24<00:10,  8.29it/s]/home/max/ma_thesis/code/code_submission/analysis/ptmstruct/structural_comparison/preprocessing.py:133: FutureWarning: errors='ignore' is deprecated and will raise in a future version. Use to_numeric without passing `errors` and catch exceptions explicitly instead\n",
      "  df = df.apply(pd.to_numeric, errors='ignore')\n",
      " 70%|███████   | 204/290 [00:24<00:10,  8.42it/s]/home/max/ma_thesis/code/code_submission/analysis/ptmstruct/structural_comparison/preprocessing.py:133: FutureWarning: errors='ignore' is deprecated and will raise in a future version. Use to_numeric without passing `errors` and catch exceptions explicitly instead\n",
      "  df = df.apply(pd.to_numeric, errors='ignore')\n",
      " 71%|███████   | 205/290 [00:24<00:09,  8.51it/s]/home/max/ma_thesis/code/code_submission/analysis/ptmstruct/structural_comparison/preprocessing.py:133: FutureWarning: errors='ignore' is deprecated and will raise in a future version. Use to_numeric without passing `errors` and catch exceptions explicitly instead\n",
      "  df = df.apply(pd.to_numeric, errors='ignore')\n",
      " 71%|███████   | 206/290 [00:24<00:09,  8.66it/s]/home/max/ma_thesis/code/code_submission/analysis/ptmstruct/structural_comparison/preprocessing.py:133: FutureWarning: errors='ignore' is deprecated and will raise in a future version. Use to_numeric without passing `errors` and catch exceptions explicitly instead\n",
      "  df = df.apply(pd.to_numeric, errors='ignore')\n",
      " 71%|███████▏  | 207/290 [00:24<00:09,  8.81it/s]/home/max/ma_thesis/code/code_submission/analysis/ptmstruct/structural_comparison/preprocessing.py:133: FutureWarning: errors='ignore' is deprecated and will raise in a future version. Use to_numeric without passing `errors` and catch exceptions explicitly instead\n",
      "  df = df.apply(pd.to_numeric, errors='ignore')\n",
      " 72%|███████▏  | 208/290 [00:25<00:09,  8.92it/s]/home/max/ma_thesis/code/code_submission/analysis/ptmstruct/structural_comparison/preprocessing.py:133: FutureWarning: errors='ignore' is deprecated and will raise in a future version. Use to_numeric without passing `errors` and catch exceptions explicitly instead\n",
      "  df = df.apply(pd.to_numeric, errors='ignore')\n",
      " 72%|███████▏  | 209/290 [00:25<00:09,  8.99it/s]/home/max/ma_thesis/code/code_submission/analysis/ptmstruct/structural_comparison/preprocessing.py:133: FutureWarning: errors='ignore' is deprecated and will raise in a future version. Use to_numeric without passing `errors` and catch exceptions explicitly instead\n",
      "  df = df.apply(pd.to_numeric, errors='ignore')\n",
      " 72%|███████▏  | 210/290 [00:25<00:08,  9.03it/s]/home/max/ma_thesis/code/code_submission/analysis/ptmstruct/structural_comparison/preprocessing.py:133: FutureWarning: errors='ignore' is deprecated and will raise in a future version. Use to_numeric without passing `errors` and catch exceptions explicitly instead\n",
      "  df = df.apply(pd.to_numeric, errors='ignore')\n",
      " 73%|███████▎  | 211/290 [00:25<00:08,  8.88it/s]/home/max/ma_thesis/code/code_submission/analysis/ptmstruct/structural_comparison/preprocessing.py:133: FutureWarning: errors='ignore' is deprecated and will raise in a future version. Use to_numeric without passing `errors` and catch exceptions explicitly instead\n",
      "  df = df.apply(pd.to_numeric, errors='ignore')\n",
      " 73%|███████▎  | 212/290 [00:25<00:08,  8.69it/s]/home/max/ma_thesis/code/code_submission/analysis/ptmstruct/structural_comparison/preprocessing.py:133: FutureWarning: errors='ignore' is deprecated and will raise in a future version. Use to_numeric without passing `errors` and catch exceptions explicitly instead\n",
      "  df = df.apply(pd.to_numeric, errors='ignore')\n",
      " 73%|███████▎  | 213/290 [00:25<00:08,  8.69it/s]/home/max/ma_thesis/code/code_submission/analysis/ptmstruct/structural_comparison/preprocessing.py:133: FutureWarning: errors='ignore' is deprecated and will raise in a future version. Use to_numeric without passing `errors` and catch exceptions explicitly instead\n",
      "  df = df.apply(pd.to_numeric, errors='ignore')\n",
      " 74%|███████▍  | 214/290 [00:25<00:08,  8.83it/s]/home/max/ma_thesis/code/code_submission/analysis/ptmstruct/structural_comparison/preprocessing.py:133: FutureWarning: errors='ignore' is deprecated and will raise in a future version. Use to_numeric without passing `errors` and catch exceptions explicitly instead\n",
      "  df = df.apply(pd.to_numeric, errors='ignore')\n",
      " 74%|███████▍  | 215/290 [00:25<00:08,  8.95it/s]/home/max/ma_thesis/code/code_submission/analysis/ptmstruct/structural_comparison/preprocessing.py:133: FutureWarning: errors='ignore' is deprecated and will raise in a future version. Use to_numeric without passing `errors` and catch exceptions explicitly instead\n",
      "  df = df.apply(pd.to_numeric, errors='ignore')\n",
      " 74%|███████▍  | 216/290 [00:25<00:08,  9.04it/s]/home/max/ma_thesis/code/code_submission/analysis/ptmstruct/structural_comparison/preprocessing.py:133: FutureWarning: errors='ignore' is deprecated and will raise in a future version. Use to_numeric without passing `errors` and catch exceptions explicitly instead\n",
      "  df = df.apply(pd.to_numeric, errors='ignore')\n",
      " 75%|███████▍  | 217/290 [00:26<00:07,  9.14it/s]/home/max/ma_thesis/code/code_submission/analysis/ptmstruct/structural_comparison/preprocessing.py:133: FutureWarning: errors='ignore' is deprecated and will raise in a future version. Use to_numeric without passing `errors` and catch exceptions explicitly instead\n",
      "  df = df.apply(pd.to_numeric, errors='ignore')\n",
      " 75%|███████▌  | 218/290 [00:26<00:07,  9.21it/s]/home/max/ma_thesis/code/code_submission/analysis/ptmstruct/structural_comparison/preprocessing.py:133: FutureWarning: errors='ignore' is deprecated and will raise in a future version. Use to_numeric without passing `errors` and catch exceptions explicitly instead\n",
      "  df = df.apply(pd.to_numeric, errors='ignore')\n",
      " 76%|███████▌  | 219/290 [00:26<00:09,  7.68it/s]/home/max/ma_thesis/code/code_submission/analysis/ptmstruct/structural_comparison/preprocessing.py:133: FutureWarning: errors='ignore' is deprecated and will raise in a future version. Use to_numeric without passing `errors` and catch exceptions explicitly instead\n",
      "  df = df.apply(pd.to_numeric, errors='ignore')\n",
      " 76%|███████▌  | 220/290 [00:26<00:09,  7.68it/s]/home/max/ma_thesis/code/code_submission/analysis/ptmstruct/structural_comparison/preprocessing.py:133: FutureWarning: errors='ignore' is deprecated and will raise in a future version. Use to_numeric without passing `errors` and catch exceptions explicitly instead\n",
      "  df = df.apply(pd.to_numeric, errors='ignore')\n",
      " 76%|███████▌  | 221/290 [00:26<00:08,  7.74it/s]/home/max/ma_thesis/code/code_submission/analysis/ptmstruct/structural_comparison/preprocessing.py:133: FutureWarning: errors='ignore' is deprecated and will raise in a future version. Use to_numeric without passing `errors` and catch exceptions explicitly instead\n",
      "  df = df.apply(pd.to_numeric, errors='ignore')\n",
      " 77%|███████▋  | 222/290 [00:26<00:08,  7.82it/s]/home/max/ma_thesis/code/code_submission/analysis/ptmstruct/structural_comparison/preprocessing.py:133: FutureWarning: errors='ignore' is deprecated and will raise in a future version. Use to_numeric without passing `errors` and catch exceptions explicitly instead\n",
      "  df = df.apply(pd.to_numeric, errors='ignore')\n",
      " 77%|███████▋  | 223/290 [00:26<00:08,  7.94it/s]/home/max/ma_thesis/code/code_submission/analysis/ptmstruct/structural_comparison/preprocessing.py:133: FutureWarning: errors='ignore' is deprecated and will raise in a future version. Use to_numeric without passing `errors` and catch exceptions explicitly instead\n",
      "  df = df.apply(pd.to_numeric, errors='ignore')\n",
      " 77%|███████▋  | 224/290 [00:27<00:08,  8.00it/s]/home/max/ma_thesis/code/code_submission/analysis/ptmstruct/structural_comparison/preprocessing.py:133: FutureWarning: errors='ignore' is deprecated and will raise in a future version. Use to_numeric without passing `errors` and catch exceptions explicitly instead\n",
      "  df = df.apply(pd.to_numeric, errors='ignore')\n",
      " 78%|███████▊  | 225/290 [00:27<00:08,  8.07it/s]/home/max/ma_thesis/code/code_submission/analysis/ptmstruct/structural_comparison/preprocessing.py:133: FutureWarning: errors='ignore' is deprecated and will raise in a future version. Use to_numeric without passing `errors` and catch exceptions explicitly instead\n",
      "  df = df.apply(pd.to_numeric, errors='ignore')\n",
      " 78%|███████▊  | 226/290 [00:27<00:07,  8.29it/s]/home/max/ma_thesis/code/code_submission/analysis/ptmstruct/structural_comparison/preprocessing.py:133: FutureWarning: errors='ignore' is deprecated and will raise in a future version. Use to_numeric without passing `errors` and catch exceptions explicitly instead\n",
      "  df = df.apply(pd.to_numeric, errors='ignore')\n",
      " 78%|███████▊  | 227/290 [00:27<00:07,  8.45it/s]/home/max/ma_thesis/code/code_submission/analysis/ptmstruct/structural_comparison/preprocessing.py:133: FutureWarning: errors='ignore' is deprecated and will raise in a future version. Use to_numeric without passing `errors` and catch exceptions explicitly instead\n",
      "  df = df.apply(pd.to_numeric, errors='ignore')\n",
      " 79%|███████▊  | 228/290 [00:27<00:07,  8.62it/s]/home/max/ma_thesis/code/code_submission/analysis/ptmstruct/structural_comparison/preprocessing.py:133: FutureWarning: errors='ignore' is deprecated and will raise in a future version. Use to_numeric without passing `errors` and catch exceptions explicitly instead\n",
      "  df = df.apply(pd.to_numeric, errors='ignore')\n",
      " 79%|███████▉  | 229/290 [00:27<00:07,  8.70it/s]/home/max/ma_thesis/code/code_submission/analysis/ptmstruct/structural_comparison/preprocessing.py:133: FutureWarning: errors='ignore' is deprecated and will raise in a future version. Use to_numeric without passing `errors` and catch exceptions explicitly instead\n",
      "  df = df.apply(pd.to_numeric, errors='ignore')\n",
      " 79%|███████▉  | 230/290 [00:27<00:06,  8.80it/s]/home/max/ma_thesis/code/code_submission/analysis/ptmstruct/structural_comparison/preprocessing.py:133: FutureWarning: errors='ignore' is deprecated and will raise in a future version. Use to_numeric without passing `errors` and catch exceptions explicitly instead\n",
      "  df = df.apply(pd.to_numeric, errors='ignore')\n",
      " 80%|███████▉  | 231/290 [00:27<00:06,  8.89it/s]/home/max/ma_thesis/code/code_submission/analysis/ptmstruct/structural_comparison/preprocessing.py:133: FutureWarning: errors='ignore' is deprecated and will raise in a future version. Use to_numeric without passing `errors` and catch exceptions explicitly instead\n",
      "  df = df.apply(pd.to_numeric, errors='ignore')\n",
      " 80%|████████  | 232/290 [00:27<00:06,  8.94it/s]/home/max/ma_thesis/code/code_submission/analysis/ptmstruct/structural_comparison/preprocessing.py:133: FutureWarning: errors='ignore' is deprecated and will raise in a future version. Use to_numeric without passing `errors` and catch exceptions explicitly instead\n",
      "  df = df.apply(pd.to_numeric, errors='ignore')\n",
      " 80%|████████  | 233/290 [00:28<00:06,  8.96it/s]/home/max/ma_thesis/code/code_submission/analysis/ptmstruct/structural_comparison/preprocessing.py:133: FutureWarning: errors='ignore' is deprecated and will raise in a future version. Use to_numeric without passing `errors` and catch exceptions explicitly instead\n",
      "  df = df.apply(pd.to_numeric, errors='ignore')\n",
      " 81%|████████  | 234/290 [00:28<00:06,  8.92it/s]/home/max/ma_thesis/code/code_submission/analysis/ptmstruct/structural_comparison/preprocessing.py:133: FutureWarning: errors='ignore' is deprecated and will raise in a future version. Use to_numeric without passing `errors` and catch exceptions explicitly instead\n",
      "  df = df.apply(pd.to_numeric, errors='ignore')\n",
      " 81%|████████  | 235/290 [00:28<00:06,  8.93it/s]/home/max/ma_thesis/code/code_submission/analysis/ptmstruct/structural_comparison/preprocessing.py:133: FutureWarning: errors='ignore' is deprecated and will raise in a future version. Use to_numeric without passing `errors` and catch exceptions explicitly instead\n",
      "  df = df.apply(pd.to_numeric, errors='ignore')\n",
      " 81%|████████▏ | 236/290 [00:28<00:06,  8.96it/s]/home/max/ma_thesis/code/code_submission/analysis/ptmstruct/structural_comparison/preprocessing.py:133: FutureWarning: errors='ignore' is deprecated and will raise in a future version. Use to_numeric without passing `errors` and catch exceptions explicitly instead\n",
      "  df = df.apply(pd.to_numeric, errors='ignore')\n",
      " 82%|████████▏ | 237/290 [00:28<00:05,  8.87it/s]/home/max/ma_thesis/code/code_submission/analysis/ptmstruct/structural_comparison/preprocessing.py:133: FutureWarning: errors='ignore' is deprecated and will raise in a future version. Use to_numeric without passing `errors` and catch exceptions explicitly instead\n",
      "  df = df.apply(pd.to_numeric, errors='ignore')\n",
      " 82%|████████▏ | 238/290 [00:28<00:05,  8.74it/s]/home/max/ma_thesis/code/code_submission/analysis/ptmstruct/structural_comparison/preprocessing.py:133: FutureWarning: errors='ignore' is deprecated and will raise in a future version. Use to_numeric without passing `errors` and catch exceptions explicitly instead\n",
      "  df = df.apply(pd.to_numeric, errors='ignore')\n",
      " 82%|████████▏ | 239/290 [00:28<00:05,  8.50it/s]/home/max/ma_thesis/code/code_submission/analysis/ptmstruct/structural_comparison/preprocessing.py:133: FutureWarning: errors='ignore' is deprecated and will raise in a future version. Use to_numeric without passing `errors` and catch exceptions explicitly instead\n",
      "  df = df.apply(pd.to_numeric, errors='ignore')\n",
      " 83%|████████▎ | 240/290 [00:28<00:05,  8.47it/s]/home/max/ma_thesis/code/code_submission/analysis/ptmstruct/structural_comparison/preprocessing.py:133: FutureWarning: errors='ignore' is deprecated and will raise in a future version. Use to_numeric without passing `errors` and catch exceptions explicitly instead\n",
      "  df = df.apply(pd.to_numeric, errors='ignore')\n",
      " 83%|████████▎ | 241/290 [00:28<00:05,  8.47it/s]/home/max/ma_thesis/code/code_submission/analysis/ptmstruct/structural_comparison/preprocessing.py:133: FutureWarning: errors='ignore' is deprecated and will raise in a future version. Use to_numeric without passing `errors` and catch exceptions explicitly instead\n",
      "  df = df.apply(pd.to_numeric, errors='ignore')\n",
      " 83%|████████▎ | 242/290 [00:29<00:05,  8.48it/s]/home/max/ma_thesis/code/code_submission/analysis/ptmstruct/structural_comparison/preprocessing.py:133: FutureWarning: errors='ignore' is deprecated and will raise in a future version. Use to_numeric without passing `errors` and catch exceptions explicitly instead\n",
      "  df = df.apply(pd.to_numeric, errors='ignore')\n",
      " 84%|████████▍ | 243/290 [00:29<00:05,  8.49it/s]/home/max/ma_thesis/code/code_submission/analysis/ptmstruct/structural_comparison/preprocessing.py:133: FutureWarning: errors='ignore' is deprecated and will raise in a future version. Use to_numeric without passing `errors` and catch exceptions explicitly instead\n",
      "  df = df.apply(pd.to_numeric, errors='ignore')\n",
      " 84%|████████▍ | 244/290 [00:29<00:05,  8.48it/s]/home/max/ma_thesis/code/code_submission/analysis/ptmstruct/structural_comparison/preprocessing.py:133: FutureWarning: errors='ignore' is deprecated and will raise in a future version. Use to_numeric without passing `errors` and catch exceptions explicitly instead\n",
      "  df = df.apply(pd.to_numeric, errors='ignore')\n",
      " 84%|████████▍ | 245/290 [00:29<00:05,  8.60it/s]/home/max/ma_thesis/code/code_submission/analysis/ptmstruct/structural_comparison/preprocessing.py:133: FutureWarning: errors='ignore' is deprecated and will raise in a future version. Use to_numeric without passing `errors` and catch exceptions explicitly instead\n",
      "  df = df.apply(pd.to_numeric, errors='ignore')\n",
      " 85%|████████▍ | 246/290 [00:29<00:05,  8.59it/s]/home/max/ma_thesis/code/code_submission/analysis/ptmstruct/structural_comparison/preprocessing.py:133: FutureWarning: errors='ignore' is deprecated and will raise in a future version. Use to_numeric without passing `errors` and catch exceptions explicitly instead\n",
      "  df = df.apply(pd.to_numeric, errors='ignore')\n",
      " 85%|████████▌ | 247/290 [00:29<00:04,  8.72it/s]/home/max/ma_thesis/code/code_submission/analysis/ptmstruct/structural_comparison/preprocessing.py:133: FutureWarning: errors='ignore' is deprecated and will raise in a future version. Use to_numeric without passing `errors` and catch exceptions explicitly instead\n",
      "  df = df.apply(pd.to_numeric, errors='ignore')\n",
      " 86%|████████▌ | 248/290 [00:29<00:04,  8.79it/s]/home/max/ma_thesis/code/code_submission/analysis/ptmstruct/structural_comparison/preprocessing.py:133: FutureWarning: errors='ignore' is deprecated and will raise in a future version. Use to_numeric without passing `errors` and catch exceptions explicitly instead\n",
      "  df = df.apply(pd.to_numeric, errors='ignore')\n",
      " 86%|████████▌ | 249/290 [00:29<00:05,  7.76it/s]/home/max/ma_thesis/code/code_submission/analysis/ptmstruct/structural_comparison/preprocessing.py:133: FutureWarning: errors='ignore' is deprecated and will raise in a future version. Use to_numeric without passing `errors` and catch exceptions explicitly instead\n",
      "  df = df.apply(pd.to_numeric, errors='ignore')\n",
      " 86%|████████▌ | 250/290 [00:30<00:05,  7.91it/s]/home/max/ma_thesis/code/code_submission/analysis/ptmstruct/structural_comparison/preprocessing.py:133: FutureWarning: errors='ignore' is deprecated and will raise in a future version. Use to_numeric without passing `errors` and catch exceptions explicitly instead\n",
      "  df = df.apply(pd.to_numeric, errors='ignore')\n",
      " 87%|████████▋ | 251/290 [00:30<00:04,  8.00it/s]/home/max/ma_thesis/code/code_submission/analysis/ptmstruct/structural_comparison/preprocessing.py:133: FutureWarning: errors='ignore' is deprecated and will raise in a future version. Use to_numeric without passing `errors` and catch exceptions explicitly instead\n",
      "  df = df.apply(pd.to_numeric, errors='ignore')\n",
      " 87%|████████▋ | 252/290 [00:30<00:04,  8.15it/s]/home/max/ma_thesis/code/code_submission/analysis/ptmstruct/structural_comparison/preprocessing.py:133: FutureWarning: errors='ignore' is deprecated and will raise in a future version. Use to_numeric without passing `errors` and catch exceptions explicitly instead\n",
      "  df = df.apply(pd.to_numeric, errors='ignore')\n",
      " 87%|████████▋ | 253/290 [00:30<00:04,  8.18it/s]/home/max/ma_thesis/code/code_submission/analysis/ptmstruct/structural_comparison/preprocessing.py:133: FutureWarning: errors='ignore' is deprecated and will raise in a future version. Use to_numeric without passing `errors` and catch exceptions explicitly instead\n",
      "  df = df.apply(pd.to_numeric, errors='ignore')\n",
      " 88%|████████▊ | 254/290 [00:30<00:04,  8.32it/s]/home/max/ma_thesis/code/code_submission/analysis/ptmstruct/structural_comparison/preprocessing.py:133: FutureWarning: errors='ignore' is deprecated and will raise in a future version. Use to_numeric without passing `errors` and catch exceptions explicitly instead\n",
      "  df = df.apply(pd.to_numeric, errors='ignore')\n",
      " 88%|████████▊ | 255/290 [00:30<00:04,  8.36it/s]/home/max/ma_thesis/code/code_submission/analysis/ptmstruct/structural_comparison/preprocessing.py:133: FutureWarning: errors='ignore' is deprecated and will raise in a future version. Use to_numeric without passing `errors` and catch exceptions explicitly instead\n",
      "  df = df.apply(pd.to_numeric, errors='ignore')\n",
      " 88%|████████▊ | 256/290 [00:30<00:04,  8.41it/s]/home/max/ma_thesis/code/code_submission/analysis/ptmstruct/structural_comparison/preprocessing.py:133: FutureWarning: errors='ignore' is deprecated and will raise in a future version. Use to_numeric without passing `errors` and catch exceptions explicitly instead\n",
      "  df = df.apply(pd.to_numeric, errors='ignore')\n",
      " 89%|████████▊ | 257/290 [00:30<00:04,  8.10it/s]/home/max/ma_thesis/code/code_submission/analysis/ptmstruct/structural_comparison/preprocessing.py:133: FutureWarning: errors='ignore' is deprecated and will raise in a future version. Use to_numeric without passing `errors` and catch exceptions explicitly instead\n",
      "  df = df.apply(pd.to_numeric, errors='ignore')\n",
      " 89%|████████▉ | 258/290 [00:31<00:04,  7.96it/s]/home/max/ma_thesis/code/code_submission/analysis/ptmstruct/structural_comparison/preprocessing.py:133: FutureWarning: errors='ignore' is deprecated and will raise in a future version. Use to_numeric without passing `errors` and catch exceptions explicitly instead\n",
      "  df = df.apply(pd.to_numeric, errors='ignore')\n",
      " 89%|████████▉ | 259/290 [00:31<00:03,  8.02it/s]/home/max/ma_thesis/code/code_submission/analysis/ptmstruct/structural_comparison/preprocessing.py:133: FutureWarning: errors='ignore' is deprecated and will raise in a future version. Use to_numeric without passing `errors` and catch exceptions explicitly instead\n",
      "  df = df.apply(pd.to_numeric, errors='ignore')\n",
      " 90%|████████▉ | 260/290 [00:31<00:03,  8.07it/s]/home/max/ma_thesis/code/code_submission/analysis/ptmstruct/structural_comparison/preprocessing.py:133: FutureWarning: errors='ignore' is deprecated and will raise in a future version. Use to_numeric without passing `errors` and catch exceptions explicitly instead\n",
      "  df = df.apply(pd.to_numeric, errors='ignore')\n",
      " 90%|█████████ | 261/290 [00:31<00:03,  7.85it/s]/home/max/ma_thesis/code/code_submission/analysis/ptmstruct/structural_comparison/preprocessing.py:133: FutureWarning: errors='ignore' is deprecated and will raise in a future version. Use to_numeric without passing `errors` and catch exceptions explicitly instead\n",
      "  df = df.apply(pd.to_numeric, errors='ignore')\n",
      " 90%|█████████ | 262/290 [00:31<00:03,  7.72it/s]/home/max/ma_thesis/code/code_submission/analysis/ptmstruct/structural_comparison/preprocessing.py:133: FutureWarning: errors='ignore' is deprecated and will raise in a future version. Use to_numeric without passing `errors` and catch exceptions explicitly instead\n",
      "  df = df.apply(pd.to_numeric, errors='ignore')\n",
      " 91%|█████████ | 263/290 [00:31<00:03,  7.64it/s]/home/max/ma_thesis/code/code_submission/analysis/ptmstruct/structural_comparison/preprocessing.py:133: FutureWarning: errors='ignore' is deprecated and will raise in a future version. Use to_numeric without passing `errors` and catch exceptions explicitly instead\n",
      "  df = df.apply(pd.to_numeric, errors='ignore')\n",
      " 91%|█████████ | 264/290 [00:31<00:03,  7.59it/s]/home/max/ma_thesis/code/code_submission/analysis/ptmstruct/structural_comparison/preprocessing.py:133: FutureWarning: errors='ignore' is deprecated and will raise in a future version. Use to_numeric without passing `errors` and catch exceptions explicitly instead\n",
      "  df = df.apply(pd.to_numeric, errors='ignore')\n",
      " 91%|█████████▏| 265/290 [00:31<00:03,  7.45it/s]/home/max/ma_thesis/code/code_submission/analysis/ptmstruct/structural_comparison/preprocessing.py:133: FutureWarning: errors='ignore' is deprecated and will raise in a future version. Use to_numeric without passing `errors` and catch exceptions explicitly instead\n",
      "  df = df.apply(pd.to_numeric, errors='ignore')\n",
      " 92%|█████████▏| 266/290 [00:32<00:03,  7.50it/s]/home/max/ma_thesis/code/code_submission/analysis/ptmstruct/structural_comparison/preprocessing.py:133: FutureWarning: errors='ignore' is deprecated and will raise in a future version. Use to_numeric without passing `errors` and catch exceptions explicitly instead\n",
      "  df = df.apply(pd.to_numeric, errors='ignore')\n",
      " 92%|█████████▏| 267/290 [00:32<00:03,  7.53it/s]/home/max/ma_thesis/code/code_submission/analysis/ptmstruct/structural_comparison/preprocessing.py:133: FutureWarning: errors='ignore' is deprecated and will raise in a future version. Use to_numeric without passing `errors` and catch exceptions explicitly instead\n",
      "  df = df.apply(pd.to_numeric, errors='ignore')\n",
      " 92%|█████████▏| 268/290 [00:32<00:02,  7.60it/s]/home/max/ma_thesis/code/code_submission/analysis/ptmstruct/structural_comparison/preprocessing.py:133: FutureWarning: errors='ignore' is deprecated and will raise in a future version. Use to_numeric without passing `errors` and catch exceptions explicitly instead\n",
      "  df = df.apply(pd.to_numeric, errors='ignore')\n",
      " 93%|█████████▎| 269/290 [00:32<00:02,  7.66it/s]/home/max/ma_thesis/code/code_submission/analysis/ptmstruct/structural_comparison/preprocessing.py:133: FutureWarning: errors='ignore' is deprecated and will raise in a future version. Use to_numeric without passing `errors` and catch exceptions explicitly instead\n",
      "  df = df.apply(pd.to_numeric, errors='ignore')\n",
      " 93%|█████████▎| 270/290 [00:32<00:02,  7.78it/s]/home/max/ma_thesis/code/code_submission/analysis/ptmstruct/structural_comparison/preprocessing.py:133: FutureWarning: errors='ignore' is deprecated and will raise in a future version. Use to_numeric without passing `errors` and catch exceptions explicitly instead\n",
      "  df = df.apply(pd.to_numeric, errors='ignore')\n",
      " 93%|█████████▎| 271/290 [00:32<00:02,  8.11it/s]/home/max/ma_thesis/code/code_submission/analysis/ptmstruct/structural_comparison/preprocessing.py:133: FutureWarning: errors='ignore' is deprecated and will raise in a future version. Use to_numeric without passing `errors` and catch exceptions explicitly instead\n",
      "  df = df.apply(pd.to_numeric, errors='ignore')\n",
      " 94%|█████████▍| 272/290 [00:32<00:02,  8.38it/s]/home/max/ma_thesis/code/code_submission/analysis/ptmstruct/structural_comparison/preprocessing.py:133: FutureWarning: errors='ignore' is deprecated and will raise in a future version. Use to_numeric without passing `errors` and catch exceptions explicitly instead\n",
      "  df = df.apply(pd.to_numeric, errors='ignore')\n",
      " 94%|█████████▍| 273/290 [00:32<00:01,  8.56it/s]/home/max/ma_thesis/code/code_submission/analysis/ptmstruct/structural_comparison/preprocessing.py:133: FutureWarning: errors='ignore' is deprecated and will raise in a future version. Use to_numeric without passing `errors` and catch exceptions explicitly instead\n",
      "  df = df.apply(pd.to_numeric, errors='ignore')\n",
      " 94%|█████████▍| 274/290 [00:33<00:01,  8.56it/s]/home/max/ma_thesis/code/code_submission/analysis/ptmstruct/structural_comparison/preprocessing.py:133: FutureWarning: errors='ignore' is deprecated and will raise in a future version. Use to_numeric without passing `errors` and catch exceptions explicitly instead\n",
      "  df = df.apply(pd.to_numeric, errors='ignore')\n",
      " 95%|█████████▍| 275/290 [00:33<00:02,  7.16it/s]/home/max/ma_thesis/code/code_submission/analysis/ptmstruct/structural_comparison/preprocessing.py:133: FutureWarning: errors='ignore' is deprecated and will raise in a future version. Use to_numeric without passing `errors` and catch exceptions explicitly instead\n",
      "  df = df.apply(pd.to_numeric, errors='ignore')\n",
      " 95%|█████████▌| 276/290 [00:33<00:01,  7.25it/s]/home/max/ma_thesis/code/code_submission/analysis/ptmstruct/structural_comparison/preprocessing.py:133: FutureWarning: errors='ignore' is deprecated and will raise in a future version. Use to_numeric without passing `errors` and catch exceptions explicitly instead\n",
      "  df = df.apply(pd.to_numeric, errors='ignore')\n",
      " 96%|█████████▌| 277/290 [00:33<00:01,  7.43it/s]/home/max/ma_thesis/code/code_submission/analysis/ptmstruct/structural_comparison/preprocessing.py:133: FutureWarning: errors='ignore' is deprecated and will raise in a future version. Use to_numeric without passing `errors` and catch exceptions explicitly instead\n",
      "  df = df.apply(pd.to_numeric, errors='ignore')\n",
      " 96%|█████████▌| 278/290 [00:33<00:01,  7.69it/s]/home/max/ma_thesis/code/code_submission/analysis/ptmstruct/structural_comparison/preprocessing.py:133: FutureWarning: errors='ignore' is deprecated and will raise in a future version. Use to_numeric without passing `errors` and catch exceptions explicitly instead\n",
      "  df = df.apply(pd.to_numeric, errors='ignore')\n",
      " 96%|█████████▌| 279/290 [00:33<00:01,  7.80it/s]/home/max/ma_thesis/code/code_submission/analysis/ptmstruct/structural_comparison/preprocessing.py:133: FutureWarning: errors='ignore' is deprecated and will raise in a future version. Use to_numeric without passing `errors` and catch exceptions explicitly instead\n",
      "  df = df.apply(pd.to_numeric, errors='ignore')\n",
      " 97%|█████████▋| 280/290 [00:33<00:01,  7.91it/s]/home/max/ma_thesis/code/code_submission/analysis/ptmstruct/structural_comparison/preprocessing.py:133: FutureWarning: errors='ignore' is deprecated and will raise in a future version. Use to_numeric without passing `errors` and catch exceptions explicitly instead\n",
      "  df = df.apply(pd.to_numeric, errors='ignore')\n",
      " 97%|█████████▋| 281/290 [00:33<00:01,  8.03it/s]/home/max/ma_thesis/code/code_submission/analysis/ptmstruct/structural_comparison/preprocessing.py:133: FutureWarning: errors='ignore' is deprecated and will raise in a future version. Use to_numeric without passing `errors` and catch exceptions explicitly instead\n",
      "  df = df.apply(pd.to_numeric, errors='ignore')\n",
      " 97%|█████████▋| 282/290 [00:34<00:00,  8.19it/s]/home/max/ma_thesis/code/code_submission/analysis/ptmstruct/structural_comparison/preprocessing.py:133: FutureWarning: errors='ignore' is deprecated and will raise in a future version. Use to_numeric without passing `errors` and catch exceptions explicitly instead\n",
      "  df = df.apply(pd.to_numeric, errors='ignore')\n",
      " 98%|█████████▊| 283/290 [00:34<00:00,  8.29it/s]/home/max/ma_thesis/code/code_submission/analysis/ptmstruct/structural_comparison/preprocessing.py:133: FutureWarning: errors='ignore' is deprecated and will raise in a future version. Use to_numeric without passing `errors` and catch exceptions explicitly instead\n",
      "  df = df.apply(pd.to_numeric, errors='ignore')\n",
      " 98%|█████████▊| 284/290 [00:34<00:00,  8.50it/s]/home/max/ma_thesis/code/code_submission/analysis/ptmstruct/structural_comparison/preprocessing.py:133: FutureWarning: errors='ignore' is deprecated and will raise in a future version. Use to_numeric without passing `errors` and catch exceptions explicitly instead\n",
      "  df = df.apply(pd.to_numeric, errors='ignore')\n",
      " 98%|█████████▊| 285/290 [00:34<00:00,  8.65it/s]/home/max/ma_thesis/code/code_submission/analysis/ptmstruct/structural_comparison/preprocessing.py:133: FutureWarning: errors='ignore' is deprecated and will raise in a future version. Use to_numeric without passing `errors` and catch exceptions explicitly instead\n",
      "  df = df.apply(pd.to_numeric, errors='ignore')\n",
      " 99%|█████████▊| 286/290 [00:34<00:00,  8.73it/s]/home/max/ma_thesis/code/code_submission/analysis/ptmstruct/structural_comparison/preprocessing.py:133: FutureWarning: errors='ignore' is deprecated and will raise in a future version. Use to_numeric without passing `errors` and catch exceptions explicitly instead\n",
      "  df = df.apply(pd.to_numeric, errors='ignore')\n",
      " 99%|█████████▉| 287/290 [00:34<00:00,  8.86it/s]/home/max/ma_thesis/code/code_submission/analysis/ptmstruct/structural_comparison/preprocessing.py:133: FutureWarning: errors='ignore' is deprecated and will raise in a future version. Use to_numeric without passing `errors` and catch exceptions explicitly instead\n",
      "  df = df.apply(pd.to_numeric, errors='ignore')\n",
      " 99%|█████████▉| 288/290 [00:34<00:00,  8.88it/s]/home/max/ma_thesis/code/code_submission/analysis/ptmstruct/structural_comparison/preprocessing.py:133: FutureWarning: errors='ignore' is deprecated and will raise in a future version. Use to_numeric without passing `errors` and catch exceptions explicitly instead\n",
      "  df = df.apply(pd.to_numeric, errors='ignore')\n",
      "100%|█████████▉| 289/290 [00:34<00:00,  8.90it/s]/home/max/ma_thesis/code/code_submission/analysis/ptmstruct/structural_comparison/preprocessing.py:133: FutureWarning: errors='ignore' is deprecated and will raise in a future version. Use to_numeric without passing `errors` and catch exceptions explicitly instead\n",
      "  df = df.apply(pd.to_numeric, errors='ignore')\n",
      "100%|██████████| 290/290 [00:34<00:00,  8.29it/s]\n",
      "100%|██████████| 290/290 [00:04<00:00, 64.13it/s]\n",
      "100%|██████████| 290/290 [00:01<00:00, 182.73it/s]\n",
      "100%|██████████| 290/290 [00:00<00:00, 772.17it/s]\n",
      "100%|██████████| 290/290 [00:00<00:00, 418.81it/s]\n",
      "100%|██████████| 290/290 [00:01<00:00, 286.59it/s]\n",
      "100%|██████████| 290/290 [00:00<00:00, 302.42it/s]\n"
     ]
    }
   ],
   "source": [
    "cif_dir, pae_dir, selected_proteins, plddts_dict = af3_processing.load_af3_data(\n",
    "    alphafold_path = \"data/af3_validation/af3/\",\n",
    "    data_dir = \"data/af3_validation/\",\n",
    "    af3_name_mapping=name_napping,\n",
    "    use_present_files = False\n",
    ")\n",
    "\n",
    "pred_with_pae = False \n",
    "if pred_with_pae:\n",
    "    df_ppse = preprocessing.perform_annotations(selected_proteins, cif_dir, pae_dir)\n",
    "else: \n",
    "    alphafold_annotation = preprocessing.load_protein_data_from_file(selected_proteins, cif_dir)\n",
    "    alphafold_accessibility = annotate_pPSE_values(alphafold_annotation, None)\n",
    "    alphafold_accessibility_smooth = preprocessing.annotate_IDRs(alphafold_accessibility)\n",
    "    df_ppse = preprocessing.annotate_short_IDRs(alphafold_accessibility_smooth)"
   ]
  },
  {
   "cell_type": "markdown",
   "id": "e7a4a9e9",
   "metadata": {},
   "source": [
    "### Extract protein structure"
   ]
  },
  {
   "cell_type": "code",
   "execution_count": 8,
   "id": "d6feecba",
   "metadata": {},
   "outputs": [
    {
     "name": "stderr",
     "output_type": "stream",
     "text": [
      "  0%|          | 0/290 [00:00<?, ?it/s]"
     ]
    },
    {
     "name": "stderr",
     "output_type": "stream",
     "text": [
      "100%|██████████| 290/290 [00:58<00:00,  4.99it/s]\n",
      "  0%|          | 0/18 [00:00<?, ?it/s]/home/max/ma_thesis/code/code_submission/analysis/venv/lib/python3.9/site-packages/MDAnalysis/topology/guessers.py:146: UserWarning: Failed to guess the mass for the following atom types: HG\n",
      "  warnings.warn(\"Failed to guess the mass for the following atom types: {}\".format(atom_type))\n",
      " 22%|██▏       | 4/18 [00:00<00:03,  4.64it/s]/home/max/ma_thesis/code/code_submission/analysis/venv/lib/python3.9/site-packages/MDAnalysis/topology/guessers.py:146: UserWarning: Failed to guess the mass for the following atom types: MN\n",
      "  warnings.warn(\"Failed to guess the mass for the following atom types: {}\".format(atom_type))\n",
      "100%|██████████| 18/18 [00:05<00:00,  3.58it/s]\n",
      "100%|██████████| 21/21 [00:08<00:00,  2.55it/s]"
     ]
    },
    {
     "name": "stdout",
     "output_type": "stream",
     "text": [
      "dict_keys(['12CA', '133L', '1A28', '1A3K', '1A6Q', '1A7S', '1A8E', '1A8F', '1A9U', '1AD6', '1ADS', '1AE5', '1AKZ', '1ANW', '1AO3', '1AO6', '1ATK', '1ATZ', '2GIV_ac_K_98', '2GIV', '2I2Z_ac_K_197', '2I2Z', '2OU2_ac_K_98', '2OU2', '2OZU_ac_K_98', '2OZU', '2X25_ac_K_129', '2X25', '2YBG_ac_K_25', '2YBG', '3QAH_ac_K_99', '3QAH', '4R5A_ac_K_153', '4R5A', '4RJ3_ac_K_33', '4RJ3', '4ZWI_ac_K_109', '4ZWI', '5J8C_ac_K_100', '5J8C', '6BA2_ac_K_98', '6BA2', '6BA4_ac_K_98', '6BA4', '6CT2_ac_K_99', '6CT2', '6MAJ_ac_K_98', '6MAJ', '6MAK_ac_K_97', '6MAK', '6OIN_ac_K_98', '6OIN', '6V8N_ac_K_49', '6V8N', '7D0O_ac_K_97', '7D0O', '8DD5_ac_K_97', '8DD5'])\n",
      "dict_keys(['12ca', '133l', '1a28', '1a3k', '1a6q', '1a7s', '1a8e', '1a8f', '1a9u', '1ad6', '1ads', '1ae5', '1akz', '1anw', '1ao3', '1ao6', '1atk', '1atz', '2giv', '2i2z', '2ou2', '2ozu', '2x25', '2x2c', '2ybg', '3qah', '4r5a', '4rj3', '4zwi', '5j8c', '6ba2', '6ba4', '6ct2', '6maj', '6mak', '6oin', '6v8n', '7d0o', '8dd5'])\n"
     ]
    },
    {
     "name": "stderr",
     "output_type": "stream",
     "text": [
      "\n"
     ]
    }
   ],
   "source": [
    "protein_predicted_structure_dict = preprocessing.load_protein_strctures(selected_proteins, cif_dir)\n",
    "protein_experimental_structure_dict_1 = preprocessing.load_protein_strctures(proteins_no_mod, \"data/af3_validation/org_cif/no_mod\")\n",
    "protein_experimental_structure_dict_2 = preprocessing.load_protein_strctures(proteins_mod, \"data/af3_validation/org_cif/mod\")\n",
    "protein_experimental_structure_dict = protein_experimental_structure_dict_1 | protein_experimental_structure_dict_2\n",
    "\n",
    "print(protein_predicted_structure_dict.keys())\n",
    "print(protein_experimental_structure_dict.keys())"
   ]
  },
  {
   "cell_type": "markdown",
   "id": "09759bdd",
   "metadata": {},
   "source": [
    "## Compute Comparison"
   ]
  },
  {
   "cell_type": "code",
   "execution_count": null,
   "id": "544daed8",
   "metadata": {},
   "outputs": [],
   "source": [
    "from plotly.subplots import make_subplots\n",
    "\n",
    "def compute_rmsd_aligned(coords1, coords2_aligned, min_len):\n",
    "    diff = coords1[:min_len] - coords2_aligned\n",
    "    rmsd = np.sqrt(np.mean(np.sum(diff**2, axis=1)))\n",
    "    return rmsd\n",
    "\n",
    "def compare_structures(structure1, structure2):\n",
    "    atoms1, coords1, residues1 = structure_comparison.extract_ca_atoms_and_coords(structure1)\n",
    "    atoms2, coords2, residues2 = structure_comparison.extract_ca_atoms_and_coords(structure2)\n",
    "\n",
    "    min_len, coords2_aligned = structure_comparison.align_structures(atoms1, atoms2, structure2)\n",
    "\n",
    "    distances1, distances2 = structure_comparison.compute_consecutive_distances(coords1, coords2_aligned, min_len)\n",
    "    angles1, angles2, angle_diff = structure_comparison.compute_vectors(structure1, structure2)\n",
    "    rmsd = compute_rmsd_aligned(coords1, coords2_aligned, min_len)\n",
    "\n",
    "    return rmsd, np.median(angle_diff) \n",
    "\n",
    "\n",
    "def box_plot_consec_diff_results(comparison_results, comparison_label_map, custom_colors):\n",
    "    consec_data = []\n",
    "    for comparison, metrics in comparison_results.items():\n",
    "        display_name = comparison_label_map.get(comparison, comparison)\n",
    "        for value in metrics[\"consec_diff\"]:\n",
    "            consec_data.append({\"Comparison\": display_name, \"Value\": value})\n",
    "\n",
    "    df_consec = pd.DataFrame(consec_data)\n",
    "\n",
    "    fig_consec = px.box(\n",
    "        df_consec, \n",
    "        x=\"Comparison\", \n",
    "        y=\"Value\", \n",
    "        title=\"Boxplot of Consecutive Distance MeanErrors between models\",\n",
    "        labels={\"Value\": \"Consecutive Distance Difference\"},\n",
    "        color=\"Comparison\",\n",
    "        color_discrete_map=custom_colors\n",
    "    )\n",
    "    fig_consec.update_layout(\n",
    "        xaxis_title=\"Model Comparisons\",\n",
    "        xaxis=dict(showticklabels=False),\n",
    "        width=1000\n",
    "    )\n",
    "\n",
    "    config = {\n",
    "        'toImageButtonOptions': {\n",
    "            'format': 'png',\n",
    "            'filename': \"Boxplot of Consecutive Distance MeanErrors between models\"\n",
    "        }\n",
    "    }\n",
    "\n",
    "    fig_consec.show(config=config)\n",
    "\n",
    "\n",
    "def box_plot_angle_diff_results(comparison_results, comparison_label_map, custom_colors):\n",
    "    angles_data = []\n",
    "    for comparison, metrics in comparison_results.items():\n",
    "        display_name = comparison_label_map.get(comparison, comparison)\n",
    "        for value in metrics[\"angles\"]:\n",
    "            angles_data.append({\"Comparison\": display_name, \"Value\": value})\n",
    "\n",
    "    df_angles = pd.DataFrame(angles_data)\n",
    "\n",
    "    fig_angles = px.box(\n",
    "        df_angles, \n",
    "        x=\"Comparison\", \n",
    "        y=\"Value\", \n",
    "        title=\"Boxplot of Median of Angle Difference between models\",\n",
    "        labels={\"Value\": \"Angle (degrees)\"},\n",
    "        color=\"Comparison\",\n",
    "        color_discrete_map=custom_colors\n",
    "    )\n",
    "\n",
    "    fig_angles.update_layout(\n",
    "        xaxis_title=\"Model Comparisons\",\n",
    "        width=1000,\n",
    "        xaxis=dict(showticklabels=False)\n",
    "    )\n",
    "    config = {\n",
    "        'toImageButtonOptions': {\n",
    "            'format': 'png',\n",
    "            'filename': \"Boxplot of Median of Angle Difference between models\"\n",
    "        }\n",
    "    }\n",
    "    fig_angles.show(config=config)\n",
    "\n",
    "def box_plot_diff_results_nocolor(comparison_results, comparison_label_map, metric, yaxis_name, name):\n",
    "    num_comparisons = len(comparison_results)\n",
    "    subplot_titles = [comparison_label_map.get(k, k) for k in comparison_results]\n",
    "\n",
    "    fig = make_subplots(\n",
    "        rows=1, \n",
    "        cols=num_comparisons, \n",
    "        subplot_titles=subplot_titles,\n",
    "        shared_yaxes=True\n",
    "    )\n",
    "\n",
    "    for i, (comparison, metrics) in enumerate(comparison_results.items(), start=1):\n",
    "        values = np.array(metrics[metric])\n",
    "        median = np.median(values)\n",
    "        q1 = np.percentile(values, 25)\n",
    "        q3 = np.percentile(values, 75)\n",
    "        iqr = q3 - q1\n",
    "        lower_whisker = np.min(values[values >= q1 - 1.5 * iqr])\n",
    "        upper_whisker = np.max(values[values <= q3 + 1.5 * iqr])\n",
    "        min_val = np.min(values)\n",
    "        max_val = np.max(values)\n",
    "\n",
    "        print(f\"Boxplot for {metric} {comparison}:\")\n",
    "        print(f\"  Count: {len(values)}\")\n",
    "        print(f\"  Median: {median:.4f}\")\n",
    "        print(f\"  Q1 (25th percentile): {q1:.4f}\")\n",
    "        print(f\"  Q3 (75th percentile): {q3:.4f}\")\n",
    "        print(f\"  IQR: {iqr:.4f}\")\n",
    "        print(f\"  Lower Whisker: {lower_whisker:.4f}\")\n",
    "        print(f\"  Upper Whisker: {upper_whisker:.4f}\")\n",
    "        print(f\"  Min: {min_val:.4f}\")\n",
    "        print(f\"  Max: {max_val:.4f}\")\n",
    "        print(\"\")\n",
    "        fig.add_trace(\n",
    "            go.Box(\n",
    "                y=metrics[metric],\n",
    "                marker_color=\"black\",\n",
    "                line_color=\"black\",\n",
    "                boxpoints=\"outliers\",\n",
    "                name=\"\", \n",
    "                showlegend=False\n",
    "            ),\n",
    "            row=1, \n",
    "            col=i\n",
    "        )\n",
    "        fig.update_xaxes(showticklabels=False, row=1, col=i)\n",
    "\n",
    "    fig.update_layout(\n",
    "        title_text=\"\", \n",
    "        width=250 * num_comparisons,\n",
    "        height=400,\n",
    "        margin=dict(t=60, b=60, l=40, r=40),\n",
    "        yaxis_title=yaxis_name,\n",
    "        font=dict(\n",
    "            size=24, \n",
    "        )\n",
    "    )\n",
    "    for annotation in fig.layout.annotations:\n",
    "        annotation.font.size = 24\n",
    "\n",
    "    config = {\n",
    "        'toImageButtonOptions': {\n",
    "            'format': 'png',\n",
    "            'filename': name\n",
    "        }\n",
    "    }\n",
    "\n",
    "    fig.show(config=config)\n",
    "\n",
    "\n",
    "\n",
    "def box_plot_ppse_comp_results(comparison_results, comparison_label_map, custom_colors):\n",
    "    ppse_data = []\n",
    "    for comparison, metrics in comparison_results.items():\n",
    "        display_name = comparison_label_map.get(comparison, comparison)\n",
    "        for value in metrics[\"ppse_me\"]:\n",
    "            ppse_data.append({\"Comparison\": display_name, \"Value\": value})\n",
    "\n",
    "    df_ppse = pd.DataFrame(ppse_data)\n",
    "\n",
    "    fig_ppse = px.box(\n",
    "        df_ppse, \n",
    "        x=\"Comparison\", \n",
    "        y=\"Value\", \n",
    "        title=\"Boxplot of pPSE MeanError between multiple models\",\n",
    "        labels={\"Value\": \"pPSE\"},\n",
    "        color=\"Comparison\",\n",
    "        color_discrete_map=custom_colors\n",
    "    )\n",
    "\n",
    "    fig_ppse.update_layout(\n",
    "        xaxis_title=\"Model Comparisons\",\n",
    "        width=1000,\n",
    "        xaxis=dict(showticklabels=False)\n",
    "    )\n",
    "    config = {\n",
    "        'toImageButtonOptions': {\n",
    "            'format': 'png',\n",
    "            'filename': \"Boxplot of pPSE MeanError between multiple models\"\n",
    "        }\n",
    "    }\n",
    "    fig_ppse.show(config=config)"
   ]
  },
  {
   "cell_type": "code",
   "execution_count": 10,
   "id": "8c55f230",
   "metadata": {},
   "outputs": [],
   "source": [
    "group_dict, group_std_dict, group_avg_dict = structural_comparison_analysis.extract_ppse_metric_from_df(df_ppse, ppse_name = \"nAA_12_70_pae_smooth10\")\n",
    "\n",
    "pred_aa_dict = (\n",
    "    df_ppse\n",
    "    .groupby('protein_id')['AA']\n",
    "    .apply(list)\n",
    "    .to_dict()\n",
    ")\n",
    "\n",
    "org_dict = (\n",
    "    df_org_ppse\n",
    "    .groupby('protein_id')['nAA_12_70_pae_smooth10']\n",
    "    .apply(list)\n",
    "    .to_dict()\n",
    ")\n",
    "\n",
    "org_aa_dict = (\n",
    "    df_org_ppse\n",
    "    .groupby('protein_id')['AA']\n",
    "    .apply(list)\n",
    "    .to_dict()\n",
    ")"
   ]
  },
  {
   "cell_type": "markdown",
   "id": "68378c55",
   "metadata": {},
   "source": [
    "### Compute Metrics for Experimental (no mod) vs Predicted (no mod) "
   ]
  },
  {
   "cell_type": "code",
   "execution_count": 18,
   "id": "59aaa7ac",
   "metadata": {},
   "outputs": [
    {
     "name": "stdout",
     "output_type": "stream",
     "text": [
      "('8DD5_ac_K_97', '8DD5')\n",
      "✅ Full match: 255 Cα atoms aligned.\n",
      "('8DD5_ac_K_97', '8DD5')\n",
      "✅ Full match: 130 Cα atoms aligned.\n",
      "('8DD5_ac_K_97', '8DD5')\n",
      "⚠️ Partial match: 251 out of 500 (structure1) and 251 (structure2) Cα atoms aligned.\n",
      "('8DD5_ac_K_97', '8DD5')\n",
      "✅ Full match: 137 Cα atoms aligned.\n",
      "('8DD5_ac_K_97', '8DD5')\n",
      "✅ Full match: 363 Cα atoms aligned.\n",
      "('8DD5_ac_K_97', '8DD5')\n",
      "✅ Full match: 221 Cα atoms aligned.\n",
      "('8DD5_ac_K_97', '8DD5')\n",
      "✅ Full match: 329 Cα atoms aligned.\n",
      "('8DD5_ac_K_97', '8DD5')\n",
      "✅ Full match: 329 Cα atoms aligned.\n",
      "('8DD5_ac_K_97', '8DD5')\n",
      "✅ Full match: 351 Cα atoms aligned.\n",
      "('8DD5_ac_K_97', '8DD5')\n",
      "✅ Full match: 185 Cα atoms aligned.\n",
      "('8DD5_ac_K_97', '8DD5')\n",
      "✅ Full match: 315 Cα atoms aligned.\n",
      "('8DD5_ac_K_97', '8DD5')\n",
      "✅ Full match: 223 Cα atoms aligned.\n",
      "('8DD5_ac_K_97', '8DD5')\n",
      "✅ Full match: 223 Cα atoms aligned.\n",
      "('8DD5_ac_K_97', '8DD5')\n",
      "⚠️ Partial match: 319 out of 642 (structure1) and 319 (structure2) Cα atoms aligned.\n",
      "('8DD5_ac_K_97', '8DD5')\n",
      "⚠️ Partial match: 187 out of 374 (structure1) and 187 (structure2) Cα atoms aligned.\n",
      "('8DD5_ac_K_97', '8DD5')\n",
      "⚠️ Partial match: 578 out of 1156 (structure1) and 578 (structure2) Cα atoms aligned.\n",
      "('8DD5_ac_K_97', '8DD5')\n",
      "✅ Full match: 215 Cα atoms aligned.\n",
      "('8DD5_ac_K_97', '8DD5')\n",
      "⚠️ Partial match: 184 out of 373 (structure1) and 184 (structure2) Cα atoms aligned.\n"
     ]
    }
   ],
   "source": [
    "comparison_results_exp_nomod = {\n",
    "    \"exp_vs_pre_nomod\": {\"rmsd\": [], \"angles\": []},\n",
    "}\n",
    "\n",
    "comparison_results_exp_nomod_ppse = {\n",
    "    \"exp_vs_pre_nomod\": {\"ppse_me\": [], \"low_acc_ppse_me\":[], \"high_acc_ppse_me\":[]},\n",
    "}\n",
    "\n",
    "ptms_ppse_dist = []\n",
    "\n",
    "for pred_key in proteins_no_mod:\n",
    "    print(elem)\n",
    "    exp_protein = protein_experimental_structure_dict[pred_key][0][0]\n",
    "    pre_nomod_protein = protein_predicted_structure_dict[pred_key.upper()][0][0]\n",
    "\n",
    "    rmsd, mean_error_angles = compare_structures(exp_protein, pre_nomod_protein)\n",
    "    comparison_results_exp_nomod[\"exp_vs_pre_nomod\"][\"rmsd\"].append(rmsd)\n",
    "    comparison_results_exp_nomod[\"exp_vs_pre_nomod\"][\"angles\"].append(mean_error_angles)\n",
    "\n",
    "\n",
    "\n",
    "for pred_key in proteins_no_mod:\n",
    "    org_name = f\"{pred_key}_org\"\n",
    "\n",
    "    org_ppse = org_dict[org_name]\n",
    "    pred_nomod_ppse = group_avg_dict[pred_key.upper()]\n",
    "\n",
    "    if len(org_ppse) != len(pred_nomod_ppse):\n",
    "        print(\"Skipping \", pred_key)\n",
    "        continue\n",
    "    mean_error_ppse_exp_vs_pre_nomod = structural_comparison_analysis.mean_error(org_ppse, pred_nomod_ppse)\n",
    "    comparison_results_exp_nomod_ppse[\"exp_vs_pre_nomod\"][\"ppse_me\"].append(mean_error_ppse_exp_vs_pre_nomod)\n"
   ]
  },
  {
   "cell_type": "markdown",
   "id": "1e76a1cb",
   "metadata": {},
   "source": [
    "### Compute Metrics for Experimental (mod) vs Predicted (mod) vs Predicted (no mod) "
   ]
  },
  {
   "cell_type": "code",
   "execution_count": 19,
   "id": "c65dfe2d",
   "metadata": {},
   "outputs": [
    {
     "name": "stdout",
     "output_type": "stream",
     "text": [
      "('2GIV_ac_K_98', '2GIV')\n",
      "✅ Full match: 258 Cα atoms aligned.\n",
      "✅ Full match: 258 Cα atoms aligned.\n",
      "✅ Full match: 258 Cα atoms aligned.\n",
      "('2I2Z_ac_K_197', '2I2Z')\n",
      "✅ Full match: 582 Cα atoms aligned.\n",
      "✅ Full match: 582 Cα atoms aligned.\n",
      "✅ Full match: 582 Cα atoms aligned.\n",
      "('2OU2_ac_K_98', '2OU2')\n",
      "✅ Full match: 246 Cα atoms aligned.\n",
      "✅ Full match: 246 Cα atoms aligned.\n",
      "✅ Full match: 246 Cα atoms aligned.\n",
      "('2OZU_ac_K_98', '2OZU')\n",
      "✅ Full match: 254 Cα atoms aligned.\n",
      "✅ Full match: 254 Cα atoms aligned.\n",
      "✅ Full match: 254 Cα atoms aligned.\n",
      "('2X25_ac_K_129', '2X25')\n",
      "✅ Full match: 168 Cα atoms aligned.\n",
      "✅ Full match: 168 Cα atoms aligned.\n",
      "✅ Full match: 168 Cα atoms aligned.\n",
      "('2YBG_ac_K_25', '2YBG')\n",
      "⚠️ Partial match: 192 out of 773 (structure1) and 192 (structure2) Cα atoms aligned.\n",
      "⚠️ Partial match: 192 out of 773 (structure1) and 192 (structure2) Cα atoms aligned.\n",
      "✅ Full match: 192 Cα atoms aligned.\n",
      "('3QAH_ac_K_99', '3QAH')\n",
      "✅ Full match: 274 Cα atoms aligned.\n",
      "✅ Full match: 274 Cα atoms aligned.\n",
      "✅ Full match: 274 Cα atoms aligned.\n",
      "('4R5A_ac_K_153', '4R5A')\n",
      "✅ Full match: 260 Cα atoms aligned.\n",
      "✅ Full match: 260 Cα atoms aligned.\n",
      "✅ Full match: 260 Cα atoms aligned.\n",
      "('4RJ3_ac_K_33', '4RJ3')\n",
      "✅ Full match: 288 Cα atoms aligned.\n",
      "✅ Full match: 288 Cα atoms aligned.\n",
      "✅ Full match: 288 Cα atoms aligned.\n",
      "('4ZWI_ac_K_109', '4ZWI')\n",
      "✅ Full match: 257 Cα atoms aligned.\n",
      "✅ Full match: 257 Cα atoms aligned.\n",
      "✅ Full match: 257 Cα atoms aligned.\n",
      "('5J8C_ac_K_100', '5J8C')\n",
      "✅ Full match: 272 Cα atoms aligned.\n",
      "✅ Full match: 272 Cα atoms aligned.\n",
      "✅ Full match: 272 Cα atoms aligned.\n",
      "('6BA2_ac_K_98', '6BA2')\n",
      "✅ Full match: 264 Cα atoms aligned.\n",
      "✅ Full match: 264 Cα atoms aligned.\n",
      "✅ Full match: 264 Cα atoms aligned.\n",
      "('6BA4_ac_K_98', '6BA4')\n",
      "✅ Full match: 268 Cα atoms aligned.\n",
      "✅ Full match: 268 Cα atoms aligned.\n",
      "✅ Full match: 268 Cα atoms aligned.\n",
      "('6CT2_ac_K_99', '6CT2')\n",
      "✅ Full match: 274 Cα atoms aligned.\n",
      "✅ Full match: 274 Cα atoms aligned.\n",
      "✅ Full match: 274 Cα atoms aligned.\n",
      "('6MAJ_ac_K_98', '6MAJ')\n",
      "⚠️ Partial match: 267 out of 287 (structure1) and 267 (structure2) Cα atoms aligned.\n",
      "⚠️ Partial match: 267 out of 287 (structure1) and 267 (structure2) Cα atoms aligned.\n",
      "✅ Full match: 267 Cα atoms aligned.\n",
      "('6MAK_ac_K_97', '6MAK')\n",
      "⚠️ Partial match: 272 out of 299 (structure1) and 272 (structure2) Cα atoms aligned.\n",
      "⚠️ Partial match: 272 out of 299 (structure1) and 272 (structure2) Cα atoms aligned.\n",
      "✅ Full match: 272 Cα atoms aligned.\n",
      "('6OIN_ac_K_98', '6OIN')\n",
      "✅ Full match: 272 Cα atoms aligned.\n",
      "✅ Full match: 272 Cα atoms aligned.\n",
      "✅ Full match: 272 Cα atoms aligned.\n",
      "('6V8N_ac_K_49', '6V8N')\n",
      "✅ Full match: 327 Cα atoms aligned.\n",
      "✅ Full match: 327 Cα atoms aligned.\n",
      "✅ Full match: 327 Cα atoms aligned.\n",
      "('7D0O_ac_K_97', '7D0O')\n",
      "⚠️ Partial match: 273 out of 301 (structure1) and 273 (structure2) Cα atoms aligned.\n",
      "⚠️ Partial match: 273 out of 301 (structure1) and 273 (structure2) Cα atoms aligned.\n",
      "✅ Full match: 273 Cα atoms aligned.\n",
      "('8DD5_ac_K_97', '8DD5')\n",
      "✅ Full match: 272 Cα atoms aligned.\n",
      "✅ Full match: 272 Cα atoms aligned.\n",
      "✅ Full match: 272 Cα atoms aligned.\n"
     ]
    }
   ],
   "source": [
    "comparison_results_exp_mod = {\n",
    "    \"exp_vs_pre_mod\": {\"rmsd\": [], \"angles\": []},\n",
    "    \"exp_vs_pre_nomod\": {\"rmsd\": [], \"angles\": []},\n",
    "    \"pre_mod_vs_pre_nomod\": {\"rmsd\": [], \"angles\": []},\n",
    "}\n",
    "\n",
    "for elem in comparisons:\n",
    "    print(elem) \n",
    "    \n",
    "    # Retrieve structures\n",
    "    exp_protein = protein_experimental_structure_dict[elem[1].lower()][0][0]\n",
    "    pre_mod_protein = protein_predicted_structure_dict[elem[0]][0][0]\n",
    "    pre_nomod_protein = protein_predicted_structure_dict[elem[1]][0][0]\n",
    "\n",
    "    # Compare experimental vs predicted (with modification)\n",
    "    rmsd, mean_error_angles = compare_structures(exp_protein, pre_mod_protein)\n",
    "    comparison_results_exp_mod[\"exp_vs_pre_mod\"][\"rmsd\"].append(rmsd)\n",
    "    comparison_results_exp_mod[\"exp_vs_pre_mod\"][\"angles\"].append(mean_error_angles)\n",
    "\n",
    "    # Compare experimental vs predicted (no modification)\n",
    "    rmsd, mean_error_angles = compare_structures(exp_protein, pre_nomod_protein)\n",
    "    comparison_results_exp_mod[\"exp_vs_pre_nomod\"][\"rmsd\"].append(rmsd)\n",
    "    comparison_results_exp_mod[\"exp_vs_pre_nomod\"][\"angles\"].append(mean_error_angles)\n",
    "\n",
    "    # Compare predicted (with modification) vs predicted (no modification)\n",
    "    rmsd, mean_error_angles = compare_structures(pre_mod_protein, pre_nomod_protein)\n",
    "    comparison_results_exp_mod[\"pre_mod_vs_pre_nomod\"][\"rmsd\"].append(rmsd)\n",
    "    comparison_results_exp_mod[\"pre_mod_vs_pre_nomod\"][\"angles\"].append(mean_error_angles)"
   ]
  },
  {
   "cell_type": "code",
   "execution_count": 20,
   "id": "76c61092",
   "metadata": {},
   "outputs": [
    {
     "name": "stdout",
     "output_type": "stream",
     "text": [
      "Boxplot for rmsd exp_vs_pre_mod:\n",
      "  Count: 20\n",
      "  Median: 1.0939\n",
      "  Q1 (25th percentile): 0.8262\n",
      "  Q3 (75th percentile): 1.3357\n",
      "  IQR: 0.5095\n",
      "  Lower Whisker: 0.1793\n",
      "  Upper Whisker: 1.6306\n",
      "  Min: 0.1793\n",
      "  Max: 11.3511\n",
      "\n",
      "Boxplot for rmsd exp_vs_pre_nomod:\n",
      "  Count: 20\n",
      "  Median: 0.9817\n",
      "  Q1 (25th percentile): 0.7399\n",
      "  Q3 (75th percentile): 1.5123\n",
      "  IQR: 0.7724\n",
      "  Lower Whisker: 0.2231\n",
      "  Upper Whisker: 2.0446\n",
      "  Min: 0.2231\n",
      "  Max: 12.4461\n",
      "\n",
      "Boxplot for rmsd pre_mod_vs_pre_nomod:\n",
      "  Count: 20\n",
      "  Median: 0.5663\n",
      "  Q1 (25th percentile): 0.3718\n",
      "  Q3 (75th percentile): 0.9751\n",
      "  IQR: 0.6033\n",
      "  Lower Whisker: 0.1120\n",
      "  Upper Whisker: 1.6308\n",
      "  Min: 0.1120\n",
      "  Max: 4.3446\n",
      "\n",
      "Boxplot for rmsd exp_nomod_vs_pre_nomod:\n",
      "  Count: 18\n",
      "  Median: 0.5705\n",
      "  Q1 (25th percentile): 0.3371\n",
      "  Q3 (75th percentile): 1.3037\n",
      "  IQR: 0.9666\n",
      "  Lower Whisker: 0.2497\n",
      "  Upper Whisker: 2.3940\n",
      "  Min: 0.2497\n",
      "  Max: 6.6381\n",
      "\n"
     ]
    },
    {
     "data": {
      "application/vnd.plotly.v1+json": {
       "config": {
        "plotlyServerURL": "https://plot.ly",
        "toImageButtonOptions": {
         "filename": "Facet1_Boxplot of rmsd between Models",
         "format": "png"
        }
       },
       "data": [
        {
         "boxpoints": "outliers",
         "line": {
          "color": "black"
         },
         "marker": {
          "color": "black"
         },
         "name": "",
         "showlegend": false,
         "type": "box",
         "xaxis": "x",
         "y": [
          1.3233338594436646,
          4.170431137084961,
          11.351097106933594,
          1.5973994731903076,
          1.006032943725586,
          0.4438992142677307,
          1.0165847539901733,
          0.9572327136993408,
          0.44166886806488037,
          0.17932158708572388,
          0.6863840222358704,
          1.3729207515716553,
          0.8388929963111877,
          1.6306345462799072,
          1.0081804990768433,
          1.17129647731781,
          0.7880597114562988,
          1.3145831823349,
          1.2562569379806519,
          1.2276228666305542
         ],
         "yaxis": "y"
        },
        {
         "boxpoints": "outliers",
         "line": {
          "color": "black"
         },
         "marker": {
          "color": "black"
         },
         "name": "",
         "showlegend": false,
         "type": "box",
         "xaxis": "x2",
         "y": [
          1.379563331604004,
          4.285459041595459,
          12.446093559265137,
          0.9555832743644714,
          2.0446343421936035,
          0.4888780415058136,
          0.6979232430458069,
          0.7051317691802979,
          4.3638410568237305,
          0.22311285138130188,
          0.5699436068534851,
          1.1316001415252686,
          0.9028137922286987,
          1.6635644435882568,
          0.8540162444114685,
          1.0077486038208008,
          0.7515479922294617,
          1.4618775844573975,
          0.8405439257621765,
          1.245004415512085
         ],
         "yaxis": "y2"
        },
        {
         "boxpoints": "outliers",
         "line": {
          "color": "black"
         },
         "marker": {
          "color": "black"
         },
         "name": "",
         "showlegend": false,
         "type": "box",
         "xaxis": "x3",
         "y": [
          0.9523311853408813,
          0.3560219407081604,
          2.160537004470825,
          1.6308101415634155,
          1.3718596696853638,
          0.2339901626110077,
          0.5622565150260925,
          0.8204759359359741,
          4.344554424285889,
          0.11197280883789062,
          0.4943428933620453,
          1.0435949563980103,
          0.3969157338142395,
          0.7005210518836975,
          0.5702925324440002,
          0.518582820892334,
          0.34965214133262634,
          0.3771000802516937,
          0.7857094407081604,
          0.32869991660118103
         ],
         "yaxis": "y3"
        },
        {
         "boxpoints": "outliers",
         "line": {
          "color": "black"
         },
         "marker": {
          "color": "black"
         },
         "name": "",
         "showlegend": false,
         "type": "box",
         "xaxis": "x4",
         "y": [
          0.2883695363998413,
          0.27975067496299744,
          0.8988390564918518,
          0.26277220249176025,
          0.360617995262146,
          0.32929563522338867,
          6.5383806228637695,
          6.638116836547852,
          1.434805154800415,
          2.393998384475708,
          0.5551762580871582,
          0.5631264448165894,
          0.3914938271045685,
          1.6566879749298096,
          0.5778635740280151,
          0.9105649590492249,
          0.24970142543315887,
          0.7066652178764343
         ],
         "yaxis": "y4"
        }
       ],
       "layout": {
        "annotations": [
         {
          "font": {
           "size": 24
          },
          "showarrow": false,
          "text": "EWM vs PWM",
          "x": 0.10625,
          "xanchor": "center",
          "xref": "paper",
          "y": 1,
          "yanchor": "bottom",
          "yref": "paper"
         },
         {
          "font": {
           "size": 24
          },
          "showarrow": false,
          "text": "EWM vs PWoM",
          "x": 0.36875,
          "xanchor": "center",
          "xref": "paper",
          "y": 1,
          "yanchor": "bottom",
          "yref": "paper"
         },
         {
          "font": {
           "size": 24
          },
          "showarrow": false,
          "text": "PWM vs PWoM",
          "x": 0.6312500000000001,
          "xanchor": "center",
          "xref": "paper",
          "y": 1,
          "yanchor": "bottom",
          "yref": "paper"
         },
         {
          "font": {
           "size": 24
          },
          "showarrow": false,
          "text": "EWoM vs PWoM",
          "x": 0.89375,
          "xanchor": "center",
          "xref": "paper",
          "y": 1,
          "yanchor": "bottom",
          "yref": "paper"
         }
        ],
        "font": {
         "size": 24
        },
        "height": 400,
        "margin": {
         "b": 60,
         "l": 40,
         "r": 40,
         "t": 60
        },
        "template": {
         "data": {
          "bar": [
           {
            "error_x": {
             "color": "#2a3f5f"
            },
            "error_y": {
             "color": "#2a3f5f"
            },
            "marker": {
             "line": {
              "color": "#E5ECF6",
              "width": 0.5
             },
             "pattern": {
              "fillmode": "overlay",
              "size": 10,
              "solidity": 0.2
             }
            },
            "type": "bar"
           }
          ],
          "barpolar": [
           {
            "marker": {
             "line": {
              "color": "#E5ECF6",
              "width": 0.5
             },
             "pattern": {
              "fillmode": "overlay",
              "size": 10,
              "solidity": 0.2
             }
            },
            "type": "barpolar"
           }
          ],
          "carpet": [
           {
            "aaxis": {
             "endlinecolor": "#2a3f5f",
             "gridcolor": "white",
             "linecolor": "white",
             "minorgridcolor": "white",
             "startlinecolor": "#2a3f5f"
            },
            "baxis": {
             "endlinecolor": "#2a3f5f",
             "gridcolor": "white",
             "linecolor": "white",
             "minorgridcolor": "white",
             "startlinecolor": "#2a3f5f"
            },
            "type": "carpet"
           }
          ],
          "choropleth": [
           {
            "colorbar": {
             "outlinewidth": 0,
             "ticks": ""
            },
            "type": "choropleth"
           }
          ],
          "contour": [
           {
            "colorbar": {
             "outlinewidth": 0,
             "ticks": ""
            },
            "colorscale": [
             [
              0,
              "#0d0887"
             ],
             [
              0.1111111111111111,
              "#46039f"
             ],
             [
              0.2222222222222222,
              "#7201a8"
             ],
             [
              0.3333333333333333,
              "#9c179e"
             ],
             [
              0.4444444444444444,
              "#bd3786"
             ],
             [
              0.5555555555555556,
              "#d8576b"
             ],
             [
              0.6666666666666666,
              "#ed7953"
             ],
             [
              0.7777777777777778,
              "#fb9f3a"
             ],
             [
              0.8888888888888888,
              "#fdca26"
             ],
             [
              1,
              "#f0f921"
             ]
            ],
            "type": "contour"
           }
          ],
          "contourcarpet": [
           {
            "colorbar": {
             "outlinewidth": 0,
             "ticks": ""
            },
            "type": "contourcarpet"
           }
          ],
          "heatmap": [
           {
            "colorbar": {
             "outlinewidth": 0,
             "ticks": ""
            },
            "colorscale": [
             [
              0,
              "#0d0887"
             ],
             [
              0.1111111111111111,
              "#46039f"
             ],
             [
              0.2222222222222222,
              "#7201a8"
             ],
             [
              0.3333333333333333,
              "#9c179e"
             ],
             [
              0.4444444444444444,
              "#bd3786"
             ],
             [
              0.5555555555555556,
              "#d8576b"
             ],
             [
              0.6666666666666666,
              "#ed7953"
             ],
             [
              0.7777777777777778,
              "#fb9f3a"
             ],
             [
              0.8888888888888888,
              "#fdca26"
             ],
             [
              1,
              "#f0f921"
             ]
            ],
            "type": "heatmap"
           }
          ],
          "histogram": [
           {
            "marker": {
             "pattern": {
              "fillmode": "overlay",
              "size": 10,
              "solidity": 0.2
             }
            },
            "type": "histogram"
           }
          ],
          "histogram2d": [
           {
            "colorbar": {
             "outlinewidth": 0,
             "ticks": ""
            },
            "colorscale": [
             [
              0,
              "#0d0887"
             ],
             [
              0.1111111111111111,
              "#46039f"
             ],
             [
              0.2222222222222222,
              "#7201a8"
             ],
             [
              0.3333333333333333,
              "#9c179e"
             ],
             [
              0.4444444444444444,
              "#bd3786"
             ],
             [
              0.5555555555555556,
              "#d8576b"
             ],
             [
              0.6666666666666666,
              "#ed7953"
             ],
             [
              0.7777777777777778,
              "#fb9f3a"
             ],
             [
              0.8888888888888888,
              "#fdca26"
             ],
             [
              1,
              "#f0f921"
             ]
            ],
            "type": "histogram2d"
           }
          ],
          "histogram2dcontour": [
           {
            "colorbar": {
             "outlinewidth": 0,
             "ticks": ""
            },
            "colorscale": [
             [
              0,
              "#0d0887"
             ],
             [
              0.1111111111111111,
              "#46039f"
             ],
             [
              0.2222222222222222,
              "#7201a8"
             ],
             [
              0.3333333333333333,
              "#9c179e"
             ],
             [
              0.4444444444444444,
              "#bd3786"
             ],
             [
              0.5555555555555556,
              "#d8576b"
             ],
             [
              0.6666666666666666,
              "#ed7953"
             ],
             [
              0.7777777777777778,
              "#fb9f3a"
             ],
             [
              0.8888888888888888,
              "#fdca26"
             ],
             [
              1,
              "#f0f921"
             ]
            ],
            "type": "histogram2dcontour"
           }
          ],
          "mesh3d": [
           {
            "colorbar": {
             "outlinewidth": 0,
             "ticks": ""
            },
            "type": "mesh3d"
           }
          ],
          "parcoords": [
           {
            "line": {
             "colorbar": {
              "outlinewidth": 0,
              "ticks": ""
             }
            },
            "type": "parcoords"
           }
          ],
          "pie": [
           {
            "automargin": true,
            "type": "pie"
           }
          ],
          "scatter": [
           {
            "fillpattern": {
             "fillmode": "overlay",
             "size": 10,
             "solidity": 0.2
            },
            "type": "scatter"
           }
          ],
          "scatter3d": [
           {
            "line": {
             "colorbar": {
              "outlinewidth": 0,
              "ticks": ""
             }
            },
            "marker": {
             "colorbar": {
              "outlinewidth": 0,
              "ticks": ""
             }
            },
            "type": "scatter3d"
           }
          ],
          "scattercarpet": [
           {
            "marker": {
             "colorbar": {
              "outlinewidth": 0,
              "ticks": ""
             }
            },
            "type": "scattercarpet"
           }
          ],
          "scattergeo": [
           {
            "marker": {
             "colorbar": {
              "outlinewidth": 0,
              "ticks": ""
             }
            },
            "type": "scattergeo"
           }
          ],
          "scattergl": [
           {
            "marker": {
             "colorbar": {
              "outlinewidth": 0,
              "ticks": ""
             }
            },
            "type": "scattergl"
           }
          ],
          "scattermap": [
           {
            "marker": {
             "colorbar": {
              "outlinewidth": 0,
              "ticks": ""
             }
            },
            "type": "scattermap"
           }
          ],
          "scattermapbox": [
           {
            "marker": {
             "colorbar": {
              "outlinewidth": 0,
              "ticks": ""
             }
            },
            "type": "scattermapbox"
           }
          ],
          "scatterpolar": [
           {
            "marker": {
             "colorbar": {
              "outlinewidth": 0,
              "ticks": ""
             }
            },
            "type": "scatterpolar"
           }
          ],
          "scatterpolargl": [
           {
            "marker": {
             "colorbar": {
              "outlinewidth": 0,
              "ticks": ""
             }
            },
            "type": "scatterpolargl"
           }
          ],
          "scatterternary": [
           {
            "marker": {
             "colorbar": {
              "outlinewidth": 0,
              "ticks": ""
             }
            },
            "type": "scatterternary"
           }
          ],
          "surface": [
           {
            "colorbar": {
             "outlinewidth": 0,
             "ticks": ""
            },
            "colorscale": [
             [
              0,
              "#0d0887"
             ],
             [
              0.1111111111111111,
              "#46039f"
             ],
             [
              0.2222222222222222,
              "#7201a8"
             ],
             [
              0.3333333333333333,
              "#9c179e"
             ],
             [
              0.4444444444444444,
              "#bd3786"
             ],
             [
              0.5555555555555556,
              "#d8576b"
             ],
             [
              0.6666666666666666,
              "#ed7953"
             ],
             [
              0.7777777777777778,
              "#fb9f3a"
             ],
             [
              0.8888888888888888,
              "#fdca26"
             ],
             [
              1,
              "#f0f921"
             ]
            ],
            "type": "surface"
           }
          ],
          "table": [
           {
            "cells": {
             "fill": {
              "color": "#EBF0F8"
             },
             "line": {
              "color": "white"
             }
            },
            "header": {
             "fill": {
              "color": "#C8D4E3"
             },
             "line": {
              "color": "white"
             }
            },
            "type": "table"
           }
          ]
         },
         "layout": {
          "annotationdefaults": {
           "arrowcolor": "#2a3f5f",
           "arrowhead": 0,
           "arrowwidth": 1
          },
          "autotypenumbers": "strict",
          "coloraxis": {
           "colorbar": {
            "outlinewidth": 0,
            "ticks": ""
           }
          },
          "colorscale": {
           "diverging": [
            [
             0,
             "#8e0152"
            ],
            [
             0.1,
             "#c51b7d"
            ],
            [
             0.2,
             "#de77ae"
            ],
            [
             0.3,
             "#f1b6da"
            ],
            [
             0.4,
             "#fde0ef"
            ],
            [
             0.5,
             "#f7f7f7"
            ],
            [
             0.6,
             "#e6f5d0"
            ],
            [
             0.7,
             "#b8e186"
            ],
            [
             0.8,
             "#7fbc41"
            ],
            [
             0.9,
             "#4d9221"
            ],
            [
             1,
             "#276419"
            ]
           ],
           "sequential": [
            [
             0,
             "#0d0887"
            ],
            [
             0.1111111111111111,
             "#46039f"
            ],
            [
             0.2222222222222222,
             "#7201a8"
            ],
            [
             0.3333333333333333,
             "#9c179e"
            ],
            [
             0.4444444444444444,
             "#bd3786"
            ],
            [
             0.5555555555555556,
             "#d8576b"
            ],
            [
             0.6666666666666666,
             "#ed7953"
            ],
            [
             0.7777777777777778,
             "#fb9f3a"
            ],
            [
             0.8888888888888888,
             "#fdca26"
            ],
            [
             1,
             "#f0f921"
            ]
           ],
           "sequentialminus": [
            [
             0,
             "#0d0887"
            ],
            [
             0.1111111111111111,
             "#46039f"
            ],
            [
             0.2222222222222222,
             "#7201a8"
            ],
            [
             0.3333333333333333,
             "#9c179e"
            ],
            [
             0.4444444444444444,
             "#bd3786"
            ],
            [
             0.5555555555555556,
             "#d8576b"
            ],
            [
             0.6666666666666666,
             "#ed7953"
            ],
            [
             0.7777777777777778,
             "#fb9f3a"
            ],
            [
             0.8888888888888888,
             "#fdca26"
            ],
            [
             1,
             "#f0f921"
            ]
           ]
          },
          "colorway": [
           "#636efa",
           "#EF553B",
           "#00cc96",
           "#ab63fa",
           "#FFA15A",
           "#19d3f3",
           "#FF6692",
           "#B6E880",
           "#FF97FF",
           "#FECB52"
          ],
          "font": {
           "color": "#2a3f5f"
          },
          "geo": {
           "bgcolor": "white",
           "lakecolor": "white",
           "landcolor": "#E5ECF6",
           "showlakes": true,
           "showland": true,
           "subunitcolor": "white"
          },
          "hoverlabel": {
           "align": "left"
          },
          "hovermode": "closest",
          "mapbox": {
           "style": "light"
          },
          "paper_bgcolor": "white",
          "plot_bgcolor": "#E5ECF6",
          "polar": {
           "angularaxis": {
            "gridcolor": "white",
            "linecolor": "white",
            "ticks": ""
           },
           "bgcolor": "#E5ECF6",
           "radialaxis": {
            "gridcolor": "white",
            "linecolor": "white",
            "ticks": ""
           }
          },
          "scene": {
           "xaxis": {
            "backgroundcolor": "#E5ECF6",
            "gridcolor": "white",
            "gridwidth": 2,
            "linecolor": "white",
            "showbackground": true,
            "ticks": "",
            "zerolinecolor": "white"
           },
           "yaxis": {
            "backgroundcolor": "#E5ECF6",
            "gridcolor": "white",
            "gridwidth": 2,
            "linecolor": "white",
            "showbackground": true,
            "ticks": "",
            "zerolinecolor": "white"
           },
           "zaxis": {
            "backgroundcolor": "#E5ECF6",
            "gridcolor": "white",
            "gridwidth": 2,
            "linecolor": "white",
            "showbackground": true,
            "ticks": "",
            "zerolinecolor": "white"
           }
          },
          "shapedefaults": {
           "line": {
            "color": "#2a3f5f"
           }
          },
          "ternary": {
           "aaxis": {
            "gridcolor": "white",
            "linecolor": "white",
            "ticks": ""
           },
           "baxis": {
            "gridcolor": "white",
            "linecolor": "white",
            "ticks": ""
           },
           "bgcolor": "#E5ECF6",
           "caxis": {
            "gridcolor": "white",
            "linecolor": "white",
            "ticks": ""
           }
          },
          "title": {
           "x": 0.05
          },
          "xaxis": {
           "automargin": true,
           "gridcolor": "white",
           "linecolor": "white",
           "ticks": "",
           "title": {
            "standoff": 15
           },
           "zerolinecolor": "white",
           "zerolinewidth": 2
          },
          "yaxis": {
           "automargin": true,
           "gridcolor": "white",
           "linecolor": "white",
           "ticks": "",
           "title": {
            "standoff": 15
           },
           "zerolinecolor": "white",
           "zerolinewidth": 2
          }
         }
        },
        "title": {
         "text": ""
        },
        "width": 1000,
        "xaxis": {
         "anchor": "y",
         "domain": [
          0,
          0.2125
         ],
         "showticklabels": false
        },
        "xaxis2": {
         "anchor": "y2",
         "domain": [
          0.2625,
          0.475
         ],
         "showticklabels": false
        },
        "xaxis3": {
         "anchor": "y3",
         "domain": [
          0.525,
          0.7375
         ],
         "showticklabels": false
        },
        "xaxis4": {
         "anchor": "y4",
         "domain": [
          0.7875,
          1
         ],
         "showticklabels": false
        },
        "yaxis": {
         "anchor": "x",
         "domain": [
          0,
          1
         ],
         "title": {
          "text": "RMSD (in Å)"
         }
        },
        "yaxis2": {
         "anchor": "x2",
         "domain": [
          0,
          1
         ],
         "matches": "y",
         "showticklabels": false
        },
        "yaxis3": {
         "anchor": "x3",
         "domain": [
          0,
          1
         ],
         "matches": "y",
         "showticklabels": false
        },
        "yaxis4": {
         "anchor": "x4",
         "domain": [
          0,
          1
         ],
         "matches": "y",
         "showticklabels": false
        }
       }
      }
     },
     "metadata": {},
     "output_type": "display_data"
    },
    {
     "name": "stdout",
     "output_type": "stream",
     "text": [
      "Boxplot for angles exp_vs_pre_mod:\n",
      "  Count: 20\n",
      "  Median: 4.3176\n",
      "  Q1 (25th percentile): 3.5667\n",
      "  Q3 (75th percentile): 11.7743\n",
      "  IQR: 8.2077\n",
      "  Lower Whisker: 1.8627\n",
      "  Upper Whisker: 12.0598\n",
      "  Min: 1.8627\n",
      "  Max: 97.8154\n",
      "\n",
      "Boxplot for angles exp_vs_pre_nomod:\n",
      "  Count: 20\n",
      "  Median: 76.3289\n",
      "  Q1 (25th percentile): 73.2580\n",
      "  Q3 (75th percentile): 83.0093\n",
      "  IQR: 9.7513\n",
      "  Lower Whisker: 63.7268\n",
      "  Upper Whisker: 95.0475\n",
      "  Min: 4.4601\n",
      "  Max: 113.8874\n",
      "\n",
      "Boxplot for angles pre_mod_vs_pre_nomod:\n",
      "  Count: 20\n",
      "  Median: 77.4544\n",
      "  Q1 (25th percentile): 74.9439\n",
      "  Q3 (75th percentile): 77.8770\n",
      "  IQR: 2.9331\n",
      "  Lower Whisker: 74.4702\n",
      "  Upper Whisker: 78.0308\n",
      "  Min: 1.6147\n",
      "  Max: 114.9639\n",
      "\n",
      "Boxplot for angles exp_nomod_vs_pre_nomod:\n",
      "  Count: 18\n",
      "  Median: 4.9914\n",
      "  Q1 (25th percentile): 3.5570\n",
      "  Q3 (75th percentile): 5.5447\n",
      "  IQR: 1.9877\n",
      "  Lower Whisker: 2.9191\n",
      "  Upper Whisker: 7.3060\n",
      "  Min: 2.9191\n",
      "  Max: 73.8233\n",
      "\n"
     ]
    },
    {
     "data": {
      "application/vnd.plotly.v1+json": {
       "config": {
        "plotlyServerURL": "https://plot.ly",
        "toImageButtonOptions": {
         "filename": "Facet2_Boxplot of Median of Angle Difference between models",
         "format": "png"
        }
       },
       "data": [
        {
         "boxpoints": "outliers",
         "line": {
          "color": "black"
         },
         "marker": {
          "color": "black"
         },
         "name": "",
         "showlegend": false,
         "type": "box",
         "xaxis": "x",
         "y": [
          97.81544895519548,
          11.67914299698737,
          12.059784360512719,
          3.8966955386352353,
          2.9288048409434446,
          4.018977206260606,
          4.249241035469592,
          1.8626711041521404,
          2.263845441207479,
          2.0094472245991026,
          86.51893608691731,
          85.84814379835996,
          2.6654707943730527,
          3.779267555731689,
          4.4908257023759175,
          4.386036936417188,
          84.8531868876904,
          4.050477519481289,
          5.4952955937771035,
          7.362096745738922
         ],
         "yaxis": "y"
        },
        {
         "boxpoints": "outliers",
         "line": {
          "color": "black"
         },
         "marker": {
          "color": "black"
         },
         "name": "",
         "showlegend": false,
         "type": "box",
         "xaxis": "x2",
         "y": [
          72.79060424183956,
          74.82397991664713,
          63.72683771313442,
          73.41375094739621,
          4.460101178095961,
          113.88744442662025,
          74.31851084446205,
          5.644586105848886,
          84.94256846575747,
          77.06480311356209,
          95.0475038429192,
          93.64098272916702,
          75.85140883026793,
          75.90143284692897,
          76.75642296928339,
          78.80028685716536,
          93.03762437284234,
          82.36483616511717,
          77.930725733129,
          72.72757578543118
         ],
         "yaxis": "y2"
        },
        {
         "boxpoints": "outliers",
         "line": {
          "color": "black"
         },
         "marker": {
          "color": "black"
         },
         "name": "",
         "showlegend": false,
         "type": "box",
         "xaxis": "x3",
         "y": [
          74.90856154145986,
          77.09197565027621,
          66.95458442212305,
          74.4701754070273,
          1.6147050116005643,
          114.96386371414336,
          77.31943890185548,
          6.26894685850028,
          84.3544546824856,
          77.46799241316623,
          77.86806352054174,
          74.95570662608938,
          77.08709836272168,
          77.72558911639118,
          77.65597808993328,
          77.90400200920828,
          77.44071992593493,
          82.65611982746461,
          77.8291296766635,
          78.03078690356085
         ],
         "yaxis": "y3"
        },
        {
         "boxpoints": "outliers",
         "line": {
          "color": "black"
         },
         "marker": {
          "color": "black"
         },
         "name": "",
         "showlegend": false,
         "type": "box",
         "xaxis": "x4",
         "y": [
          4.5376867881019525,
          3.8053429335019717,
          3.0719864907563412,
          3.3843132821803437,
          3.4742637691527536,
          2.9190993818518187,
          26.308026387469734,
          26.270783881975262,
          5.10044516660448,
          5.233962956179383,
          73.8232970259907,
          4.882388731453788,
          3.4395727393231232,
          7.305999482242372,
          5.2950929988081805,
          5.627964930907186,
          4.298286031306202,
          5.269796067397676
         ],
         "yaxis": "y4"
        }
       ],
       "layout": {
        "annotations": [
         {
          "font": {
           "size": 24
          },
          "showarrow": false,
          "text": "EWM vs PWM",
          "x": 0.10625,
          "xanchor": "center",
          "xref": "paper",
          "y": 1,
          "yanchor": "bottom",
          "yref": "paper"
         },
         {
          "font": {
           "size": 24
          },
          "showarrow": false,
          "text": "EWM vs PWoM",
          "x": 0.36875,
          "xanchor": "center",
          "xref": "paper",
          "y": 1,
          "yanchor": "bottom",
          "yref": "paper"
         },
         {
          "font": {
           "size": 24
          },
          "showarrow": false,
          "text": "PWM vs PWoM",
          "x": 0.6312500000000001,
          "xanchor": "center",
          "xref": "paper",
          "y": 1,
          "yanchor": "bottom",
          "yref": "paper"
         },
         {
          "font": {
           "size": 24
          },
          "showarrow": false,
          "text": "EWoM vs PWoM",
          "x": 0.89375,
          "xanchor": "center",
          "xref": "paper",
          "y": 1,
          "yanchor": "bottom",
          "yref": "paper"
         }
        ],
        "font": {
         "size": 24
        },
        "height": 400,
        "margin": {
         "b": 60,
         "l": 40,
         "r": 40,
         "t": 60
        },
        "template": {
         "data": {
          "bar": [
           {
            "error_x": {
             "color": "#2a3f5f"
            },
            "error_y": {
             "color": "#2a3f5f"
            },
            "marker": {
             "line": {
              "color": "#E5ECF6",
              "width": 0.5
             },
             "pattern": {
              "fillmode": "overlay",
              "size": 10,
              "solidity": 0.2
             }
            },
            "type": "bar"
           }
          ],
          "barpolar": [
           {
            "marker": {
             "line": {
              "color": "#E5ECF6",
              "width": 0.5
             },
             "pattern": {
              "fillmode": "overlay",
              "size": 10,
              "solidity": 0.2
             }
            },
            "type": "barpolar"
           }
          ],
          "carpet": [
           {
            "aaxis": {
             "endlinecolor": "#2a3f5f",
             "gridcolor": "white",
             "linecolor": "white",
             "minorgridcolor": "white",
             "startlinecolor": "#2a3f5f"
            },
            "baxis": {
             "endlinecolor": "#2a3f5f",
             "gridcolor": "white",
             "linecolor": "white",
             "minorgridcolor": "white",
             "startlinecolor": "#2a3f5f"
            },
            "type": "carpet"
           }
          ],
          "choropleth": [
           {
            "colorbar": {
             "outlinewidth": 0,
             "ticks": ""
            },
            "type": "choropleth"
           }
          ],
          "contour": [
           {
            "colorbar": {
             "outlinewidth": 0,
             "ticks": ""
            },
            "colorscale": [
             [
              0,
              "#0d0887"
             ],
             [
              0.1111111111111111,
              "#46039f"
             ],
             [
              0.2222222222222222,
              "#7201a8"
             ],
             [
              0.3333333333333333,
              "#9c179e"
             ],
             [
              0.4444444444444444,
              "#bd3786"
             ],
             [
              0.5555555555555556,
              "#d8576b"
             ],
             [
              0.6666666666666666,
              "#ed7953"
             ],
             [
              0.7777777777777778,
              "#fb9f3a"
             ],
             [
              0.8888888888888888,
              "#fdca26"
             ],
             [
              1,
              "#f0f921"
             ]
            ],
            "type": "contour"
           }
          ],
          "contourcarpet": [
           {
            "colorbar": {
             "outlinewidth": 0,
             "ticks": ""
            },
            "type": "contourcarpet"
           }
          ],
          "heatmap": [
           {
            "colorbar": {
             "outlinewidth": 0,
             "ticks": ""
            },
            "colorscale": [
             [
              0,
              "#0d0887"
             ],
             [
              0.1111111111111111,
              "#46039f"
             ],
             [
              0.2222222222222222,
              "#7201a8"
             ],
             [
              0.3333333333333333,
              "#9c179e"
             ],
             [
              0.4444444444444444,
              "#bd3786"
             ],
             [
              0.5555555555555556,
              "#d8576b"
             ],
             [
              0.6666666666666666,
              "#ed7953"
             ],
             [
              0.7777777777777778,
              "#fb9f3a"
             ],
             [
              0.8888888888888888,
              "#fdca26"
             ],
             [
              1,
              "#f0f921"
             ]
            ],
            "type": "heatmap"
           }
          ],
          "histogram": [
           {
            "marker": {
             "pattern": {
              "fillmode": "overlay",
              "size": 10,
              "solidity": 0.2
             }
            },
            "type": "histogram"
           }
          ],
          "histogram2d": [
           {
            "colorbar": {
             "outlinewidth": 0,
             "ticks": ""
            },
            "colorscale": [
             [
              0,
              "#0d0887"
             ],
             [
              0.1111111111111111,
              "#46039f"
             ],
             [
              0.2222222222222222,
              "#7201a8"
             ],
             [
              0.3333333333333333,
              "#9c179e"
             ],
             [
              0.4444444444444444,
              "#bd3786"
             ],
             [
              0.5555555555555556,
              "#d8576b"
             ],
             [
              0.6666666666666666,
              "#ed7953"
             ],
             [
              0.7777777777777778,
              "#fb9f3a"
             ],
             [
              0.8888888888888888,
              "#fdca26"
             ],
             [
              1,
              "#f0f921"
             ]
            ],
            "type": "histogram2d"
           }
          ],
          "histogram2dcontour": [
           {
            "colorbar": {
             "outlinewidth": 0,
             "ticks": ""
            },
            "colorscale": [
             [
              0,
              "#0d0887"
             ],
             [
              0.1111111111111111,
              "#46039f"
             ],
             [
              0.2222222222222222,
              "#7201a8"
             ],
             [
              0.3333333333333333,
              "#9c179e"
             ],
             [
              0.4444444444444444,
              "#bd3786"
             ],
             [
              0.5555555555555556,
              "#d8576b"
             ],
             [
              0.6666666666666666,
              "#ed7953"
             ],
             [
              0.7777777777777778,
              "#fb9f3a"
             ],
             [
              0.8888888888888888,
              "#fdca26"
             ],
             [
              1,
              "#f0f921"
             ]
            ],
            "type": "histogram2dcontour"
           }
          ],
          "mesh3d": [
           {
            "colorbar": {
             "outlinewidth": 0,
             "ticks": ""
            },
            "type": "mesh3d"
           }
          ],
          "parcoords": [
           {
            "line": {
             "colorbar": {
              "outlinewidth": 0,
              "ticks": ""
             }
            },
            "type": "parcoords"
           }
          ],
          "pie": [
           {
            "automargin": true,
            "type": "pie"
           }
          ],
          "scatter": [
           {
            "fillpattern": {
             "fillmode": "overlay",
             "size": 10,
             "solidity": 0.2
            },
            "type": "scatter"
           }
          ],
          "scatter3d": [
           {
            "line": {
             "colorbar": {
              "outlinewidth": 0,
              "ticks": ""
             }
            },
            "marker": {
             "colorbar": {
              "outlinewidth": 0,
              "ticks": ""
             }
            },
            "type": "scatter3d"
           }
          ],
          "scattercarpet": [
           {
            "marker": {
             "colorbar": {
              "outlinewidth": 0,
              "ticks": ""
             }
            },
            "type": "scattercarpet"
           }
          ],
          "scattergeo": [
           {
            "marker": {
             "colorbar": {
              "outlinewidth": 0,
              "ticks": ""
             }
            },
            "type": "scattergeo"
           }
          ],
          "scattergl": [
           {
            "marker": {
             "colorbar": {
              "outlinewidth": 0,
              "ticks": ""
             }
            },
            "type": "scattergl"
           }
          ],
          "scattermap": [
           {
            "marker": {
             "colorbar": {
              "outlinewidth": 0,
              "ticks": ""
             }
            },
            "type": "scattermap"
           }
          ],
          "scattermapbox": [
           {
            "marker": {
             "colorbar": {
              "outlinewidth": 0,
              "ticks": ""
             }
            },
            "type": "scattermapbox"
           }
          ],
          "scatterpolar": [
           {
            "marker": {
             "colorbar": {
              "outlinewidth": 0,
              "ticks": ""
             }
            },
            "type": "scatterpolar"
           }
          ],
          "scatterpolargl": [
           {
            "marker": {
             "colorbar": {
              "outlinewidth": 0,
              "ticks": ""
             }
            },
            "type": "scatterpolargl"
           }
          ],
          "scatterternary": [
           {
            "marker": {
             "colorbar": {
              "outlinewidth": 0,
              "ticks": ""
             }
            },
            "type": "scatterternary"
           }
          ],
          "surface": [
           {
            "colorbar": {
             "outlinewidth": 0,
             "ticks": ""
            },
            "colorscale": [
             [
              0,
              "#0d0887"
             ],
             [
              0.1111111111111111,
              "#46039f"
             ],
             [
              0.2222222222222222,
              "#7201a8"
             ],
             [
              0.3333333333333333,
              "#9c179e"
             ],
             [
              0.4444444444444444,
              "#bd3786"
             ],
             [
              0.5555555555555556,
              "#d8576b"
             ],
             [
              0.6666666666666666,
              "#ed7953"
             ],
             [
              0.7777777777777778,
              "#fb9f3a"
             ],
             [
              0.8888888888888888,
              "#fdca26"
             ],
             [
              1,
              "#f0f921"
             ]
            ],
            "type": "surface"
           }
          ],
          "table": [
           {
            "cells": {
             "fill": {
              "color": "#EBF0F8"
             },
             "line": {
              "color": "white"
             }
            },
            "header": {
             "fill": {
              "color": "#C8D4E3"
             },
             "line": {
              "color": "white"
             }
            },
            "type": "table"
           }
          ]
         },
         "layout": {
          "annotationdefaults": {
           "arrowcolor": "#2a3f5f",
           "arrowhead": 0,
           "arrowwidth": 1
          },
          "autotypenumbers": "strict",
          "coloraxis": {
           "colorbar": {
            "outlinewidth": 0,
            "ticks": ""
           }
          },
          "colorscale": {
           "diverging": [
            [
             0,
             "#8e0152"
            ],
            [
             0.1,
             "#c51b7d"
            ],
            [
             0.2,
             "#de77ae"
            ],
            [
             0.3,
             "#f1b6da"
            ],
            [
             0.4,
             "#fde0ef"
            ],
            [
             0.5,
             "#f7f7f7"
            ],
            [
             0.6,
             "#e6f5d0"
            ],
            [
             0.7,
             "#b8e186"
            ],
            [
             0.8,
             "#7fbc41"
            ],
            [
             0.9,
             "#4d9221"
            ],
            [
             1,
             "#276419"
            ]
           ],
           "sequential": [
            [
             0,
             "#0d0887"
            ],
            [
             0.1111111111111111,
             "#46039f"
            ],
            [
             0.2222222222222222,
             "#7201a8"
            ],
            [
             0.3333333333333333,
             "#9c179e"
            ],
            [
             0.4444444444444444,
             "#bd3786"
            ],
            [
             0.5555555555555556,
             "#d8576b"
            ],
            [
             0.6666666666666666,
             "#ed7953"
            ],
            [
             0.7777777777777778,
             "#fb9f3a"
            ],
            [
             0.8888888888888888,
             "#fdca26"
            ],
            [
             1,
             "#f0f921"
            ]
           ],
           "sequentialminus": [
            [
             0,
             "#0d0887"
            ],
            [
             0.1111111111111111,
             "#46039f"
            ],
            [
             0.2222222222222222,
             "#7201a8"
            ],
            [
             0.3333333333333333,
             "#9c179e"
            ],
            [
             0.4444444444444444,
             "#bd3786"
            ],
            [
             0.5555555555555556,
             "#d8576b"
            ],
            [
             0.6666666666666666,
             "#ed7953"
            ],
            [
             0.7777777777777778,
             "#fb9f3a"
            ],
            [
             0.8888888888888888,
             "#fdca26"
            ],
            [
             1,
             "#f0f921"
            ]
           ]
          },
          "colorway": [
           "#636efa",
           "#EF553B",
           "#00cc96",
           "#ab63fa",
           "#FFA15A",
           "#19d3f3",
           "#FF6692",
           "#B6E880",
           "#FF97FF",
           "#FECB52"
          ],
          "font": {
           "color": "#2a3f5f"
          },
          "geo": {
           "bgcolor": "white",
           "lakecolor": "white",
           "landcolor": "#E5ECF6",
           "showlakes": true,
           "showland": true,
           "subunitcolor": "white"
          },
          "hoverlabel": {
           "align": "left"
          },
          "hovermode": "closest",
          "mapbox": {
           "style": "light"
          },
          "paper_bgcolor": "white",
          "plot_bgcolor": "#E5ECF6",
          "polar": {
           "angularaxis": {
            "gridcolor": "white",
            "linecolor": "white",
            "ticks": ""
           },
           "bgcolor": "#E5ECF6",
           "radialaxis": {
            "gridcolor": "white",
            "linecolor": "white",
            "ticks": ""
           }
          },
          "scene": {
           "xaxis": {
            "backgroundcolor": "#E5ECF6",
            "gridcolor": "white",
            "gridwidth": 2,
            "linecolor": "white",
            "showbackground": true,
            "ticks": "",
            "zerolinecolor": "white"
           },
           "yaxis": {
            "backgroundcolor": "#E5ECF6",
            "gridcolor": "white",
            "gridwidth": 2,
            "linecolor": "white",
            "showbackground": true,
            "ticks": "",
            "zerolinecolor": "white"
           },
           "zaxis": {
            "backgroundcolor": "#E5ECF6",
            "gridcolor": "white",
            "gridwidth": 2,
            "linecolor": "white",
            "showbackground": true,
            "ticks": "",
            "zerolinecolor": "white"
           }
          },
          "shapedefaults": {
           "line": {
            "color": "#2a3f5f"
           }
          },
          "ternary": {
           "aaxis": {
            "gridcolor": "white",
            "linecolor": "white",
            "ticks": ""
           },
           "baxis": {
            "gridcolor": "white",
            "linecolor": "white",
            "ticks": ""
           },
           "bgcolor": "#E5ECF6",
           "caxis": {
            "gridcolor": "white",
            "linecolor": "white",
            "ticks": ""
           }
          },
          "title": {
           "x": 0.05
          },
          "xaxis": {
           "automargin": true,
           "gridcolor": "white",
           "linecolor": "white",
           "ticks": "",
           "title": {
            "standoff": 15
           },
           "zerolinecolor": "white",
           "zerolinewidth": 2
          },
          "yaxis": {
           "automargin": true,
           "gridcolor": "white",
           "linecolor": "white",
           "ticks": "",
           "title": {
            "standoff": 15
           },
           "zerolinecolor": "white",
           "zerolinewidth": 2
          }
         }
        },
        "title": {
         "text": ""
        },
        "width": 1000,
        "xaxis": {
         "anchor": "y",
         "domain": [
          0,
          0.2125
         ],
         "showticklabels": false
        },
        "xaxis2": {
         "anchor": "y2",
         "domain": [
          0.2625,
          0.475
         ],
         "showticklabels": false
        },
        "xaxis3": {
         "anchor": "y3",
         "domain": [
          0.525,
          0.7375
         ],
         "showticklabels": false
        },
        "xaxis4": {
         "anchor": "y4",
         "domain": [
          0.7875,
          1
         ],
         "showticklabels": false
        },
        "yaxis": {
         "anchor": "x",
         "domain": [
          0,
          1
         ],
         "title": {
          "text": "Angle (degrees)"
         }
        },
        "yaxis2": {
         "anchor": "x2",
         "domain": [
          0,
          1
         ],
         "matches": "y",
         "showticklabels": false
        },
        "yaxis3": {
         "anchor": "x3",
         "domain": [
          0,
          1
         ],
         "matches": "y",
         "showticklabels": false
        },
        "yaxis4": {
         "anchor": "x4",
         "domain": [
          0,
          1
         ],
         "matches": "y",
         "showticklabels": false
        }
       }
      }
     },
     "metadata": {},
     "output_type": "display_data"
    }
   ],
   "source": [
    "comparison_results_exp_mod[\"exp_nomod_vs_pre_nomod\"] = comparison_results_exp_nomod[\"exp_vs_pre_nomod\"]\n",
    "\n",
    "\n",
    "comparison_label_map = {\n",
    "        \"exp_vs_pre_mod\": \"(Experimental_with_Mod, Predicted_with_Mod)\",\n",
    "        \"exp_vs_pre_nomod\": \"(Experimental_with_Mod, Predicted_without_Mod)\",\n",
    "        \"pre_mod_vs_pre_nomod\": \"(Predicted_with_Mod, Predicted_without_Mod)\",\n",
    "        \"exp_nomod_vs_pre_nomod\": \"(Experimental_without_Mod, Predicted_without_Mod)\",\n",
    "    }\n",
    "\n",
    "comparison_label_map = {\n",
    "        \"exp_vs_pre_mod\": \"EWM vs PWM\",\n",
    "        \"exp_vs_pre_nomod\": \"EWM vs PWoM\",\n",
    "        \"pre_mod_vs_pre_nomod\": \"PWM vs PWoM\",\n",
    "        \"exp_nomod_vs_pre_nomod\": \"EWoM vs PWoM\",\n",
    "    }\n",
    "\n",
    "\n",
    "custom_colors = {\n",
    "    \"(Experimental_with_Mod, Predicted_with_Mod)\": \"#3f7f3f\",\n",
    "    \"(Experimental_with_Mod, Predicted_without_Mod)\": \"#75eb75\",\n",
    "    \"(Predicted_with_Mod, Predicted_without_Mod)\": \"purple\",\n",
    "    \"(Experimental_without_Mod, Predicted_without_Mod)\": \"#ffd700\" \n",
    "}\n",
    "\n",
    "box_plot_diff_results_nocolor(comparison_results_exp_mod, comparison_label_map, \"rmsd\", \"RMSD (in Å)\", \"Facet1_Boxplot of rmsd between Models\")\n",
    "box_plot_diff_results_nocolor(comparison_results_exp_mod, comparison_label_map, \"angles\", \"Angle (degrees)\", \"Facet2_Boxplot of Median of Angle Difference between models\")"
   ]
  },
  {
   "cell_type": "code",
   "execution_count": 21,
   "id": "183e5c31",
   "metadata": {},
   "outputs": [
    {
     "data": {
      "application/vnd.plotly.v1+json": {
       "config": {
        "plotlyServerURL": "https://plot.ly"
       },
       "data": [
        {
         "boxpoints": "outliers",
         "line": {
          "color": "black"
         },
         "marker": {
          "color": "black"
         },
         "type": "box",
         "x": [
          "",
          "",
          "",
          "",
          "",
          "",
          "",
          "",
          "",
          "",
          "",
          "",
          "",
          "",
          "",
          "",
          "",
          "",
          "",
          ""
         ],
         "y": [
          8.761904761904763,
          9.685714285714287,
          8.857142857142858,
          8.847619047619048,
          8.019047619047619,
          7.085714285714286,
          8.742857142857142,
          7.971428571428572,
          5.571428571428571,
          9.666666666666666,
          8.790476190476191,
          8.895238095238096,
          8.79047619047619,
          8.80952380952381,
          8.828571428571427,
          9.057142857142857,
          8.790476190476191,
          6.8,
          9.066666666666666,
          8.914285714285715
         ]
        }
       ],
       "layout": {
        "template": {
         "data": {
          "bar": [
           {
            "error_x": {
             "color": "#2a3f5f"
            },
            "error_y": {
             "color": "#2a3f5f"
            },
            "marker": {
             "line": {
              "color": "#E5ECF6",
              "width": 0.5
             },
             "pattern": {
              "fillmode": "overlay",
              "size": 10,
              "solidity": 0.2
             }
            },
            "type": "bar"
           }
          ],
          "barpolar": [
           {
            "marker": {
             "line": {
              "color": "#E5ECF6",
              "width": 0.5
             },
             "pattern": {
              "fillmode": "overlay",
              "size": 10,
              "solidity": 0.2
             }
            },
            "type": "barpolar"
           }
          ],
          "carpet": [
           {
            "aaxis": {
             "endlinecolor": "#2a3f5f",
             "gridcolor": "white",
             "linecolor": "white",
             "minorgridcolor": "white",
             "startlinecolor": "#2a3f5f"
            },
            "baxis": {
             "endlinecolor": "#2a3f5f",
             "gridcolor": "white",
             "linecolor": "white",
             "minorgridcolor": "white",
             "startlinecolor": "#2a3f5f"
            },
            "type": "carpet"
           }
          ],
          "choropleth": [
           {
            "colorbar": {
             "outlinewidth": 0,
             "ticks": ""
            },
            "type": "choropleth"
           }
          ],
          "contour": [
           {
            "colorbar": {
             "outlinewidth": 0,
             "ticks": ""
            },
            "colorscale": [
             [
              0,
              "#0d0887"
             ],
             [
              0.1111111111111111,
              "#46039f"
             ],
             [
              0.2222222222222222,
              "#7201a8"
             ],
             [
              0.3333333333333333,
              "#9c179e"
             ],
             [
              0.4444444444444444,
              "#bd3786"
             ],
             [
              0.5555555555555556,
              "#d8576b"
             ],
             [
              0.6666666666666666,
              "#ed7953"
             ],
             [
              0.7777777777777778,
              "#fb9f3a"
             ],
             [
              0.8888888888888888,
              "#fdca26"
             ],
             [
              1,
              "#f0f921"
             ]
            ],
            "type": "contour"
           }
          ],
          "contourcarpet": [
           {
            "colorbar": {
             "outlinewidth": 0,
             "ticks": ""
            },
            "type": "contourcarpet"
           }
          ],
          "heatmap": [
           {
            "colorbar": {
             "outlinewidth": 0,
             "ticks": ""
            },
            "colorscale": [
             [
              0,
              "#0d0887"
             ],
             [
              0.1111111111111111,
              "#46039f"
             ],
             [
              0.2222222222222222,
              "#7201a8"
             ],
             [
              0.3333333333333333,
              "#9c179e"
             ],
             [
              0.4444444444444444,
              "#bd3786"
             ],
             [
              0.5555555555555556,
              "#d8576b"
             ],
             [
              0.6666666666666666,
              "#ed7953"
             ],
             [
              0.7777777777777778,
              "#fb9f3a"
             ],
             [
              0.8888888888888888,
              "#fdca26"
             ],
             [
              1,
              "#f0f921"
             ]
            ],
            "type": "heatmap"
           }
          ],
          "histogram": [
           {
            "marker": {
             "pattern": {
              "fillmode": "overlay",
              "size": 10,
              "solidity": 0.2
             }
            },
            "type": "histogram"
           }
          ],
          "histogram2d": [
           {
            "colorbar": {
             "outlinewidth": 0,
             "ticks": ""
            },
            "colorscale": [
             [
              0,
              "#0d0887"
             ],
             [
              0.1111111111111111,
              "#46039f"
             ],
             [
              0.2222222222222222,
              "#7201a8"
             ],
             [
              0.3333333333333333,
              "#9c179e"
             ],
             [
              0.4444444444444444,
              "#bd3786"
             ],
             [
              0.5555555555555556,
              "#d8576b"
             ],
             [
              0.6666666666666666,
              "#ed7953"
             ],
             [
              0.7777777777777778,
              "#fb9f3a"
             ],
             [
              0.8888888888888888,
              "#fdca26"
             ],
             [
              1,
              "#f0f921"
             ]
            ],
            "type": "histogram2d"
           }
          ],
          "histogram2dcontour": [
           {
            "colorbar": {
             "outlinewidth": 0,
             "ticks": ""
            },
            "colorscale": [
             [
              0,
              "#0d0887"
             ],
             [
              0.1111111111111111,
              "#46039f"
             ],
             [
              0.2222222222222222,
              "#7201a8"
             ],
             [
              0.3333333333333333,
              "#9c179e"
             ],
             [
              0.4444444444444444,
              "#bd3786"
             ],
             [
              0.5555555555555556,
              "#d8576b"
             ],
             [
              0.6666666666666666,
              "#ed7953"
             ],
             [
              0.7777777777777778,
              "#fb9f3a"
             ],
             [
              0.8888888888888888,
              "#fdca26"
             ],
             [
              1,
              "#f0f921"
             ]
            ],
            "type": "histogram2dcontour"
           }
          ],
          "mesh3d": [
           {
            "colorbar": {
             "outlinewidth": 0,
             "ticks": ""
            },
            "type": "mesh3d"
           }
          ],
          "parcoords": [
           {
            "line": {
             "colorbar": {
              "outlinewidth": 0,
              "ticks": ""
             }
            },
            "type": "parcoords"
           }
          ],
          "pie": [
           {
            "automargin": true,
            "type": "pie"
           }
          ],
          "scatter": [
           {
            "fillpattern": {
             "fillmode": "overlay",
             "size": 10,
             "solidity": 0.2
            },
            "type": "scatter"
           }
          ],
          "scatter3d": [
           {
            "line": {
             "colorbar": {
              "outlinewidth": 0,
              "ticks": ""
             }
            },
            "marker": {
             "colorbar": {
              "outlinewidth": 0,
              "ticks": ""
             }
            },
            "type": "scatter3d"
           }
          ],
          "scattercarpet": [
           {
            "marker": {
             "colorbar": {
              "outlinewidth": 0,
              "ticks": ""
             }
            },
            "type": "scattercarpet"
           }
          ],
          "scattergeo": [
           {
            "marker": {
             "colorbar": {
              "outlinewidth": 0,
              "ticks": ""
             }
            },
            "type": "scattergeo"
           }
          ],
          "scattergl": [
           {
            "marker": {
             "colorbar": {
              "outlinewidth": 0,
              "ticks": ""
             }
            },
            "type": "scattergl"
           }
          ],
          "scattermap": [
           {
            "marker": {
             "colorbar": {
              "outlinewidth": 0,
              "ticks": ""
             }
            },
            "type": "scattermap"
           }
          ],
          "scattermapbox": [
           {
            "marker": {
             "colorbar": {
              "outlinewidth": 0,
              "ticks": ""
             }
            },
            "type": "scattermapbox"
           }
          ],
          "scatterpolar": [
           {
            "marker": {
             "colorbar": {
              "outlinewidth": 0,
              "ticks": ""
             }
            },
            "type": "scatterpolar"
           }
          ],
          "scatterpolargl": [
           {
            "marker": {
             "colorbar": {
              "outlinewidth": 0,
              "ticks": ""
             }
            },
            "type": "scatterpolargl"
           }
          ],
          "scatterternary": [
           {
            "marker": {
             "colorbar": {
              "outlinewidth": 0,
              "ticks": ""
             }
            },
            "type": "scatterternary"
           }
          ],
          "surface": [
           {
            "colorbar": {
             "outlinewidth": 0,
             "ticks": ""
            },
            "colorscale": [
             [
              0,
              "#0d0887"
             ],
             [
              0.1111111111111111,
              "#46039f"
             ],
             [
              0.2222222222222222,
              "#7201a8"
             ],
             [
              0.3333333333333333,
              "#9c179e"
             ],
             [
              0.4444444444444444,
              "#bd3786"
             ],
             [
              0.5555555555555556,
              "#d8576b"
             ],
             [
              0.6666666666666666,
              "#ed7953"
             ],
             [
              0.7777777777777778,
              "#fb9f3a"
             ],
             [
              0.8888888888888888,
              "#fdca26"
             ],
             [
              1,
              "#f0f921"
             ]
            ],
            "type": "surface"
           }
          ],
          "table": [
           {
            "cells": {
             "fill": {
              "color": "#EBF0F8"
             },
             "line": {
              "color": "white"
             }
            },
            "header": {
             "fill": {
              "color": "#C8D4E3"
             },
             "line": {
              "color": "white"
             }
            },
            "type": "table"
           }
          ]
         },
         "layout": {
          "annotationdefaults": {
           "arrowcolor": "#2a3f5f",
           "arrowhead": 0,
           "arrowwidth": 1
          },
          "autotypenumbers": "strict",
          "coloraxis": {
           "colorbar": {
            "outlinewidth": 0,
            "ticks": ""
           }
          },
          "colorscale": {
           "diverging": [
            [
             0,
             "#8e0152"
            ],
            [
             0.1,
             "#c51b7d"
            ],
            [
             0.2,
             "#de77ae"
            ],
            [
             0.3,
             "#f1b6da"
            ],
            [
             0.4,
             "#fde0ef"
            ],
            [
             0.5,
             "#f7f7f7"
            ],
            [
             0.6,
             "#e6f5d0"
            ],
            [
             0.7,
             "#b8e186"
            ],
            [
             0.8,
             "#7fbc41"
            ],
            [
             0.9,
             "#4d9221"
            ],
            [
             1,
             "#276419"
            ]
           ],
           "sequential": [
            [
             0,
             "#0d0887"
            ],
            [
             0.1111111111111111,
             "#46039f"
            ],
            [
             0.2222222222222222,
             "#7201a8"
            ],
            [
             0.3333333333333333,
             "#9c179e"
            ],
            [
             0.4444444444444444,
             "#bd3786"
            ],
            [
             0.5555555555555556,
             "#d8576b"
            ],
            [
             0.6666666666666666,
             "#ed7953"
            ],
            [
             0.7777777777777778,
             "#fb9f3a"
            ],
            [
             0.8888888888888888,
             "#fdca26"
            ],
            [
             1,
             "#f0f921"
            ]
           ],
           "sequentialminus": [
            [
             0,
             "#0d0887"
            ],
            [
             0.1111111111111111,
             "#46039f"
            ],
            [
             0.2222222222222222,
             "#7201a8"
            ],
            [
             0.3333333333333333,
             "#9c179e"
            ],
            [
             0.4444444444444444,
             "#bd3786"
            ],
            [
             0.5555555555555556,
             "#d8576b"
            ],
            [
             0.6666666666666666,
             "#ed7953"
            ],
            [
             0.7777777777777778,
             "#fb9f3a"
            ],
            [
             0.8888888888888888,
             "#fdca26"
            ],
            [
             1,
             "#f0f921"
            ]
           ]
          },
          "colorway": [
           "#636efa",
           "#EF553B",
           "#00cc96",
           "#ab63fa",
           "#FFA15A",
           "#19d3f3",
           "#FF6692",
           "#B6E880",
           "#FF97FF",
           "#FECB52"
          ],
          "font": {
           "color": "#2a3f5f"
          },
          "geo": {
           "bgcolor": "white",
           "lakecolor": "white",
           "landcolor": "#E5ECF6",
           "showlakes": true,
           "showland": true,
           "subunitcolor": "white"
          },
          "hoverlabel": {
           "align": "left"
          },
          "hovermode": "closest",
          "mapbox": {
           "style": "light"
          },
          "paper_bgcolor": "white",
          "plot_bgcolor": "#E5ECF6",
          "polar": {
           "angularaxis": {
            "gridcolor": "white",
            "linecolor": "white",
            "ticks": ""
           },
           "bgcolor": "#E5ECF6",
           "radialaxis": {
            "gridcolor": "white",
            "linecolor": "white",
            "ticks": ""
           }
          },
          "scene": {
           "xaxis": {
            "backgroundcolor": "#E5ECF6",
            "gridcolor": "white",
            "gridwidth": 2,
            "linecolor": "white",
            "showbackground": true,
            "ticks": "",
            "zerolinecolor": "white"
           },
           "yaxis": {
            "backgroundcolor": "#E5ECF6",
            "gridcolor": "white",
            "gridwidth": 2,
            "linecolor": "white",
            "showbackground": true,
            "ticks": "",
            "zerolinecolor": "white"
           },
           "zaxis": {
            "backgroundcolor": "#E5ECF6",
            "gridcolor": "white",
            "gridwidth": 2,
            "linecolor": "white",
            "showbackground": true,
            "ticks": "",
            "zerolinecolor": "white"
           }
          },
          "shapedefaults": {
           "line": {
            "color": "#2a3f5f"
           }
          },
          "ternary": {
           "aaxis": {
            "gridcolor": "white",
            "linecolor": "white",
            "ticks": ""
           },
           "baxis": {
            "gridcolor": "white",
            "linecolor": "white",
            "ticks": ""
           },
           "bgcolor": "#E5ECF6",
           "caxis": {
            "gridcolor": "white",
            "linecolor": "white",
            "ticks": ""
           }
          },
          "title": {
           "x": 0.05
          },
          "xaxis": {
           "automargin": true,
           "gridcolor": "white",
           "linecolor": "white",
           "ticks": "",
           "title": {
            "standoff": 15
           },
           "zerolinecolor": "white",
           "zerolinewidth": 2
          },
          "yaxis": {
           "automargin": true,
           "gridcolor": "white",
           "linecolor": "white",
           "ticks": "",
           "title": {
            "standoff": 15
           },
           "zerolinecolor": "white",
           "zerolinewidth": 2
          }
         }
        },
        "title": {
         "text": "Box Plot of pPSE (smoothed) distribution of PTMs"
        },
        "width": 600,
        "yaxis": {
         "title": {
          "text": "pPSE of PTM"
         }
        }
       }
      }
     },
     "metadata": {},
     "output_type": "display_data"
    },
    {
     "name": "stdout",
     "output_type": "stream",
     "text": [
      "Boxplot for ppse_me exp_vs_pre_mod:\n",
      "  Count: 20\n",
      "  Median: 0.0517\n",
      "  Q1 (25th percentile): -0.0460\n",
      "  Q3 (75th percentile): 0.1060\n",
      "  IQR: 0.1520\n",
      "  Lower Whisker: -0.2515\n",
      "  Upper Whisker: 0.2631\n",
      "  Min: -0.7168\n",
      "  Max: 1.0575\n",
      "\n",
      "Boxplot for ppse_me exp_vs_pre_nomod:\n",
      "  Count: 20\n",
      "  Median: -0.0385\n",
      "  Q1 (25th percentile): -0.0931\n",
      "  Q3 (75th percentile): 0.0598\n",
      "  IQR: 0.1530\n",
      "  Lower Whisker: -0.1594\n",
      "  Upper Whisker: 0.0932\n",
      "  Min: -0.8068\n",
      "  Max: 1.1033\n",
      "\n",
      "Boxplot for ppse_me pre_mod_vs_pre_nomod:\n",
      "  Count: 20\n",
      "  Median: -0.0598\n",
      "  Q1 (25th percentile): -0.0929\n",
      "  Q3 (75th percentile): -0.0124\n",
      "  IQR: 0.0805\n",
      "  Lower Whisker: -0.1998\n",
      "  Upper Whisker: 0.0458\n",
      "  Min: -0.6453\n",
      "  Max: 0.0458\n",
      "\n",
      "Boxplot for ppse_me exp_nomod_vs_pre_nomod:\n",
      "  Count: 18\n",
      "  Median: -0.0445\n",
      "  Q1 (25th percentile): -0.1166\n",
      "  Q3 (75th percentile): 0.0166\n",
      "  IQR: 0.1332\n",
      "  Lower Whisker: -0.1983\n",
      "  Upper Whisker: 0.0680\n",
      "  Min: -0.3372\n",
      "  Max: 0.4469\n",
      "\n"
     ]
    },
    {
     "data": {
      "application/vnd.plotly.v1+json": {
       "config": {
        "plotlyServerURL": "https://plot.ly",
        "toImageButtonOptions": {
         "filename": "Facet3_Boxplot of pPSE MeanError between multiple models",
         "format": "png"
        }
       },
       "data": [
        {
         "boxpoints": "outliers",
         "line": {
          "color": "black"
         },
         "marker": {
          "color": "black"
         },
         "name": "",
         "showlegend": false,
         "type": "box",
         "xaxis": "x",
         "y": [
          0.06981274566386889,
          -0.7168187241767722,
          1.0574755979719923,
          0.553957171440869,
          0.005366886029756397,
          0.13066274178285597,
          0.1405077398295912,
          0.06502715118492688,
          0.06163155760743477,
          -0.057040068260087305,
          0.08156505712386929,
          -0.050340157172939326,
          -0.025435666312185426,
          0.09778494431917513,
          -0.12484087999072171,
          -0.04455611585810432,
          0.041812781463033,
          -0.2515429290719716,
          -0.020105583504096705,
          0.26311820541568665
         ],
         "yaxis": "y"
        },
        {
         "boxpoints": "outliers",
         "line": {
          "color": "black"
         },
         "marker": {
          "color": "black"
         },
         "name": "",
         "showlegend": false,
         "type": "box",
         "xaxis": "x2",
         "y": [
          -0.04433030538419688,
          -0.8068244222205556,
          1.1032857841367998,
          -0.09131695693529873,
          -0.0022394956837681547,
          0.0932402607175246,
          0.05867331622136591,
          0.08456153123225635,
          0.044471886055025917,
          -0.03268124203319536,
          0.06751677898466395,
          -0.05233411236348892,
          -0.06647667617412543,
          0.015614945246111782,
          -0.15937173906927277,
          -0.14632329454601117,
          -0.04512050091683236,
          -0.4041174262902897,
          -0.09861777990107867,
          0.06330292695489725
         ],
         "yaxis": "y2"
        },
        {
         "boxpoints": "outliers",
         "line": {
          "color": "black"
         },
         "marker": {
          "color": "black"
         },
         "name": "",
         "showlegend": false,
         "type": "box",
         "xaxis": "x3",
         "y": [
          -0.11414305104806577,
          -0.09000569804378336,
          0.0458101861648074,
          -0.6452741283761676,
          -0.0076063817135245525,
          -0.037422481065331366,
          -0.0818344236082253,
          0.019534380047329474,
          -0.017159671552408846,
          0.024358826226891953,
          -0.014048278139205343,
          -0.001993955190549578,
          -0.04104100986194001,
          -0.08216999907306335,
          -0.03453085907855106,
          -0.10176717868790687,
          -0.08693328237986536,
          -0.1525744972183181,
          -0.07851219639698195,
          -0.19981527846078936
         ],
         "yaxis": "y3"
        },
        {
         "boxpoints": "outliers",
         "line": {
          "color": "black"
         },
         "marker": {
          "color": "black"
         },
         "name": "",
         "showlegend": false,
         "type": "box",
         "xaxis": "x4",
         "y": [
          -0.11815888501173503,
          -0.09800561318494158,
          -0.0621494615419844,
          -0.026818335509099515,
          0.0005929509764296939,
          -0.014609194457827893,
          0.4469162360909094,
          0.3665104022773149,
          0.033904438868914547,
          0.0680216729969051,
          -0.16173133230172893,
          -0.19834670675550745,
          -0.09458642199128664,
          -0.33718285592733604,
          -0.17920593493377898,
          -0.11192094992434046,
          -0.018618122064014614,
          0.021957203634708905
         ],
         "yaxis": "y4"
        }
       ],
       "layout": {
        "annotations": [
         {
          "font": {
           "size": 24
          },
          "showarrow": false,
          "text": "EWM vs PWM",
          "x": 0.10625,
          "xanchor": "center",
          "xref": "paper",
          "y": 1,
          "yanchor": "bottom",
          "yref": "paper"
         },
         {
          "font": {
           "size": 24
          },
          "showarrow": false,
          "text": "EWM vs PWoM",
          "x": 0.36875,
          "xanchor": "center",
          "xref": "paper",
          "y": 1,
          "yanchor": "bottom",
          "yref": "paper"
         },
         {
          "font": {
           "size": 24
          },
          "showarrow": false,
          "text": "PWM vs PWoM",
          "x": 0.6312500000000001,
          "xanchor": "center",
          "xref": "paper",
          "y": 1,
          "yanchor": "bottom",
          "yref": "paper"
         },
         {
          "font": {
           "size": 24
          },
          "showarrow": false,
          "text": "EWoM vs PWoM",
          "x": 0.89375,
          "xanchor": "center",
          "xref": "paper",
          "y": 1,
          "yanchor": "bottom",
          "yref": "paper"
         }
        ],
        "font": {
         "size": 24
        },
        "height": 400,
        "margin": {
         "b": 60,
         "l": 40,
         "r": 40,
         "t": 60
        },
        "template": {
         "data": {
          "bar": [
           {
            "error_x": {
             "color": "#2a3f5f"
            },
            "error_y": {
             "color": "#2a3f5f"
            },
            "marker": {
             "line": {
              "color": "#E5ECF6",
              "width": 0.5
             },
             "pattern": {
              "fillmode": "overlay",
              "size": 10,
              "solidity": 0.2
             }
            },
            "type": "bar"
           }
          ],
          "barpolar": [
           {
            "marker": {
             "line": {
              "color": "#E5ECF6",
              "width": 0.5
             },
             "pattern": {
              "fillmode": "overlay",
              "size": 10,
              "solidity": 0.2
             }
            },
            "type": "barpolar"
           }
          ],
          "carpet": [
           {
            "aaxis": {
             "endlinecolor": "#2a3f5f",
             "gridcolor": "white",
             "linecolor": "white",
             "minorgridcolor": "white",
             "startlinecolor": "#2a3f5f"
            },
            "baxis": {
             "endlinecolor": "#2a3f5f",
             "gridcolor": "white",
             "linecolor": "white",
             "minorgridcolor": "white",
             "startlinecolor": "#2a3f5f"
            },
            "type": "carpet"
           }
          ],
          "choropleth": [
           {
            "colorbar": {
             "outlinewidth": 0,
             "ticks": ""
            },
            "type": "choropleth"
           }
          ],
          "contour": [
           {
            "colorbar": {
             "outlinewidth": 0,
             "ticks": ""
            },
            "colorscale": [
             [
              0,
              "#0d0887"
             ],
             [
              0.1111111111111111,
              "#46039f"
             ],
             [
              0.2222222222222222,
              "#7201a8"
             ],
             [
              0.3333333333333333,
              "#9c179e"
             ],
             [
              0.4444444444444444,
              "#bd3786"
             ],
             [
              0.5555555555555556,
              "#d8576b"
             ],
             [
              0.6666666666666666,
              "#ed7953"
             ],
             [
              0.7777777777777778,
              "#fb9f3a"
             ],
             [
              0.8888888888888888,
              "#fdca26"
             ],
             [
              1,
              "#f0f921"
             ]
            ],
            "type": "contour"
           }
          ],
          "contourcarpet": [
           {
            "colorbar": {
             "outlinewidth": 0,
             "ticks": ""
            },
            "type": "contourcarpet"
           }
          ],
          "heatmap": [
           {
            "colorbar": {
             "outlinewidth": 0,
             "ticks": ""
            },
            "colorscale": [
             [
              0,
              "#0d0887"
             ],
             [
              0.1111111111111111,
              "#46039f"
             ],
             [
              0.2222222222222222,
              "#7201a8"
             ],
             [
              0.3333333333333333,
              "#9c179e"
             ],
             [
              0.4444444444444444,
              "#bd3786"
             ],
             [
              0.5555555555555556,
              "#d8576b"
             ],
             [
              0.6666666666666666,
              "#ed7953"
             ],
             [
              0.7777777777777778,
              "#fb9f3a"
             ],
             [
              0.8888888888888888,
              "#fdca26"
             ],
             [
              1,
              "#f0f921"
             ]
            ],
            "type": "heatmap"
           }
          ],
          "histogram": [
           {
            "marker": {
             "pattern": {
              "fillmode": "overlay",
              "size": 10,
              "solidity": 0.2
             }
            },
            "type": "histogram"
           }
          ],
          "histogram2d": [
           {
            "colorbar": {
             "outlinewidth": 0,
             "ticks": ""
            },
            "colorscale": [
             [
              0,
              "#0d0887"
             ],
             [
              0.1111111111111111,
              "#46039f"
             ],
             [
              0.2222222222222222,
              "#7201a8"
             ],
             [
              0.3333333333333333,
              "#9c179e"
             ],
             [
              0.4444444444444444,
              "#bd3786"
             ],
             [
              0.5555555555555556,
              "#d8576b"
             ],
             [
              0.6666666666666666,
              "#ed7953"
             ],
             [
              0.7777777777777778,
              "#fb9f3a"
             ],
             [
              0.8888888888888888,
              "#fdca26"
             ],
             [
              1,
              "#f0f921"
             ]
            ],
            "type": "histogram2d"
           }
          ],
          "histogram2dcontour": [
           {
            "colorbar": {
             "outlinewidth": 0,
             "ticks": ""
            },
            "colorscale": [
             [
              0,
              "#0d0887"
             ],
             [
              0.1111111111111111,
              "#46039f"
             ],
             [
              0.2222222222222222,
              "#7201a8"
             ],
             [
              0.3333333333333333,
              "#9c179e"
             ],
             [
              0.4444444444444444,
              "#bd3786"
             ],
             [
              0.5555555555555556,
              "#d8576b"
             ],
             [
              0.6666666666666666,
              "#ed7953"
             ],
             [
              0.7777777777777778,
              "#fb9f3a"
             ],
             [
              0.8888888888888888,
              "#fdca26"
             ],
             [
              1,
              "#f0f921"
             ]
            ],
            "type": "histogram2dcontour"
           }
          ],
          "mesh3d": [
           {
            "colorbar": {
             "outlinewidth": 0,
             "ticks": ""
            },
            "type": "mesh3d"
           }
          ],
          "parcoords": [
           {
            "line": {
             "colorbar": {
              "outlinewidth": 0,
              "ticks": ""
             }
            },
            "type": "parcoords"
           }
          ],
          "pie": [
           {
            "automargin": true,
            "type": "pie"
           }
          ],
          "scatter": [
           {
            "fillpattern": {
             "fillmode": "overlay",
             "size": 10,
             "solidity": 0.2
            },
            "type": "scatter"
           }
          ],
          "scatter3d": [
           {
            "line": {
             "colorbar": {
              "outlinewidth": 0,
              "ticks": ""
             }
            },
            "marker": {
             "colorbar": {
              "outlinewidth": 0,
              "ticks": ""
             }
            },
            "type": "scatter3d"
           }
          ],
          "scattercarpet": [
           {
            "marker": {
             "colorbar": {
              "outlinewidth": 0,
              "ticks": ""
             }
            },
            "type": "scattercarpet"
           }
          ],
          "scattergeo": [
           {
            "marker": {
             "colorbar": {
              "outlinewidth": 0,
              "ticks": ""
             }
            },
            "type": "scattergeo"
           }
          ],
          "scattergl": [
           {
            "marker": {
             "colorbar": {
              "outlinewidth": 0,
              "ticks": ""
             }
            },
            "type": "scattergl"
           }
          ],
          "scattermap": [
           {
            "marker": {
             "colorbar": {
              "outlinewidth": 0,
              "ticks": ""
             }
            },
            "type": "scattermap"
           }
          ],
          "scattermapbox": [
           {
            "marker": {
             "colorbar": {
              "outlinewidth": 0,
              "ticks": ""
             }
            },
            "type": "scattermapbox"
           }
          ],
          "scatterpolar": [
           {
            "marker": {
             "colorbar": {
              "outlinewidth": 0,
              "ticks": ""
             }
            },
            "type": "scatterpolar"
           }
          ],
          "scatterpolargl": [
           {
            "marker": {
             "colorbar": {
              "outlinewidth": 0,
              "ticks": ""
             }
            },
            "type": "scatterpolargl"
           }
          ],
          "scatterternary": [
           {
            "marker": {
             "colorbar": {
              "outlinewidth": 0,
              "ticks": ""
             }
            },
            "type": "scatterternary"
           }
          ],
          "surface": [
           {
            "colorbar": {
             "outlinewidth": 0,
             "ticks": ""
            },
            "colorscale": [
             [
              0,
              "#0d0887"
             ],
             [
              0.1111111111111111,
              "#46039f"
             ],
             [
              0.2222222222222222,
              "#7201a8"
             ],
             [
              0.3333333333333333,
              "#9c179e"
             ],
             [
              0.4444444444444444,
              "#bd3786"
             ],
             [
              0.5555555555555556,
              "#d8576b"
             ],
             [
              0.6666666666666666,
              "#ed7953"
             ],
             [
              0.7777777777777778,
              "#fb9f3a"
             ],
             [
              0.8888888888888888,
              "#fdca26"
             ],
             [
              1,
              "#f0f921"
             ]
            ],
            "type": "surface"
           }
          ],
          "table": [
           {
            "cells": {
             "fill": {
              "color": "#EBF0F8"
             },
             "line": {
              "color": "white"
             }
            },
            "header": {
             "fill": {
              "color": "#C8D4E3"
             },
             "line": {
              "color": "white"
             }
            },
            "type": "table"
           }
          ]
         },
         "layout": {
          "annotationdefaults": {
           "arrowcolor": "#2a3f5f",
           "arrowhead": 0,
           "arrowwidth": 1
          },
          "autotypenumbers": "strict",
          "coloraxis": {
           "colorbar": {
            "outlinewidth": 0,
            "ticks": ""
           }
          },
          "colorscale": {
           "diverging": [
            [
             0,
             "#8e0152"
            ],
            [
             0.1,
             "#c51b7d"
            ],
            [
             0.2,
             "#de77ae"
            ],
            [
             0.3,
             "#f1b6da"
            ],
            [
             0.4,
             "#fde0ef"
            ],
            [
             0.5,
             "#f7f7f7"
            ],
            [
             0.6,
             "#e6f5d0"
            ],
            [
             0.7,
             "#b8e186"
            ],
            [
             0.8,
             "#7fbc41"
            ],
            [
             0.9,
             "#4d9221"
            ],
            [
             1,
             "#276419"
            ]
           ],
           "sequential": [
            [
             0,
             "#0d0887"
            ],
            [
             0.1111111111111111,
             "#46039f"
            ],
            [
             0.2222222222222222,
             "#7201a8"
            ],
            [
             0.3333333333333333,
             "#9c179e"
            ],
            [
             0.4444444444444444,
             "#bd3786"
            ],
            [
             0.5555555555555556,
             "#d8576b"
            ],
            [
             0.6666666666666666,
             "#ed7953"
            ],
            [
             0.7777777777777778,
             "#fb9f3a"
            ],
            [
             0.8888888888888888,
             "#fdca26"
            ],
            [
             1,
             "#f0f921"
            ]
           ],
           "sequentialminus": [
            [
             0,
             "#0d0887"
            ],
            [
             0.1111111111111111,
             "#46039f"
            ],
            [
             0.2222222222222222,
             "#7201a8"
            ],
            [
             0.3333333333333333,
             "#9c179e"
            ],
            [
             0.4444444444444444,
             "#bd3786"
            ],
            [
             0.5555555555555556,
             "#d8576b"
            ],
            [
             0.6666666666666666,
             "#ed7953"
            ],
            [
             0.7777777777777778,
             "#fb9f3a"
            ],
            [
             0.8888888888888888,
             "#fdca26"
            ],
            [
             1,
             "#f0f921"
            ]
           ]
          },
          "colorway": [
           "#636efa",
           "#EF553B",
           "#00cc96",
           "#ab63fa",
           "#FFA15A",
           "#19d3f3",
           "#FF6692",
           "#B6E880",
           "#FF97FF",
           "#FECB52"
          ],
          "font": {
           "color": "#2a3f5f"
          },
          "geo": {
           "bgcolor": "white",
           "lakecolor": "white",
           "landcolor": "#E5ECF6",
           "showlakes": true,
           "showland": true,
           "subunitcolor": "white"
          },
          "hoverlabel": {
           "align": "left"
          },
          "hovermode": "closest",
          "mapbox": {
           "style": "light"
          },
          "paper_bgcolor": "white",
          "plot_bgcolor": "#E5ECF6",
          "polar": {
           "angularaxis": {
            "gridcolor": "white",
            "linecolor": "white",
            "ticks": ""
           },
           "bgcolor": "#E5ECF6",
           "radialaxis": {
            "gridcolor": "white",
            "linecolor": "white",
            "ticks": ""
           }
          },
          "scene": {
           "xaxis": {
            "backgroundcolor": "#E5ECF6",
            "gridcolor": "white",
            "gridwidth": 2,
            "linecolor": "white",
            "showbackground": true,
            "ticks": "",
            "zerolinecolor": "white"
           },
           "yaxis": {
            "backgroundcolor": "#E5ECF6",
            "gridcolor": "white",
            "gridwidth": 2,
            "linecolor": "white",
            "showbackground": true,
            "ticks": "",
            "zerolinecolor": "white"
           },
           "zaxis": {
            "backgroundcolor": "#E5ECF6",
            "gridcolor": "white",
            "gridwidth": 2,
            "linecolor": "white",
            "showbackground": true,
            "ticks": "",
            "zerolinecolor": "white"
           }
          },
          "shapedefaults": {
           "line": {
            "color": "#2a3f5f"
           }
          },
          "ternary": {
           "aaxis": {
            "gridcolor": "white",
            "linecolor": "white",
            "ticks": ""
           },
           "baxis": {
            "gridcolor": "white",
            "linecolor": "white",
            "ticks": ""
           },
           "bgcolor": "#E5ECF6",
           "caxis": {
            "gridcolor": "white",
            "linecolor": "white",
            "ticks": ""
           }
          },
          "title": {
           "x": 0.05
          },
          "xaxis": {
           "automargin": true,
           "gridcolor": "white",
           "linecolor": "white",
           "ticks": "",
           "title": {
            "standoff": 15
           },
           "zerolinecolor": "white",
           "zerolinewidth": 2
          },
          "yaxis": {
           "automargin": true,
           "gridcolor": "white",
           "linecolor": "white",
           "ticks": "",
           "title": {
            "standoff": 15
           },
           "zerolinecolor": "white",
           "zerolinewidth": 2
          }
         }
        },
        "title": {
         "text": ""
        },
        "width": 1000,
        "xaxis": {
         "anchor": "y",
         "domain": [
          0,
          0.2125
         ],
         "showticklabels": false
        },
        "xaxis2": {
         "anchor": "y2",
         "domain": [
          0.2625,
          0.475
         ],
         "showticklabels": false
        },
        "xaxis3": {
         "anchor": "y3",
         "domain": [
          0.525,
          0.7375
         ],
         "showticklabels": false
        },
        "xaxis4": {
         "anchor": "y4",
         "domain": [
          0.7875,
          1
         ],
         "showticklabels": false
        },
        "yaxis": {
         "anchor": "x",
         "domain": [
          0,
          1
         ],
         "title": {
          "text": "pPSE ME"
         }
        },
        "yaxis2": {
         "anchor": "x2",
         "domain": [
          0,
          1
         ],
         "matches": "y",
         "showticklabels": false
        },
        "yaxis3": {
         "anchor": "x3",
         "domain": [
          0,
          1
         ],
         "matches": "y",
         "showticklabels": false
        },
        "yaxis4": {
         "anchor": "x4",
         "domain": [
          0,
          1
         ],
         "matches": "y",
         "showticklabels": false
        }
       }
      }
     },
     "metadata": {},
     "output_type": "display_data"
    }
   ],
   "source": [
    "comparison_results = {\n",
    "    \"exp_vs_pre_mod\": {\"ppse_me\": [], \"low_acc_ppse_me\":[], \"high_acc_ppse_me\":[]},\n",
    "    \"exp_vs_pre_nomod\": {\"ppse_me\": [], \"low_acc_ppse_me\":[], \"high_acc_ppse_me\":[]},\n",
    "    \"pre_mod_vs_pre_nomod\": {\"ppse_me\": [], \"low_acc_ppse_me\":[], \"high_acc_ppse_me\":[]},\n",
    "}\n",
    "\n",
    "ptms_ppse_dist = []\n",
    "\n",
    "for elem in comparisons:\n",
    "    org_name = f\"{elem[1].lower()}_org\"\n",
    "\n",
    "    mod_index = int(elem[0].split(\"_\")[-1])\n",
    "\n",
    "    org_ppse = org_dict[org_name]\n",
    "    pred_mod_ppse = group_avg_dict[elem[0]]\n",
    "    pred_nomod_ppse = group_avg_dict[elem[1]]\n",
    "\n",
    "    ptms_ppse_dist.append(pred_nomod_ppse[mod_index])\n",
    "\n",
    "    if len(org_ppse) != len(pred_mod_ppse):\n",
    "        print(\"Skipping \", elem)\n",
    "        continue\n",
    "\n",
    "    mean_error_ppse_exp_vs_pre_mod = structural_comparison_analysis.mean_error(org_ppse, pred_mod_ppse)\n",
    "    comparison_results[\"exp_vs_pre_mod\"][\"ppse_me\"].append(mean_error_ppse_exp_vs_pre_mod)\n",
    "\n",
    "    mean_error_ppse_exp_vs_pre_nomod = structural_comparison_analysis.mean_error(org_ppse, pred_nomod_ppse)\n",
    "    comparison_results[\"exp_vs_pre_nomod\"][\"ppse_me\"].append(mean_error_ppse_exp_vs_pre_nomod)\n",
    "\n",
    "    mean_error_ppse_pre_mod_vs_pre_nomod = structural_comparison_analysis.mean_error(pred_mod_ppse, pred_nomod_ppse)\n",
    "    comparison_results[\"pre_mod_vs_pre_nomod\"][\"ppse_me\"].append(mean_error_ppse_pre_mod_vs_pre_nomod)\n",
    "\n",
    "fig = go.Figure()\n",
    "\n",
    "fig.add_trace(go.Box(\n",
    "    y=ptms_ppse_dist,\n",
    "    x=[\"\"] * len(ptms_ppse_dist),\n",
    "    boxpoints='outliers',\n",
    "    marker_color='black',\n",
    "    line_color='black',\n",
    "))\n",
    "\n",
    "\n",
    "fig.update_layout(\n",
    "    title='Box Plot of pPSE (smoothed) distribution of PTMs',\n",
    "    yaxis_title='pPSE of PTM',\n",
    "    width=600,  \n",
    ")\n",
    "\n",
    "fig.show()\n",
    "comparison_results[\"exp_nomod_vs_pre_nomod\"] = comparison_results_exp_nomod_ppse[\"exp_vs_pre_nomod\"]\n",
    "\n",
    "comparison_results_exp_nomod_ppse\n",
    "comparison_label_map = {\n",
    "        \"exp_vs_pre_mod\": \"EWM vs PWM\",\n",
    "        \"exp_vs_pre_nomod\": \"EWM vs PWoM\",\n",
    "        \"pre_mod_vs_pre_nomod\": \"PWM vs PWoM\",\n",
    "        \"exp_nomod_vs_pre_nomod\": \"EWoM vs PWoM\",\n",
    "    }\n",
    "\n",
    "\n",
    "custom_colors = {\n",
    "    \"(Experimental_with_Mod, Predicted_with_Mod)\": \"#3f7f3f\",\n",
    "    \"(Experimental_with_Mod, Predicted_without_Mod)\": \"#75eb75\",\n",
    "    \"(Predicted_with_Mod, Predicted_without_Mod)\": \"purple\",\n",
    "    \"(Experimental_without_Mod, Predicted_without_Mod)\": \"#ffd700\" \n",
    "}\n",
    "\n",
    "box_plot_diff_results_nocolor(comparison_results, comparison_label_map, \"ppse_me\", \"pPSE ME\", \"Facet3_Boxplot of pPSE MeanError between multiple models\")"
   ]
  }
 ],
 "metadata": {
  "kernelspec": {
   "display_name": "venv",
   "language": "python",
   "name": "python3"
  },
  "language_info": {
   "codemirror_mode": {
    "name": "ipython",
    "version": 3
   },
   "file_extension": ".py",
   "mimetype": "text/x-python",
   "name": "python",
   "nbconvert_exporter": "python",
   "pygments_lexer": "ipython3",
   "version": "3.9.1"
  }
 },
 "nbformat": 4,
 "nbformat_minor": 5
}
